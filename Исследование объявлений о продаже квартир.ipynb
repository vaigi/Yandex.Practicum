{
 "cells": [
  {
   "cell_type": "markdown",
   "metadata": {
    "toc": true
   },
   "source": [
    "<h1>Содержание<span class=\"tocSkip\"></span></h1>\n",
    "<div class=\"toc\"><ul class=\"toc-item\"><li><span><a href=\"#Изучение-данных-из-файла\" data-toc-modified-id=\"Изучение-данных-из-файла-1\"><span class=\"toc-item-num\">1&nbsp;&nbsp;</span>Изучение данных из файла</a></span>\n",
    "    <li><span><a href=\"#Предобработка-данных\" data-toc-modified-id=\"Предобработка-данных-2\"><span class=\"toc-item-num\">2&nbsp;&nbsp;</span>Предобработка данных</a></span></li>\n",
    "    <li><span><a href=\"#Расчёты-и-добавление-результатов-в-таблицу\" data-toc-modified-id=\"Расчёты-и-добавление-результатов-в-таблицу-3\"><span class=\"toc-item-num\">3&nbsp;&nbsp;</span>Расчёты и добавление результатов в таблицу</a></span></li><li><span><a href=\"#Исследовательский-анализ-данных\" data-toc-modified-id=\"Исследовательский-анализ-данных-4\"><span class=\"toc-item-num\">4&nbsp;&nbsp;</span>Исследовательский анализ данных</a></span></li><li><span><a href=\"#Общий-вывод\" data-toc-modified-id=\"Общий-вывод-5\"><span class=\"toc-item-num\">5&nbsp;&nbsp;</span>Общий вывод</a></span></li>"
   ]
  },
  {
   "cell_type": "markdown",
   "metadata": {},
   "source": [
    "# Исследование объявлений о продаже квартир\n",
    "\n",
    "В вашем распоряжении данные сервиса Яндекc Недвижимость — архив объявлений о продаже квартир в Санкт-Петербурге и соседних населённых пунктах за несколько лет. Нужно научиться определять рыночную стоимость объектов недвижимости. Задача — установить параметры. Это позволит построить автоматизированную систему: она отследит аномалии и мошенническую деятельность. \n",
    "\n",
    "По каждой квартире на продажу доступны два вида данных. Первые вписаны пользователем, вторые получены автоматически на основе картографических данных. Например, расстояние до центра, аэропорта, ближайшего парка и водоёма. "
   ]
  },
  {
   "cell_type": "markdown",
   "metadata": {},
   "source": [
    "## Изучение данных из файла"
   ]
  },
  {
   "cell_type": "markdown",
   "metadata": {},
   "source": [
    "Откроем датасет и ознакомимся с данными при помощи методов info() и describe()."
   ]
  },
  {
   "cell_type": "markdown",
   "metadata": {},
   "source": [
    "**Описание данных:**\n",
    "\n",
    "airports_nearest — расстояние до ближайшего аэропорта в метрах (м)<br>\n",
    "balcony — число балконов<br>\n",
    "ceiling_height — высота потолков (м)<br>\n",
    "cityCenters_nearest — расстояние до центра города (м)<br>\n",
    "days_exposition — сколько дней было размещено объявление (от публикации до снятия)<br>\n",
    "first_day_exposition — дата публикации<br>\n",
    "floor — этаж<br>\n",
    "floors_total — всего этажей в доме<br>\n",
    "is_apartment — апартаменты (булев тип)<br>\n",
    "kitchen_area — площадь кухни в квадратных метрах (м²)<br>\n",
    "last_price — цена на момент снятия с публикации<br>\n",
    "living_area — жилая площадь в квадратных метрах (м²)<br>\n",
    "locality_name — название населённого пункта<br>\n",
    "open_plan — свободная планировка (булев тип)<br>\n",
    "parks_around3000 — число парков в радиусе 3 км<br>\n",
    "parks_nearest — расстояние до ближайшего парка (м)<br>\n",
    "ponds_around3000 — число водоёмов в радиусе 3 км<br>\n",
    "ponds_nearest — расстояние до ближайшего водоёма (м)<br>\n",
    "rooms — число комнат<br>\n",
    "studio — квартира-студия (булев тип)<br>\n",
    "total_area — площадь квартиры в квадратных метрах (м²)<br>\n",
    "total_images — число фотографий квартиры в объявлении<br>\n",
    "Пояснение: апартаменты — это нежилые помещения, которые не относятся к жилому фонду, но имеют необходимые условия для проживания.\n"
   ]
  },
  {
   "cell_type": "code",
   "execution_count": 204,
   "metadata": {},
   "outputs": [],
   "source": [
    "import pandas as pd\n",
    "import matplotlib.pyplot as plt\n",
    "import warnings\n",
    "warnings.filterwarnings(\"ignore\")\n",
    "\n",
    "pd.set_option(\"display.max_columns\", None) #снимаем ограничения по количеству столбцов, выводимых на экран для длинного датесета\n",
    "pd.set_option('display.float_format', '{:,.2f}'.format) #чтобы избавиться от лишних запятых при работе метода `describe` и убрать экспоненциальные формы"
   ]
  },
  {
   "cell_type": "code",
   "execution_count": 131,
   "metadata": {},
   "outputs": [
    {
     "data": {
      "text/html": [
       "<div>\n",
       "<style scoped>\n",
       "    .dataframe tbody tr th:only-of-type {\n",
       "        vertical-align: middle;\n",
       "    }\n",
       "\n",
       "    .dataframe tbody tr th {\n",
       "        vertical-align: top;\n",
       "    }\n",
       "\n",
       "    .dataframe thead th {\n",
       "        text-align: right;\n",
       "    }\n",
       "</style>\n",
       "<table border=\"1\" class=\"dataframe\">\n",
       "  <thead>\n",
       "    <tr style=\"text-align: right;\">\n",
       "      <th></th>\n",
       "      <th>total_images</th>\n",
       "      <th>last_price</th>\n",
       "      <th>total_area</th>\n",
       "      <th>first_day_exposition</th>\n",
       "      <th>rooms</th>\n",
       "      <th>ceiling_height</th>\n",
       "      <th>floors_total</th>\n",
       "      <th>living_area</th>\n",
       "      <th>floor</th>\n",
       "      <th>is_apartment</th>\n",
       "      <th>studio</th>\n",
       "      <th>open_plan</th>\n",
       "      <th>kitchen_area</th>\n",
       "      <th>balcony</th>\n",
       "      <th>locality_name</th>\n",
       "      <th>airports_nearest</th>\n",
       "      <th>cityCenters_nearest</th>\n",
       "      <th>parks_around3000</th>\n",
       "      <th>parks_nearest</th>\n",
       "      <th>ponds_around3000</th>\n",
       "      <th>ponds_nearest</th>\n",
       "      <th>days_exposition</th>\n",
       "    </tr>\n",
       "  </thead>\n",
       "  <tbody>\n",
       "    <tr>\n",
       "      <th>0</th>\n",
       "      <td>20</td>\n",
       "      <td>13,000,000.00</td>\n",
       "      <td>108.00</td>\n",
       "      <td>2019-03-07T00:00:00</td>\n",
       "      <td>3</td>\n",
       "      <td>2.70</td>\n",
       "      <td>16.00</td>\n",
       "      <td>51.00</td>\n",
       "      <td>8</td>\n",
       "      <td>NaN</td>\n",
       "      <td>False</td>\n",
       "      <td>False</td>\n",
       "      <td>25.00</td>\n",
       "      <td>NaN</td>\n",
       "      <td>Санкт-Петербург</td>\n",
       "      <td>18,863.00</td>\n",
       "      <td>16,028.00</td>\n",
       "      <td>1.00</td>\n",
       "      <td>482.00</td>\n",
       "      <td>2.00</td>\n",
       "      <td>755.00</td>\n",
       "      <td>NaN</td>\n",
       "    </tr>\n",
       "    <tr>\n",
       "      <th>1</th>\n",
       "      <td>7</td>\n",
       "      <td>3,350,000.00</td>\n",
       "      <td>40.40</td>\n",
       "      <td>2018-12-04T00:00:00</td>\n",
       "      <td>1</td>\n",
       "      <td>NaN</td>\n",
       "      <td>11.00</td>\n",
       "      <td>18.60</td>\n",
       "      <td>1</td>\n",
       "      <td>NaN</td>\n",
       "      <td>False</td>\n",
       "      <td>False</td>\n",
       "      <td>11.00</td>\n",
       "      <td>2.00</td>\n",
       "      <td>посёлок Шушары</td>\n",
       "      <td>12,817.00</td>\n",
       "      <td>18,603.00</td>\n",
       "      <td>0.00</td>\n",
       "      <td>NaN</td>\n",
       "      <td>0.00</td>\n",
       "      <td>NaN</td>\n",
       "      <td>81.00</td>\n",
       "    </tr>\n",
       "    <tr>\n",
       "      <th>2</th>\n",
       "      <td>10</td>\n",
       "      <td>5,196,000.00</td>\n",
       "      <td>56.00</td>\n",
       "      <td>2015-08-20T00:00:00</td>\n",
       "      <td>2</td>\n",
       "      <td>NaN</td>\n",
       "      <td>5.00</td>\n",
       "      <td>34.30</td>\n",
       "      <td>4</td>\n",
       "      <td>NaN</td>\n",
       "      <td>False</td>\n",
       "      <td>False</td>\n",
       "      <td>8.30</td>\n",
       "      <td>0.00</td>\n",
       "      <td>Санкт-Петербург</td>\n",
       "      <td>21,741.00</td>\n",
       "      <td>13,933.00</td>\n",
       "      <td>1.00</td>\n",
       "      <td>90.00</td>\n",
       "      <td>2.00</td>\n",
       "      <td>574.00</td>\n",
       "      <td>558.00</td>\n",
       "    </tr>\n",
       "    <tr>\n",
       "      <th>3</th>\n",
       "      <td>0</td>\n",
       "      <td>64,900,000.00</td>\n",
       "      <td>159.00</td>\n",
       "      <td>2015-07-24T00:00:00</td>\n",
       "      <td>3</td>\n",
       "      <td>NaN</td>\n",
       "      <td>14.00</td>\n",
       "      <td>NaN</td>\n",
       "      <td>9</td>\n",
       "      <td>NaN</td>\n",
       "      <td>False</td>\n",
       "      <td>False</td>\n",
       "      <td>NaN</td>\n",
       "      <td>0.00</td>\n",
       "      <td>Санкт-Петербург</td>\n",
       "      <td>28,098.00</td>\n",
       "      <td>6,800.00</td>\n",
       "      <td>2.00</td>\n",
       "      <td>84.00</td>\n",
       "      <td>3.00</td>\n",
       "      <td>234.00</td>\n",
       "      <td>424.00</td>\n",
       "    </tr>\n",
       "    <tr>\n",
       "      <th>4</th>\n",
       "      <td>2</td>\n",
       "      <td>10,000,000.00</td>\n",
       "      <td>100.00</td>\n",
       "      <td>2018-06-19T00:00:00</td>\n",
       "      <td>2</td>\n",
       "      <td>3.03</td>\n",
       "      <td>14.00</td>\n",
       "      <td>32.00</td>\n",
       "      <td>13</td>\n",
       "      <td>NaN</td>\n",
       "      <td>False</td>\n",
       "      <td>False</td>\n",
       "      <td>41.00</td>\n",
       "      <td>NaN</td>\n",
       "      <td>Санкт-Петербург</td>\n",
       "      <td>31,856.00</td>\n",
       "      <td>8,098.00</td>\n",
       "      <td>2.00</td>\n",
       "      <td>112.00</td>\n",
       "      <td>1.00</td>\n",
       "      <td>48.00</td>\n",
       "      <td>121.00</td>\n",
       "    </tr>\n",
       "  </tbody>\n",
       "</table>\n",
       "</div>"
      ],
      "text/plain": [
       "   total_images    last_price  total_area first_day_exposition  rooms  \\\n",
       "0            20 13,000,000.00      108.00  2019-03-07T00:00:00      3   \n",
       "1             7  3,350,000.00       40.40  2018-12-04T00:00:00      1   \n",
       "2            10  5,196,000.00       56.00  2015-08-20T00:00:00      2   \n",
       "3             0 64,900,000.00      159.00  2015-07-24T00:00:00      3   \n",
       "4             2 10,000,000.00      100.00  2018-06-19T00:00:00      2   \n",
       "\n",
       "   ceiling_height  floors_total  living_area  floor is_apartment  studio  \\\n",
       "0            2.70         16.00        51.00      8          NaN   False   \n",
       "1             NaN         11.00        18.60      1          NaN   False   \n",
       "2             NaN          5.00        34.30      4          NaN   False   \n",
       "3             NaN         14.00          NaN      9          NaN   False   \n",
       "4            3.03         14.00        32.00     13          NaN   False   \n",
       "\n",
       "   open_plan  kitchen_area  balcony    locality_name  airports_nearest  \\\n",
       "0      False         25.00      NaN  Санкт-Петербург         18,863.00   \n",
       "1      False         11.00     2.00   посёлок Шушары         12,817.00   \n",
       "2      False          8.30     0.00  Санкт-Петербург         21,741.00   \n",
       "3      False           NaN     0.00  Санкт-Петербург         28,098.00   \n",
       "4      False         41.00      NaN  Санкт-Петербург         31,856.00   \n",
       "\n",
       "   cityCenters_nearest  parks_around3000  parks_nearest  ponds_around3000  \\\n",
       "0            16,028.00              1.00         482.00              2.00   \n",
       "1            18,603.00              0.00            NaN              0.00   \n",
       "2            13,933.00              1.00          90.00              2.00   \n",
       "3             6,800.00              2.00          84.00              3.00   \n",
       "4             8,098.00              2.00         112.00              1.00   \n",
       "\n",
       "   ponds_nearest  days_exposition  \n",
       "0         755.00              NaN  \n",
       "1            NaN            81.00  \n",
       "2         574.00           558.00  \n",
       "3         234.00           424.00  \n",
       "4          48.00           121.00  "
      ]
     },
     "execution_count": 131,
     "metadata": {},
     "output_type": "execute_result"
    }
   ],
   "source": [
    "try:\n",
    "        data = pd.read_csv('/datasets/real_estate_data.csv', sep='\\t')\n",
    "except:\n",
    "        data = pd.read_csv('real_estate_data.csv', sep='\\t')\n",
    "\n",
    "data.head()"
   ]
  },
  {
   "cell_type": "code",
   "execution_count": 132,
   "metadata": {},
   "outputs": [
    {
     "name": "stdout",
     "output_type": "stream",
     "text": [
      "<class 'pandas.core.frame.DataFrame'>\n",
      "RangeIndex: 23699 entries, 0 to 23698\n",
      "Data columns (total 22 columns):\n",
      " #   Column                Non-Null Count  Dtype  \n",
      "---  ------                --------------  -----  \n",
      " 0   total_images          23699 non-null  int64  \n",
      " 1   last_price            23699 non-null  float64\n",
      " 2   total_area            23699 non-null  float64\n",
      " 3   first_day_exposition  23699 non-null  object \n",
      " 4   rooms                 23699 non-null  int64  \n",
      " 5   ceiling_height        14504 non-null  float64\n",
      " 6   floors_total          23613 non-null  float64\n",
      " 7   living_area           21796 non-null  float64\n",
      " 8   floor                 23699 non-null  int64  \n",
      " 9   is_apartment          2775 non-null   object \n",
      " 10  studio                23699 non-null  bool   \n",
      " 11  open_plan             23699 non-null  bool   \n",
      " 12  kitchen_area          21421 non-null  float64\n",
      " 13  balcony               12180 non-null  float64\n",
      " 14  locality_name         23650 non-null  object \n",
      " 15  airports_nearest      18157 non-null  float64\n",
      " 16  cityCenters_nearest   18180 non-null  float64\n",
      " 17  parks_around3000      18181 non-null  float64\n",
      " 18  parks_nearest         8079 non-null   float64\n",
      " 19  ponds_around3000      18181 non-null  float64\n",
      " 20  ponds_nearest         9110 non-null   float64\n",
      " 21  days_exposition       20518 non-null  float64\n",
      "dtypes: bool(2), float64(14), int64(3), object(3)\n",
      "memory usage: 3.7+ MB\n"
     ]
    }
   ],
   "source": [
    "data.info()"
   ]
  },
  {
   "cell_type": "code",
   "execution_count": 133,
   "metadata": {},
   "outputs": [
    {
     "data": {
      "text/html": [
       "<div>\n",
       "<style scoped>\n",
       "    .dataframe tbody tr th:only-of-type {\n",
       "        vertical-align: middle;\n",
       "    }\n",
       "\n",
       "    .dataframe tbody tr th {\n",
       "        vertical-align: top;\n",
       "    }\n",
       "\n",
       "    .dataframe thead th {\n",
       "        text-align: right;\n",
       "    }\n",
       "</style>\n",
       "<table border=\"1\" class=\"dataframe\">\n",
       "  <thead>\n",
       "    <tr style=\"text-align: right;\">\n",
       "      <th></th>\n",
       "      <th>total_images</th>\n",
       "      <th>last_price</th>\n",
       "      <th>total_area</th>\n",
       "      <th>rooms</th>\n",
       "      <th>ceiling_height</th>\n",
       "      <th>floors_total</th>\n",
       "      <th>living_area</th>\n",
       "      <th>floor</th>\n",
       "      <th>kitchen_area</th>\n",
       "      <th>balcony</th>\n",
       "      <th>airports_nearest</th>\n",
       "      <th>cityCenters_nearest</th>\n",
       "      <th>parks_around3000</th>\n",
       "      <th>parks_nearest</th>\n",
       "      <th>ponds_around3000</th>\n",
       "      <th>ponds_nearest</th>\n",
       "      <th>days_exposition</th>\n",
       "    </tr>\n",
       "  </thead>\n",
       "  <tbody>\n",
       "    <tr>\n",
       "      <th>count</th>\n",
       "      <td>23,699.00</td>\n",
       "      <td>23,699.00</td>\n",
       "      <td>23,699.00</td>\n",
       "      <td>23,699.00</td>\n",
       "      <td>14,504.00</td>\n",
       "      <td>23,613.00</td>\n",
       "      <td>21,796.00</td>\n",
       "      <td>23,699.00</td>\n",
       "      <td>21,421.00</td>\n",
       "      <td>12,180.00</td>\n",
       "      <td>18,157.00</td>\n",
       "      <td>18,180.00</td>\n",
       "      <td>18,181.00</td>\n",
       "      <td>8,079.00</td>\n",
       "      <td>18,181.00</td>\n",
       "      <td>9,110.00</td>\n",
       "      <td>20,518.00</td>\n",
       "    </tr>\n",
       "    <tr>\n",
       "      <th>mean</th>\n",
       "      <td>9.86</td>\n",
       "      <td>6,541,548.77</td>\n",
       "      <td>60.35</td>\n",
       "      <td>2.07</td>\n",
       "      <td>2.77</td>\n",
       "      <td>10.67</td>\n",
       "      <td>34.46</td>\n",
       "      <td>5.89</td>\n",
       "      <td>10.57</td>\n",
       "      <td>1.15</td>\n",
       "      <td>28,793.67</td>\n",
       "      <td>14,191.28</td>\n",
       "      <td>0.61</td>\n",
       "      <td>490.80</td>\n",
       "      <td>0.77</td>\n",
       "      <td>517.98</td>\n",
       "      <td>180.89</td>\n",
       "    </tr>\n",
       "    <tr>\n",
       "      <th>std</th>\n",
       "      <td>5.68</td>\n",
       "      <td>10,887,013.27</td>\n",
       "      <td>35.65</td>\n",
       "      <td>1.08</td>\n",
       "      <td>1.26</td>\n",
       "      <td>6.60</td>\n",
       "      <td>22.03</td>\n",
       "      <td>4.89</td>\n",
       "      <td>5.91</td>\n",
       "      <td>1.07</td>\n",
       "      <td>12,630.88</td>\n",
       "      <td>8,608.39</td>\n",
       "      <td>0.80</td>\n",
       "      <td>342.32</td>\n",
       "      <td>0.94</td>\n",
       "      <td>277.72</td>\n",
       "      <td>219.73</td>\n",
       "    </tr>\n",
       "    <tr>\n",
       "      <th>min</th>\n",
       "      <td>0.00</td>\n",
       "      <td>12,190.00</td>\n",
       "      <td>12.00</td>\n",
       "      <td>0.00</td>\n",
       "      <td>1.00</td>\n",
       "      <td>1.00</td>\n",
       "      <td>2.00</td>\n",
       "      <td>1.00</td>\n",
       "      <td>1.30</td>\n",
       "      <td>0.00</td>\n",
       "      <td>0.00</td>\n",
       "      <td>181.00</td>\n",
       "      <td>0.00</td>\n",
       "      <td>1.00</td>\n",
       "      <td>0.00</td>\n",
       "      <td>13.00</td>\n",
       "      <td>1.00</td>\n",
       "    </tr>\n",
       "    <tr>\n",
       "      <th>25%</th>\n",
       "      <td>6.00</td>\n",
       "      <td>3,400,000.00</td>\n",
       "      <td>40.00</td>\n",
       "      <td>1.00</td>\n",
       "      <td>2.52</td>\n",
       "      <td>5.00</td>\n",
       "      <td>18.60</td>\n",
       "      <td>2.00</td>\n",
       "      <td>7.00</td>\n",
       "      <td>0.00</td>\n",
       "      <td>18,585.00</td>\n",
       "      <td>9,238.00</td>\n",
       "      <td>0.00</td>\n",
       "      <td>288.00</td>\n",
       "      <td>0.00</td>\n",
       "      <td>294.00</td>\n",
       "      <td>45.00</td>\n",
       "    </tr>\n",
       "    <tr>\n",
       "      <th>50%</th>\n",
       "      <td>9.00</td>\n",
       "      <td>4,650,000.00</td>\n",
       "      <td>52.00</td>\n",
       "      <td>2.00</td>\n",
       "      <td>2.65</td>\n",
       "      <td>9.00</td>\n",
       "      <td>30.00</td>\n",
       "      <td>4.00</td>\n",
       "      <td>9.10</td>\n",
       "      <td>1.00</td>\n",
       "      <td>26,726.00</td>\n",
       "      <td>13,098.50</td>\n",
       "      <td>0.00</td>\n",
       "      <td>455.00</td>\n",
       "      <td>1.00</td>\n",
       "      <td>502.00</td>\n",
       "      <td>95.00</td>\n",
       "    </tr>\n",
       "    <tr>\n",
       "      <th>75%</th>\n",
       "      <td>14.00</td>\n",
       "      <td>6,800,000.00</td>\n",
       "      <td>69.90</td>\n",
       "      <td>3.00</td>\n",
       "      <td>2.80</td>\n",
       "      <td>16.00</td>\n",
       "      <td>42.30</td>\n",
       "      <td>8.00</td>\n",
       "      <td>12.00</td>\n",
       "      <td>2.00</td>\n",
       "      <td>37,273.00</td>\n",
       "      <td>16,293.00</td>\n",
       "      <td>1.00</td>\n",
       "      <td>612.00</td>\n",
       "      <td>1.00</td>\n",
       "      <td>729.00</td>\n",
       "      <td>232.00</td>\n",
       "    </tr>\n",
       "    <tr>\n",
       "      <th>max</th>\n",
       "      <td>50.00</td>\n",
       "      <td>763,000,000.00</td>\n",
       "      <td>900.00</td>\n",
       "      <td>19.00</td>\n",
       "      <td>100.00</td>\n",
       "      <td>60.00</td>\n",
       "      <td>409.70</td>\n",
       "      <td>33.00</td>\n",
       "      <td>112.00</td>\n",
       "      <td>5.00</td>\n",
       "      <td>84,869.00</td>\n",
       "      <td>65,968.00</td>\n",
       "      <td>3.00</td>\n",
       "      <td>3,190.00</td>\n",
       "      <td>3.00</td>\n",
       "      <td>1,344.00</td>\n",
       "      <td>1,580.00</td>\n",
       "    </tr>\n",
       "  </tbody>\n",
       "</table>\n",
       "</div>"
      ],
      "text/plain": [
       "       total_images     last_price  total_area     rooms  ceiling_height  \\\n",
       "count     23,699.00      23,699.00   23,699.00 23,699.00       14,504.00   \n",
       "mean           9.86   6,541,548.77       60.35      2.07            2.77   \n",
       "std            5.68  10,887,013.27       35.65      1.08            1.26   \n",
       "min            0.00      12,190.00       12.00      0.00            1.00   \n",
       "25%            6.00   3,400,000.00       40.00      1.00            2.52   \n",
       "50%            9.00   4,650,000.00       52.00      2.00            2.65   \n",
       "75%           14.00   6,800,000.00       69.90      3.00            2.80   \n",
       "max           50.00 763,000,000.00      900.00     19.00          100.00   \n",
       "\n",
       "       floors_total  living_area     floor  kitchen_area   balcony  \\\n",
       "count     23,613.00    21,796.00 23,699.00     21,421.00 12,180.00   \n",
       "mean          10.67        34.46      5.89         10.57      1.15   \n",
       "std            6.60        22.03      4.89          5.91      1.07   \n",
       "min            1.00         2.00      1.00          1.30      0.00   \n",
       "25%            5.00        18.60      2.00          7.00      0.00   \n",
       "50%            9.00        30.00      4.00          9.10      1.00   \n",
       "75%           16.00        42.30      8.00         12.00      2.00   \n",
       "max           60.00       409.70     33.00        112.00      5.00   \n",
       "\n",
       "       airports_nearest  cityCenters_nearest  parks_around3000  parks_nearest  \\\n",
       "count         18,157.00            18,180.00         18,181.00       8,079.00   \n",
       "mean          28,793.67            14,191.28              0.61         490.80   \n",
       "std           12,630.88             8,608.39              0.80         342.32   \n",
       "min                0.00               181.00              0.00           1.00   \n",
       "25%           18,585.00             9,238.00              0.00         288.00   \n",
       "50%           26,726.00            13,098.50              0.00         455.00   \n",
       "75%           37,273.00            16,293.00              1.00         612.00   \n",
       "max           84,869.00            65,968.00              3.00       3,190.00   \n",
       "\n",
       "       ponds_around3000  ponds_nearest  days_exposition  \n",
       "count         18,181.00       9,110.00        20,518.00  \n",
       "mean               0.77         517.98           180.89  \n",
       "std                0.94         277.72           219.73  \n",
       "min                0.00          13.00             1.00  \n",
       "25%                0.00         294.00            45.00  \n",
       "50%                1.00         502.00            95.00  \n",
       "75%                1.00         729.00           232.00  \n",
       "max                3.00       1,344.00         1,580.00  "
      ]
     },
     "execution_count": 133,
     "metadata": {},
     "output_type": "execute_result"
    }
   ],
   "source": [
    "data.describe()"
   ]
  },
  {
   "cell_type": "markdown",
   "metadata": {},
   "source": [
    "Посчитаем число пропусков в каждом столбце методом isna()."
   ]
  },
  {
   "cell_type": "code",
   "execution_count": 134,
   "metadata": {},
   "outputs": [
    {
     "data": {
      "text/plain": [
       "total_images           0.00\n",
       "last_price             0.00\n",
       "total_area             0.00\n",
       "first_day_exposition   0.00\n",
       "rooms                  0.00\n",
       "ceiling_height         0.39\n",
       "floors_total           0.00\n",
       "living_area            0.08\n",
       "floor                  0.00\n",
       "is_apartment           0.88\n",
       "studio                 0.00\n",
       "open_plan              0.00\n",
       "kitchen_area           0.10\n",
       "balcony                0.49\n",
       "locality_name          0.00\n",
       "airports_nearest       0.23\n",
       "cityCenters_nearest    0.23\n",
       "parks_around3000       0.23\n",
       "parks_nearest          0.66\n",
       "ponds_around3000       0.23\n",
       "ponds_nearest          0.62\n",
       "days_exposition        0.13\n",
       "dtype: float64"
      ]
     },
     "execution_count": 134,
     "metadata": {},
     "output_type": "execute_result"
    }
   ],
   "source": [
    "data.isna().mean()"
   ]
  },
  {
   "cell_type": "markdown",
   "metadata": {},
   "source": [
    "### Вывод"
   ]
  },
  {
   "cell_type": "markdown",
   "metadata": {},
   "source": [
    "Исходная таблица состоит из 22 столбцов и 23699 строк. \n",
    "Присутствуют разные типы данных: int64, float64, object, bool.\n",
    "Название столбца cityCenters_nearest лучше изменить, используя нижний регистр.\n",
    "В столбце first_day_exposition содержатся даты.\n",
    "Есть пропуски в данных.\n",
    "В таблице содержатся аномальные данные:\n",
    "    минимальная высота потолков 1 м;\n",
    "    максимальная высота потолков 100 м;\n",
    "    количество комнат 0;\n",
    "    количество балконов 0;\n",
    "    расстояние до ближайшего аэропорта 0.\n",
    "    \n",
    "    "
   ]
  },
  {
   "cell_type": "markdown",
   "metadata": {},
   "source": [
    "## Предобработка данных"
   ]
  },
  {
   "cell_type": "markdown",
   "metadata": {},
   "source": [
    "Переименуем столбец 'cityCenters_nearest'."
   ]
  },
  {
   "cell_type": "code",
   "execution_count": 135,
   "metadata": {},
   "outputs": [
    {
     "data": {
      "text/plain": [
       "0   16,028.00\n",
       "1   18,603.00\n",
       "2   13,933.00\n",
       "3    6,800.00\n",
       "4    8,098.00\n",
       "Name: city_centers_nearest, dtype: float64"
      ]
     },
     "execution_count": 135,
     "metadata": {},
     "output_type": "execute_result"
    }
   ],
   "source": [
    "data = data.rename(columns={'cityCenters_nearest':'city_centers_nearest'})\n",
    "data['city_centers_nearest'].head()"
   ]
  },
  {
   "cell_type": "markdown",
   "metadata": {},
   "source": [
    "**Обработаем пропуски.**\n",
    "\n",
    "1. Заменим пропуски в столбце 'balcony'  на 0, т.к., если человек не указал число балконов — скорее всего, их нет."
   ]
  },
  {
   "cell_type": "code",
   "execution_count": 136,
   "metadata": {},
   "outputs": [
    {
     "data": {
      "text/plain": [
       "array([nan,  2.,  0.,  1.,  5.,  4.,  3.])"
      ]
     },
     "execution_count": 136,
     "metadata": {},
     "output_type": "execute_result"
    }
   ],
   "source": [
    "data['balcony'].unique()"
   ]
  },
  {
   "cell_type": "code",
   "execution_count": 137,
   "metadata": {},
   "outputs": [
    {
     "data": {
      "text/plain": [
       "array([0., 2., 1., 5., 4., 3.])"
      ]
     },
     "execution_count": 137,
     "metadata": {},
     "output_type": "execute_result"
    }
   ],
   "source": [
    "data['balcony'] = data['balcony'].fillna(0)\n",
    "data['balcony'].unique()"
   ]
  },
  {
   "cell_type": "markdown",
   "metadata": {},
   "source": [
    "2. Отсутствие значений в столбце 'is_apartment', вероятно, означает, что объект не является аппартаментами. Заменим пропуски на False."
   ]
  },
  {
   "cell_type": "code",
   "execution_count": 138,
   "metadata": {},
   "outputs": [
    {
     "data": {
      "text/plain": [
       "20924"
      ]
     },
     "metadata": {},
     "output_type": "display_data"
    },
    {
     "data": {
      "text/plain": [
       "array([nan, False, True], dtype=object)"
      ]
     },
     "execution_count": 138,
     "metadata": {},
     "output_type": "execute_result"
    }
   ],
   "source": [
    "display(data['is_apartment'].isna().sum())\n",
    "data['is_apartment'].unique()"
   ]
  },
  {
   "cell_type": "code",
   "execution_count": 139,
   "metadata": {},
   "outputs": [
    {
     "data": {
      "text/plain": [
       "0"
      ]
     },
     "execution_count": 139,
     "metadata": {},
     "output_type": "execute_result"
    }
   ],
   "source": [
    "data['is_apartment'] = data['is_apartment'].fillna(False)\n",
    "data['is_apartment'].isna().sum()"
   ]
  },
  {
   "cell_type": "code",
   "execution_count": 140,
   "metadata": {},
   "outputs": [
    {
     "data": {
      "text/plain": [
       "array([False,  True])"
      ]
     },
     "execution_count": 140,
     "metadata": {},
     "output_type": "execute_result"
    }
   ],
   "source": [
    "data['is_apartment'].unique()"
   ]
  },
  {
   "cell_type": "markdown",
   "metadata": {},
   "source": [
    "3. Пропуски в столбце 'parks_around3000' скорее всего означают отсутствие парков. Заменим пропуски на 0."
   ]
  },
  {
   "cell_type": "code",
   "execution_count": 141,
   "metadata": {},
   "outputs": [
    {
     "data": {
      "text/plain": [
       "5518"
      ]
     },
     "execution_count": 141,
     "metadata": {},
     "output_type": "execute_result"
    }
   ],
   "source": [
    "data['parks_around3000'].isna().sum()"
   ]
  },
  {
   "cell_type": "code",
   "execution_count": 142,
   "metadata": {},
   "outputs": [
    {
     "data": {
      "text/plain": [
       "0"
      ]
     },
     "execution_count": 142,
     "metadata": {},
     "output_type": "execute_result"
    }
   ],
   "source": [
    "data['parks_around3000'] = data['parks_around3000'].fillna(0)\n",
    "data['parks_around3000'].isna().sum()"
   ]
  },
  {
   "cell_type": "markdown",
   "metadata": {},
   "source": [
    "4. В столбце 'locality_name' содержится 49 пропусков. Это важные данные для исследования, а восстановить название населенных пунктов затруднительно и количество пропусков невелико поэтому удалим строки с пропусками.           "
   ]
  },
  {
   "cell_type": "code",
   "execution_count": 143,
   "metadata": {},
   "outputs": [
    {
     "data": {
      "text/plain": [
       "0"
      ]
     },
     "execution_count": 143,
     "metadata": {},
     "output_type": "execute_result"
    }
   ],
   "source": [
    "data = data.dropna(subset=['locality_name'])\n",
    "data['locality_name'].isna().sum()"
   ]
  },
  {
   "cell_type": "markdown",
   "metadata": {},
   "source": [
    "5. В столбце 'ceiling_height' содержится достаточно много пропусков, при этом основная часть значений различается не сильно:\n",
    "медиана 2,77\n",
    "среднее 2,6\n",
    "1-й квартиль 2,52\n",
    "3-й квартиль 2,8\n",
    "Заменим пропуски на медианное значение, поскольку это значение наиболее приближено к реальным данным.          "
   ]
  },
  {
   "cell_type": "code",
   "execution_count": 144,
   "metadata": {},
   "outputs": [
    {
     "data": {
      "text/plain": [
       "0"
      ]
     },
     "execution_count": 144,
     "metadata": {},
     "output_type": "execute_result"
    }
   ],
   "source": [
    "ceiling_height_medium = data['ceiling_height'].median()\n",
    "data['ceiling_height'] = data['ceiling_height'].fillna(value=ceiling_height_medium)\n",
    "data['ceiling_height'].isna().sum()"
   ]
  },
  {
   "cell_type": "markdown",
   "metadata": {},
   "source": [
    "6. В столбце 'floors_total' 86 пропусков. Этажность здания важна для исследования, восстановить значения невозможно. Удалим строки с пропусками."
   ]
  },
  {
   "cell_type": "code",
   "execution_count": 145,
   "metadata": {},
   "outputs": [
    {
     "data": {
      "text/plain": [
       "0"
      ]
     },
     "execution_count": 145,
     "metadata": {},
     "output_type": "execute_result"
    }
   ],
   "source": [
    "data = data.dropna(subset=['floors_total'])\n",
    "data['floors_total'].isna().sum()"
   ]
  },
  {
   "cell_type": "code",
   "execution_count": 146,
   "metadata": {
    "scrolled": false
   },
   "outputs": [
    {
     "data": {
      "text/plain": [
       "total_images                0\n",
       "last_price                  0\n",
       "total_area                  0\n",
       "first_day_exposition        0\n",
       "rooms                       0\n",
       "ceiling_height              0\n",
       "floors_total                0\n",
       "living_area              1865\n",
       "floor                       0\n",
       "is_apartment                0\n",
       "studio                      0\n",
       "open_plan                   0\n",
       "kitchen_area             2222\n",
       "balcony                     0\n",
       "locality_name               0\n",
       "airports_nearest         5524\n",
       "city_centers_nearest     5501\n",
       "parks_around3000            0\n",
       "parks_nearest           15535\n",
       "ponds_around3000         5500\n",
       "ponds_nearest           14529\n",
       "days_exposition          3171\n",
       "dtype: int64"
      ]
     },
     "execution_count": 146,
     "metadata": {},
     "output_type": "execute_result"
    }
   ],
   "source": [
    "data.isna().sum()"
   ]
  },
  {
   "cell_type": "markdown",
   "metadata": {},
   "source": [
    "Остальные пропуски в данных оставим, т.к. восстановить пропущенные значения невозможно."
   ]
  },
  {
   "cell_type": "markdown",
   "metadata": {},
   "source": [
    "**Обработаем аномальные значения.**"
   ]
  },
  {
   "cell_type": "markdown",
   "metadata": {},
   "source": [
    "Выведем уникальные значения столбца 'ceiling_height' по возрастанию. Посчитаем количество строк с аномальными значениями:\n",
    "ниже 1.8 м и выше 6 м."
   ]
  },
  {
   "cell_type": "code",
   "execution_count": 147,
   "metadata": {},
   "outputs": [
    {
     "data": {
      "text/plain": [
       "array([  1.  ,   1.2 ,   1.75,   2.  ,   2.2 ,   2.25,   2.3 ,   2.34,\n",
       "         2.4 ,   2.45,   2.46,   2.47,   2.48,   2.49,   2.5 ,   2.51,\n",
       "         2.52,   2.53,   2.54,   2.55,   2.56,   2.57,   2.58,   2.59,\n",
       "         2.6 ,   2.61,   2.62,   2.63,   2.64,   2.65,   2.66,   2.67,\n",
       "         2.68,   2.69,   2.7 ,   2.71,   2.72,   2.73,   2.74,   2.75,\n",
       "         2.76,   2.77,   2.78,   2.79,   2.8 ,   2.81,   2.82,   2.83,\n",
       "         2.84,   2.85,   2.86,   2.87,   2.88,   2.89,   2.9 ,   2.91,\n",
       "         2.92,   2.93,   2.94,   2.95,   2.96,   2.97,   2.98,   2.99,\n",
       "         3.  ,   3.01,   3.02,   3.03,   3.04,   3.05,   3.06,   3.07,\n",
       "         3.08,   3.09,   3.1 ,   3.11,   3.12,   3.13,   3.14,   3.15,\n",
       "         3.16,   3.17,   3.18,   3.2 ,   3.21,   3.22,   3.23,   3.24,\n",
       "         3.25,   3.26,   3.27,   3.28,   3.29,   3.3 ,   3.31,   3.32,\n",
       "         3.33,   3.34,   3.35,   3.36,   3.37,   3.38,   3.39,   3.4 ,\n",
       "         3.42,   3.43,   3.44,   3.45,   3.46,   3.47,   3.48,   3.49,\n",
       "         3.5 ,   3.51,   3.52,   3.53,   3.54,   3.55,   3.56,   3.57,\n",
       "         3.58,   3.59,   3.6 ,   3.62,   3.63,   3.65,   3.66,   3.67,\n",
       "         3.68,   3.69,   3.7 ,   3.75,   3.76,   3.78,   3.8 ,   3.82,\n",
       "         3.83,   3.84,   3.85,   3.86,   3.87,   3.88,   3.9 ,   3.93,\n",
       "         3.95,   3.98,   4.  ,   4.06,   4.1 ,   4.14,   4.15,   4.19,\n",
       "         4.2 ,   4.25,   4.3 ,   4.37,   4.4 ,   4.45,   4.5 ,   4.65,\n",
       "         4.7 ,   4.8 ,   4.9 ,   5.  ,   5.2 ,   5.3 ,   5.5 ,   5.6 ,\n",
       "         5.8 ,   6.  ,   8.  ,   8.3 ,  10.3 ,  14.  ,  20.  ,  22.6 ,\n",
       "        24.  ,  25.  ,  26.  ,  27.  ,  27.5 ,  32.  , 100.  ])"
      ]
     },
     "metadata": {},
     "output_type": "display_data"
    },
    {
     "data": {
      "text/plain": [
       "3"
      ]
     },
     "metadata": {},
     "output_type": "display_data"
    },
    {
     "data": {
      "text/plain": [
       "29"
      ]
     },
     "metadata": {},
     "output_type": "display_data"
    }
   ],
   "source": [
    "display(data['ceiling_height'].sort_values().unique())\n",
    "display(data['ceiling_height'][data['ceiling_height']<1.8].count())\n",
    "display(data['ceiling_height'][data['ceiling_height']>6].count())"
   ]
  },
  {
   "cell_type": "markdown",
   "metadata": {},
   "source": [
    "Количество аномальных значений в столбце 'ceiling_height' мало. Вероятнее всего, при вводе данных возникли случайные ошибки.\n",
    "Удалим строки с аномальными значениями.\n"
   ]
  },
  {
   "cell_type": "code",
   "execution_count": 148,
   "metadata": {
    "scrolled": true
   },
   "outputs": [
    {
     "data": {
      "text/plain": [
       "array([2.  , 2.2 , 2.25, 2.3 , 2.34, 2.4 , 2.45, 2.46, 2.47, 2.48, 2.49,\n",
       "       2.5 , 2.51, 2.52, 2.53, 2.54, 2.55, 2.56, 2.57, 2.58, 2.59, 2.6 ,\n",
       "       2.61, 2.62, 2.63, 2.64, 2.65, 2.66, 2.67, 2.68, 2.69, 2.7 , 2.71,\n",
       "       2.72, 2.73, 2.74, 2.75, 2.76, 2.77, 2.78, 2.79, 2.8 , 2.81, 2.82,\n",
       "       2.83, 2.84, 2.85, 2.86, 2.87, 2.88, 2.89, 2.9 , 2.91, 2.92, 2.93,\n",
       "       2.94, 2.95, 2.96, 2.97, 2.98, 2.99, 3.  , 3.01, 3.02, 3.03, 3.04,\n",
       "       3.05, 3.06, 3.07, 3.08, 3.09, 3.1 , 3.11, 3.12, 3.13, 3.14, 3.15,\n",
       "       3.16, 3.17, 3.18, 3.2 , 3.21, 3.22, 3.23, 3.24, 3.25, 3.26, 3.27,\n",
       "       3.28, 3.29, 3.3 , 3.31, 3.32, 3.33, 3.34, 3.35, 3.36, 3.37, 3.38,\n",
       "       3.39, 3.4 , 3.42, 3.43, 3.44, 3.45, 3.46, 3.47, 3.48, 3.49, 3.5 ,\n",
       "       3.51, 3.52, 3.53, 3.54, 3.55, 3.56, 3.57, 3.58, 3.59, 3.6 , 3.62,\n",
       "       3.63, 3.65, 3.66, 3.67, 3.68, 3.69, 3.7 , 3.75, 3.76, 3.78, 3.8 ,\n",
       "       3.82, 3.83, 3.84, 3.85, 3.86, 3.87, 3.88, 3.9 , 3.93, 3.95, 3.98,\n",
       "       4.  , 4.06, 4.1 , 4.14, 4.15, 4.19, 4.2 , 4.25, 4.3 , 4.37, 4.4 ,\n",
       "       4.45, 4.5 , 4.65, 4.7 , 4.8 , 4.9 , 5.  , 5.2 , 5.3 , 5.5 , 5.6 ,\n",
       "       5.8 ])"
      ]
     },
     "metadata": {},
     "output_type": "display_data"
    }
   ],
   "source": [
    "data = data.loc[(data['ceiling_height'] > 1.8)&(data['ceiling_height'] < 6)]\n",
    "display(data['ceiling_height'].sort_values().unique())"
   ]
  },
  {
   "cell_type": "markdown",
   "metadata": {},
   "source": [
    "Рассмотрим столбец 'rooms'.\n",
    "Сгруппируем данные по количеству комнат и посчитаем количество квартир с различным числом комнат."
   ]
  },
  {
   "cell_type": "code",
   "execution_count": 149,
   "metadata": {},
   "outputs": [
    {
     "data": {
      "text/plain": [
       "1     7994\n",
       "2     7882\n",
       "3     5774\n",
       "4     1170\n",
       "5      325\n",
       "0      193\n",
       "6      104\n",
       "7       59\n",
       "8       12\n",
       "9        8\n",
       "10       3\n",
       "11       2\n",
       "14       2\n",
       "15       1\n",
       "19       1\n",
       "16       1\n",
       "12       1\n",
       "Name: rooms, dtype: int64"
      ]
     },
     "execution_count": 149,
     "metadata": {},
     "output_type": "execute_result"
    }
   ],
   "source": [
    "#data.groupby('rooms')[['rooms']].count()\n",
    "data['rooms'].value_counts()"
   ]
  },
  {
   "cell_type": "markdown",
   "metadata": {},
   "source": [
    "Больше 7 комнат встречается у небольшого числа квартир. Удалим эти данные, т.к. на их основе не удастся дать объективную оценку."
   ]
  },
  {
   "cell_type": "code",
   "execution_count": 150,
   "metadata": {},
   "outputs": [
    {
     "data": {
      "text/html": [
       "<div>\n",
       "<style scoped>\n",
       "    .dataframe tbody tr th:only-of-type {\n",
       "        vertical-align: middle;\n",
       "    }\n",
       "\n",
       "    .dataframe tbody tr th {\n",
       "        vertical-align: top;\n",
       "    }\n",
       "\n",
       "    .dataframe thead th {\n",
       "        text-align: right;\n",
       "    }\n",
       "</style>\n",
       "<table border=\"1\" class=\"dataframe\">\n",
       "  <thead>\n",
       "    <tr style=\"text-align: right;\">\n",
       "      <th></th>\n",
       "      <th>rooms</th>\n",
       "    </tr>\n",
       "    <tr>\n",
       "      <th>rooms</th>\n",
       "      <th></th>\n",
       "    </tr>\n",
       "  </thead>\n",
       "  <tbody>\n",
       "    <tr>\n",
       "      <th>0</th>\n",
       "      <td>193</td>\n",
       "    </tr>\n",
       "    <tr>\n",
       "      <th>1</th>\n",
       "      <td>7994</td>\n",
       "    </tr>\n",
       "    <tr>\n",
       "      <th>2</th>\n",
       "      <td>7882</td>\n",
       "    </tr>\n",
       "    <tr>\n",
       "      <th>3</th>\n",
       "      <td>5774</td>\n",
       "    </tr>\n",
       "    <tr>\n",
       "      <th>4</th>\n",
       "      <td>1170</td>\n",
       "    </tr>\n",
       "    <tr>\n",
       "      <th>5</th>\n",
       "      <td>325</td>\n",
       "    </tr>\n",
       "    <tr>\n",
       "      <th>6</th>\n",
       "      <td>104</td>\n",
       "    </tr>\n",
       "    <tr>\n",
       "      <th>7</th>\n",
       "      <td>59</td>\n",
       "    </tr>\n",
       "  </tbody>\n",
       "</table>\n",
       "</div>"
      ],
      "text/plain": [
       "       rooms\n",
       "rooms       \n",
       "0        193\n",
       "1       7994\n",
       "2       7882\n",
       "3       5774\n",
       "4       1170\n",
       "5        325\n",
       "6        104\n",
       "7         59"
      ]
     },
     "execution_count": 150,
     "metadata": {},
     "output_type": "execute_result"
    }
   ],
   "source": [
    "data = data[data['rooms']<8]\n",
    "data.groupby('rooms')[['rooms']].count()"
   ]
  },
  {
   "cell_type": "markdown",
   "metadata": {},
   "source": [
    "Проверим на аномалии столбец 'last-price' при помощи диаграммы размаха."
   ]
  },
  {
   "cell_type": "code",
   "execution_count": 151,
   "metadata": {},
   "outputs": [
    {
     "data": {
      "text/plain": [
       "(-1000000.0, 150000000.0)"
      ]
     },
     "execution_count": 151,
     "metadata": {},
     "output_type": "execute_result"
    },
    {
     "data": {
      "image/png": "[encoded data removed]",
      "text/plain": [
       "<Figure size 432x288 with 1 Axes>"
      ]
     },
     "metadata": {
      "needs_background": "light"
     },
     "output_type": "display_data"
    }
   ],
   "source": [
    "data.boxplot('last_price')\n",
    "plt.ylim(-1000000, 150000000)"
   ]
  },
  {
   "cell_type": "code",
   "execution_count": 152,
   "metadata": {},
   "outputs": [
    {
     "data": {
      "text/plain": [
       "0.0014041955661461215"
      ]
     },
     "execution_count": 152,
     "metadata": {},
     "output_type": "execute_result"
    }
   ],
   "source": [
    "# количество аномальных значений\n",
    "data['last_price'][data['last_price']>100000000].count()\n",
    "# их доля от общего числа\n",
    "data['last_price'][data['last_price']>100000000].count()/data['last_price'].count()"
   ]
  },
  {
   "cell_type": "markdown",
   "metadata": {},
   "source": [
    "По диаграмме размаха виден небольшой разрыв после 10 млн. руб, выше находятся всего 33 значения, что составляет около 1,7%. Возможно, причина такой стоимости квартир -- ошибка при заполнении. Удалим аномальные значения."
   ]
  },
  {
   "cell_type": "code",
   "execution_count": 153,
   "metadata": {},
   "outputs": [],
   "source": [
    "data = data[data['last_price']<100000000]\n",
    "data = data[data['last_price']>12000]"
   ]
  },
  {
   "cell_type": "markdown",
   "metadata": {},
   "source": [
    "Вычислим, какую долю значений удалили в результате обработки (изначально в таблице было 23699 строк)"
   ]
  },
  {
   "cell_type": "code",
   "execution_count": 154,
   "metadata": {},
   "outputs": [
    {
     "data": {
      "text/plain": [
       "0.009747246719270852"
      ]
     },
     "metadata": {},
     "output_type": "display_data"
    }
   ],
   "source": [
    "display(1 - data['last_price'].count()/23699)"
   ]
  },
  {
   "cell_type": "markdown",
   "metadata": {},
   "source": [
    "К данному этапу удалено 9,7% данных. "
   ]
  },
  {
   "cell_type": "markdown",
   "metadata": {},
   "source": [
    "**Изменение типов данных**"
   ]
  },
  {
   "cell_type": "markdown",
   "metadata": {},
   "source": [
    "Изменим типы данных в столбцах:\n",
    "1. 'is_apartment' на bool (сначала мы заменили пропуски на 'False' строкового типа), т.к. в столбце содержаться только два типа значений True и False; \n",
    "2. 'first_day_exposition' на datetime, чтобы дата отображалась в более удобном формате."
   ]
  },
  {
   "cell_type": "code",
   "execution_count": 155,
   "metadata": {
    "scrolled": true
   },
   "outputs": [
    {
     "data": {
      "text/plain": [
       "is_apartment    bool\n",
       "dtype: object"
      ]
     },
     "execution_count": 155,
     "metadata": {},
     "output_type": "execute_result"
    }
   ],
   "source": [
    "data['is_apartment'] = data['is_apartment'].fillna('False')\n",
    "#data['is_apartment'] = data['is_apartment'].astype('bool')\n",
    "data[['is_apartment']].dtypes"
   ]
  },
  {
   "cell_type": "code",
   "execution_count": 156,
   "metadata": {},
   "outputs": [
    {
     "data": {
      "text/plain": [
       "0   2019-03-07\n",
       "1   2018-12-04\n",
       "2   2015-08-20\n",
       "3   2015-07-24\n",
       "4   2018-06-19\n",
       "Name: first_day_exposition, dtype: datetime64[ns]"
      ]
     },
     "execution_count": 156,
     "metadata": {},
     "output_type": "execute_result"
    }
   ],
   "source": [
    "#data['first_day_exposition'] = pd.to_datetime(data['first_day_exposition'])\n",
    "#data['first_day_exposition'] = data['first_day_exposition'].dt.strftime('%d.%m.%Y')\n",
    "\n",
    "data['first_day_exposition'] = pd.to_datetime(data['first_day_exposition'])\n",
    "data['first_day_exposition'].head()"
   ]
  },
  {
   "cell_type": "markdown",
   "metadata": {},
   "source": [
    "## Расчёты и добавление результатов в таблицу"
   ]
  },
  {
   "cell_type": "markdown",
   "metadata": {},
   "source": [
    "Посчитаем и добавим в таблицу столбец, содержащий цену квадратного метра."
   ]
  },
  {
   "cell_type": "code",
   "execution_count": 157,
   "metadata": {},
   "outputs": [
    {
     "data": {
      "text/html": [
       "<div>\n",
       "<style scoped>\n",
       "    .dataframe tbody tr th:only-of-type {\n",
       "        vertical-align: middle;\n",
       "    }\n",
       "\n",
       "    .dataframe tbody tr th {\n",
       "        vertical-align: top;\n",
       "    }\n",
       "\n",
       "    .dataframe thead th {\n",
       "        text-align: right;\n",
       "    }\n",
       "</style>\n",
       "<table border=\"1\" class=\"dataframe\">\n",
       "  <thead>\n",
       "    <tr style=\"text-align: right;\">\n",
       "      <th></th>\n",
       "      <th>total_images</th>\n",
       "      <th>last_price</th>\n",
       "      <th>total_area</th>\n",
       "      <th>first_day_exposition</th>\n",
       "      <th>rooms</th>\n",
       "      <th>ceiling_height</th>\n",
       "      <th>floors_total</th>\n",
       "      <th>living_area</th>\n",
       "      <th>floor</th>\n",
       "      <th>is_apartment</th>\n",
       "      <th>studio</th>\n",
       "      <th>open_plan</th>\n",
       "      <th>kitchen_area</th>\n",
       "      <th>balcony</th>\n",
       "      <th>locality_name</th>\n",
       "      <th>airports_nearest</th>\n",
       "      <th>city_centers_nearest</th>\n",
       "      <th>parks_around3000</th>\n",
       "      <th>parks_nearest</th>\n",
       "      <th>ponds_around3000</th>\n",
       "      <th>ponds_nearest</th>\n",
       "      <th>days_exposition</th>\n",
       "      <th>price_per_sqr_m</th>\n",
       "    </tr>\n",
       "  </thead>\n",
       "  <tbody>\n",
       "    <tr>\n",
       "      <th>0</th>\n",
       "      <td>20</td>\n",
       "      <td>13,000,000.00</td>\n",
       "      <td>108.00</td>\n",
       "      <td>2019-03-07</td>\n",
       "      <td>3</td>\n",
       "      <td>2.70</td>\n",
       "      <td>16.00</td>\n",
       "      <td>51.00</td>\n",
       "      <td>8</td>\n",
       "      <td>False</td>\n",
       "      <td>False</td>\n",
       "      <td>False</td>\n",
       "      <td>25.00</td>\n",
       "      <td>0.00</td>\n",
       "      <td>Санкт-Петербург</td>\n",
       "      <td>18,863.00</td>\n",
       "      <td>16,028.00</td>\n",
       "      <td>1.00</td>\n",
       "      <td>482.00</td>\n",
       "      <td>2.00</td>\n",
       "      <td>755.00</td>\n",
       "      <td>NaN</td>\n",
       "      <td>120,370.37</td>\n",
       "    </tr>\n",
       "    <tr>\n",
       "      <th>1</th>\n",
       "      <td>7</td>\n",
       "      <td>3,350,000.00</td>\n",
       "      <td>40.40</td>\n",
       "      <td>2018-12-04</td>\n",
       "      <td>1</td>\n",
       "      <td>2.65</td>\n",
       "      <td>11.00</td>\n",
       "      <td>18.60</td>\n",
       "      <td>1</td>\n",
       "      <td>False</td>\n",
       "      <td>False</td>\n",
       "      <td>False</td>\n",
       "      <td>11.00</td>\n",
       "      <td>2.00</td>\n",
       "      <td>посёлок Шушары</td>\n",
       "      <td>12,817.00</td>\n",
       "      <td>18,603.00</td>\n",
       "      <td>0.00</td>\n",
       "      <td>NaN</td>\n",
       "      <td>0.00</td>\n",
       "      <td>NaN</td>\n",
       "      <td>81.00</td>\n",
       "      <td>82,920.79</td>\n",
       "    </tr>\n",
       "    <tr>\n",
       "      <th>2</th>\n",
       "      <td>10</td>\n",
       "      <td>5,196,000.00</td>\n",
       "      <td>56.00</td>\n",
       "      <td>2015-08-20</td>\n",
       "      <td>2</td>\n",
       "      <td>2.65</td>\n",
       "      <td>5.00</td>\n",
       "      <td>34.30</td>\n",
       "      <td>4</td>\n",
       "      <td>False</td>\n",
       "      <td>False</td>\n",
       "      <td>False</td>\n",
       "      <td>8.30</td>\n",
       "      <td>0.00</td>\n",
       "      <td>Санкт-Петербург</td>\n",
       "      <td>21,741.00</td>\n",
       "      <td>13,933.00</td>\n",
       "      <td>1.00</td>\n",
       "      <td>90.00</td>\n",
       "      <td>2.00</td>\n",
       "      <td>574.00</td>\n",
       "      <td>558.00</td>\n",
       "      <td>92,785.71</td>\n",
       "    </tr>\n",
       "    <tr>\n",
       "      <th>3</th>\n",
       "      <td>0</td>\n",
       "      <td>64,900,000.00</td>\n",
       "      <td>159.00</td>\n",
       "      <td>2015-07-24</td>\n",
       "      <td>3</td>\n",
       "      <td>2.65</td>\n",
       "      <td>14.00</td>\n",
       "      <td>NaN</td>\n",
       "      <td>9</td>\n",
       "      <td>False</td>\n",
       "      <td>False</td>\n",
       "      <td>False</td>\n",
       "      <td>NaN</td>\n",
       "      <td>0.00</td>\n",
       "      <td>Санкт-Петербург</td>\n",
       "      <td>28,098.00</td>\n",
       "      <td>6,800.00</td>\n",
       "      <td>2.00</td>\n",
       "      <td>84.00</td>\n",
       "      <td>3.00</td>\n",
       "      <td>234.00</td>\n",
       "      <td>424.00</td>\n",
       "      <td>408,176.10</td>\n",
       "    </tr>\n",
       "    <tr>\n",
       "      <th>4</th>\n",
       "      <td>2</td>\n",
       "      <td>10,000,000.00</td>\n",
       "      <td>100.00</td>\n",
       "      <td>2018-06-19</td>\n",
       "      <td>2</td>\n",
       "      <td>3.03</td>\n",
       "      <td>14.00</td>\n",
       "      <td>32.00</td>\n",
       "      <td>13</td>\n",
       "      <td>False</td>\n",
       "      <td>False</td>\n",
       "      <td>False</td>\n",
       "      <td>41.00</td>\n",
       "      <td>0.00</td>\n",
       "      <td>Санкт-Петербург</td>\n",
       "      <td>31,856.00</td>\n",
       "      <td>8,098.00</td>\n",
       "      <td>2.00</td>\n",
       "      <td>112.00</td>\n",
       "      <td>1.00</td>\n",
       "      <td>48.00</td>\n",
       "      <td>121.00</td>\n",
       "      <td>100,000.00</td>\n",
       "    </tr>\n",
       "    <tr>\n",
       "      <th>5</th>\n",
       "      <td>10</td>\n",
       "      <td>2,890,000.00</td>\n",
       "      <td>30.40</td>\n",
       "      <td>2018-09-10</td>\n",
       "      <td>1</td>\n",
       "      <td>2.65</td>\n",
       "      <td>12.00</td>\n",
       "      <td>14.40</td>\n",
       "      <td>5</td>\n",
       "      <td>False</td>\n",
       "      <td>False</td>\n",
       "      <td>False</td>\n",
       "      <td>9.10</td>\n",
       "      <td>0.00</td>\n",
       "      <td>городской посёлок Янино-1</td>\n",
       "      <td>NaN</td>\n",
       "      <td>NaN</td>\n",
       "      <td>0.00</td>\n",
       "      <td>NaN</td>\n",
       "      <td>NaN</td>\n",
       "      <td>NaN</td>\n",
       "      <td>55.00</td>\n",
       "      <td>95,065.79</td>\n",
       "    </tr>\n",
       "    <tr>\n",
       "      <th>6</th>\n",
       "      <td>6</td>\n",
       "      <td>3,700,000.00</td>\n",
       "      <td>37.30</td>\n",
       "      <td>2017-11-02</td>\n",
       "      <td>1</td>\n",
       "      <td>2.65</td>\n",
       "      <td>26.00</td>\n",
       "      <td>10.60</td>\n",
       "      <td>6</td>\n",
       "      <td>False</td>\n",
       "      <td>False</td>\n",
       "      <td>False</td>\n",
       "      <td>14.40</td>\n",
       "      <td>1.00</td>\n",
       "      <td>посёлок Парголово</td>\n",
       "      <td>52,996.00</td>\n",
       "      <td>19,143.00</td>\n",
       "      <td>0.00</td>\n",
       "      <td>NaN</td>\n",
       "      <td>0.00</td>\n",
       "      <td>NaN</td>\n",
       "      <td>155.00</td>\n",
       "      <td>99,195.71</td>\n",
       "    </tr>\n",
       "    <tr>\n",
       "      <th>7</th>\n",
       "      <td>5</td>\n",
       "      <td>7,915,000.00</td>\n",
       "      <td>71.60</td>\n",
       "      <td>2019-04-18</td>\n",
       "      <td>2</td>\n",
       "      <td>2.65</td>\n",
       "      <td>24.00</td>\n",
       "      <td>NaN</td>\n",
       "      <td>22</td>\n",
       "      <td>False</td>\n",
       "      <td>False</td>\n",
       "      <td>False</td>\n",
       "      <td>18.90</td>\n",
       "      <td>2.00</td>\n",
       "      <td>Санкт-Петербург</td>\n",
       "      <td>23,982.00</td>\n",
       "      <td>11,634.00</td>\n",
       "      <td>0.00</td>\n",
       "      <td>NaN</td>\n",
       "      <td>0.00</td>\n",
       "      <td>NaN</td>\n",
       "      <td>NaN</td>\n",
       "      <td>110,544.69</td>\n",
       "    </tr>\n",
       "    <tr>\n",
       "      <th>8</th>\n",
       "      <td>20</td>\n",
       "      <td>2,900,000.00</td>\n",
       "      <td>33.16</td>\n",
       "      <td>2018-05-23</td>\n",
       "      <td>1</td>\n",
       "      <td>2.65</td>\n",
       "      <td>27.00</td>\n",
       "      <td>15.43</td>\n",
       "      <td>26</td>\n",
       "      <td>False</td>\n",
       "      <td>False</td>\n",
       "      <td>False</td>\n",
       "      <td>8.81</td>\n",
       "      <td>0.00</td>\n",
       "      <td>посёлок Мурино</td>\n",
       "      <td>NaN</td>\n",
       "      <td>NaN</td>\n",
       "      <td>0.00</td>\n",
       "      <td>NaN</td>\n",
       "      <td>NaN</td>\n",
       "      <td>NaN</td>\n",
       "      <td>189.00</td>\n",
       "      <td>87,454.76</td>\n",
       "    </tr>\n",
       "    <tr>\n",
       "      <th>9</th>\n",
       "      <td>18</td>\n",
       "      <td>5,400,000.00</td>\n",
       "      <td>61.00</td>\n",
       "      <td>2017-02-26</td>\n",
       "      <td>3</td>\n",
       "      <td>2.50</td>\n",
       "      <td>9.00</td>\n",
       "      <td>43.60</td>\n",
       "      <td>7</td>\n",
       "      <td>False</td>\n",
       "      <td>False</td>\n",
       "      <td>False</td>\n",
       "      <td>6.50</td>\n",
       "      <td>2.00</td>\n",
       "      <td>Санкт-Петербург</td>\n",
       "      <td>50,898.00</td>\n",
       "      <td>15,008.00</td>\n",
       "      <td>0.00</td>\n",
       "      <td>NaN</td>\n",
       "      <td>0.00</td>\n",
       "      <td>NaN</td>\n",
       "      <td>289.00</td>\n",
       "      <td>88,524.59</td>\n",
       "    </tr>\n",
       "  </tbody>\n",
       "</table>\n",
       "</div>"
      ],
      "text/plain": [
       "   total_images    last_price  total_area first_day_exposition  rooms  \\\n",
       "0            20 13,000,000.00      108.00           2019-03-07      3   \n",
       "1             7  3,350,000.00       40.40           2018-12-04      1   \n",
       "2            10  5,196,000.00       56.00           2015-08-20      2   \n",
       "3             0 64,900,000.00      159.00           2015-07-24      3   \n",
       "4             2 10,000,000.00      100.00           2018-06-19      2   \n",
       "5            10  2,890,000.00       30.40           2018-09-10      1   \n",
       "6             6  3,700,000.00       37.30           2017-11-02      1   \n",
       "7             5  7,915,000.00       71.60           2019-04-18      2   \n",
       "8            20  2,900,000.00       33.16           2018-05-23      1   \n",
       "9            18  5,400,000.00       61.00           2017-02-26      3   \n",
       "\n",
       "   ceiling_height  floors_total  living_area  floor  is_apartment  studio  \\\n",
       "0            2.70         16.00        51.00      8         False   False   \n",
       "1            2.65         11.00        18.60      1         False   False   \n",
       "2            2.65          5.00        34.30      4         False   False   \n",
       "3            2.65         14.00          NaN      9         False   False   \n",
       "4            3.03         14.00        32.00     13         False   False   \n",
       "5            2.65         12.00        14.40      5         False   False   \n",
       "6            2.65         26.00        10.60      6         False   False   \n",
       "7            2.65         24.00          NaN     22         False   False   \n",
       "8            2.65         27.00        15.43     26         False   False   \n",
       "9            2.50          9.00        43.60      7         False   False   \n",
       "\n",
       "   open_plan  kitchen_area  balcony              locality_name  \\\n",
       "0      False         25.00     0.00            Санкт-Петербург   \n",
       "1      False         11.00     2.00             посёлок Шушары   \n",
       "2      False          8.30     0.00            Санкт-Петербург   \n",
       "3      False           NaN     0.00            Санкт-Петербург   \n",
       "4      False         41.00     0.00            Санкт-Петербург   \n",
       "5      False          9.10     0.00  городской посёлок Янино-1   \n",
       "6      False         14.40     1.00          посёлок Парголово   \n",
       "7      False         18.90     2.00            Санкт-Петербург   \n",
       "8      False          8.81     0.00             посёлок Мурино   \n",
       "9      False          6.50     2.00            Санкт-Петербург   \n",
       "\n",
       "   airports_nearest  city_centers_nearest  parks_around3000  parks_nearest  \\\n",
       "0         18,863.00             16,028.00              1.00         482.00   \n",
       "1         12,817.00             18,603.00              0.00            NaN   \n",
       "2         21,741.00             13,933.00              1.00          90.00   \n",
       "3         28,098.00              6,800.00              2.00          84.00   \n",
       "4         31,856.00              8,098.00              2.00         112.00   \n",
       "5               NaN                   NaN              0.00            NaN   \n",
       "6         52,996.00             19,143.00              0.00            NaN   \n",
       "7         23,982.00             11,634.00              0.00            NaN   \n",
       "8               NaN                   NaN              0.00            NaN   \n",
       "9         50,898.00             15,008.00              0.00            NaN   \n",
       "\n",
       "   ponds_around3000  ponds_nearest  days_exposition  price_per_sqr_m  \n",
       "0              2.00         755.00              NaN       120,370.37  \n",
       "1              0.00            NaN            81.00        82,920.79  \n",
       "2              2.00         574.00           558.00        92,785.71  \n",
       "3              3.00         234.00           424.00       408,176.10  \n",
       "4              1.00          48.00           121.00       100,000.00  \n",
       "5               NaN            NaN            55.00        95,065.79  \n",
       "6              0.00            NaN           155.00        99,195.71  \n",
       "7              0.00            NaN              NaN       110,544.69  \n",
       "8               NaN            NaN           189.00        87,454.76  \n",
       "9              0.00            NaN           289.00        88,524.59  "
      ]
     },
     "execution_count": 157,
     "metadata": {},
     "output_type": "execute_result"
    }
   ],
   "source": [
    "data['price_per_sqr_m'] = data['last_price']/data['total_area']\n",
    "data.head(10)"
   ]
  },
  {
   "cell_type": "markdown",
   "metadata": {},
   "source": [
    "Добавим столбцы, содержащие день недели, месяц и год публикации объявления"
   ]
  },
  {
   "cell_type": "code",
   "execution_count": 158,
   "metadata": {},
   "outputs": [],
   "source": [
    "data['first_day_exposition'] = pd.to_datetime(data['first_day_exposition'])\n",
    "data['weekday'] = data['first_day_exposition'].dt.weekday\n",
    "data['month'] = data['first_day_exposition'].dt.month\n",
    "data['year'] = data['first_day_exposition'].dt.year"
   ]
  },
  {
   "cell_type": "markdown",
   "metadata": {},
   "source": [
    "Добавим столбец, содержащий соотношение жилой и общей площади."
   ]
  },
  {
   "cell_type": "code",
   "execution_count": 159,
   "metadata": {},
   "outputs": [],
   "source": [
    "data['living/total_area'] = data['living_area']/data['total_area']"
   ]
  },
  {
   "cell_type": "markdown",
   "metadata": {},
   "source": [
    "Добавим столбец, содержащий отношение площади кухни к общей."
   ]
  },
  {
   "cell_type": "code",
   "execution_count": 160,
   "metadata": {},
   "outputs": [],
   "source": [
    "data['kitchen/total_area'] = data['kitchen_area']/data['total_area']"
   ]
  },
  {
   "cell_type": "markdown",
   "metadata": {},
   "source": [
    "Добавим столбец с этажем квартиры, варианты — первый, последний, другой"
   ]
  },
  {
   "cell_type": "code",
   "execution_count": 161,
   "metadata": {},
   "outputs": [
    {
     "data": {
      "text/html": [
       "<div>\n",
       "<style scoped>\n",
       "    .dataframe tbody tr th:only-of-type {\n",
       "        vertical-align: middle;\n",
       "    }\n",
       "\n",
       "    .dataframe tbody tr th {\n",
       "        vertical-align: top;\n",
       "    }\n",
       "\n",
       "    .dataframe thead th {\n",
       "        text-align: right;\n",
       "    }\n",
       "</style>\n",
       "<table border=\"1\" class=\"dataframe\">\n",
       "  <thead>\n",
       "    <tr style=\"text-align: right;\">\n",
       "      <th></th>\n",
       "      <th>total_images</th>\n",
       "      <th>last_price</th>\n",
       "      <th>total_area</th>\n",
       "      <th>first_day_exposition</th>\n",
       "      <th>rooms</th>\n",
       "      <th>ceiling_height</th>\n",
       "      <th>floors_total</th>\n",
       "      <th>living_area</th>\n",
       "      <th>floor</th>\n",
       "      <th>is_apartment</th>\n",
       "      <th>studio</th>\n",
       "      <th>open_plan</th>\n",
       "      <th>kitchen_area</th>\n",
       "      <th>balcony</th>\n",
       "      <th>locality_name</th>\n",
       "      <th>airports_nearest</th>\n",
       "      <th>city_centers_nearest</th>\n",
       "      <th>parks_around3000</th>\n",
       "      <th>parks_nearest</th>\n",
       "      <th>ponds_around3000</th>\n",
       "      <th>ponds_nearest</th>\n",
       "      <th>days_exposition</th>\n",
       "      <th>price_per_sqr_m</th>\n",
       "      <th>weekday</th>\n",
       "      <th>month</th>\n",
       "      <th>year</th>\n",
       "      <th>living/total_area</th>\n",
       "      <th>kitchen/total_area</th>\n",
       "      <th>floor_category</th>\n",
       "    </tr>\n",
       "  </thead>\n",
       "  <tbody>\n",
       "    <tr>\n",
       "      <th>0</th>\n",
       "      <td>20</td>\n",
       "      <td>13,000,000.00</td>\n",
       "      <td>108.00</td>\n",
       "      <td>2019-03-07</td>\n",
       "      <td>3</td>\n",
       "      <td>2.70</td>\n",
       "      <td>16.00</td>\n",
       "      <td>51.00</td>\n",
       "      <td>8</td>\n",
       "      <td>False</td>\n",
       "      <td>False</td>\n",
       "      <td>False</td>\n",
       "      <td>25.00</td>\n",
       "      <td>0.00</td>\n",
       "      <td>Санкт-Петербург</td>\n",
       "      <td>18,863.00</td>\n",
       "      <td>16,028.00</td>\n",
       "      <td>1.00</td>\n",
       "      <td>482.00</td>\n",
       "      <td>2.00</td>\n",
       "      <td>755.00</td>\n",
       "      <td>NaN</td>\n",
       "      <td>120,370.37</td>\n",
       "      <td>3</td>\n",
       "      <td>3</td>\n",
       "      <td>2019</td>\n",
       "      <td>0.47</td>\n",
       "      <td>0.23</td>\n",
       "      <td>другой</td>\n",
       "    </tr>\n",
       "    <tr>\n",
       "      <th>1</th>\n",
       "      <td>7</td>\n",
       "      <td>3,350,000.00</td>\n",
       "      <td>40.40</td>\n",
       "      <td>2018-12-04</td>\n",
       "      <td>1</td>\n",
       "      <td>2.65</td>\n",
       "      <td>11.00</td>\n",
       "      <td>18.60</td>\n",
       "      <td>1</td>\n",
       "      <td>False</td>\n",
       "      <td>False</td>\n",
       "      <td>False</td>\n",
       "      <td>11.00</td>\n",
       "      <td>2.00</td>\n",
       "      <td>посёлок Шушары</td>\n",
       "      <td>12,817.00</td>\n",
       "      <td>18,603.00</td>\n",
       "      <td>0.00</td>\n",
       "      <td>NaN</td>\n",
       "      <td>0.00</td>\n",
       "      <td>NaN</td>\n",
       "      <td>81.00</td>\n",
       "      <td>82,920.79</td>\n",
       "      <td>1</td>\n",
       "      <td>12</td>\n",
       "      <td>2018</td>\n",
       "      <td>0.46</td>\n",
       "      <td>0.27</td>\n",
       "      <td>первый</td>\n",
       "    </tr>\n",
       "    <tr>\n",
       "      <th>2</th>\n",
       "      <td>10</td>\n",
       "      <td>5,196,000.00</td>\n",
       "      <td>56.00</td>\n",
       "      <td>2015-08-20</td>\n",
       "      <td>2</td>\n",
       "      <td>2.65</td>\n",
       "      <td>5.00</td>\n",
       "      <td>34.30</td>\n",
       "      <td>4</td>\n",
       "      <td>False</td>\n",
       "      <td>False</td>\n",
       "      <td>False</td>\n",
       "      <td>8.30</td>\n",
       "      <td>0.00</td>\n",
       "      <td>Санкт-Петербург</td>\n",
       "      <td>21,741.00</td>\n",
       "      <td>13,933.00</td>\n",
       "      <td>1.00</td>\n",
       "      <td>90.00</td>\n",
       "      <td>2.00</td>\n",
       "      <td>574.00</td>\n",
       "      <td>558.00</td>\n",
       "      <td>92,785.71</td>\n",
       "      <td>3</td>\n",
       "      <td>8</td>\n",
       "      <td>2015</td>\n",
       "      <td>0.61</td>\n",
       "      <td>0.15</td>\n",
       "      <td>другой</td>\n",
       "    </tr>\n",
       "    <tr>\n",
       "      <th>3</th>\n",
       "      <td>0</td>\n",
       "      <td>64,900,000.00</td>\n",
       "      <td>159.00</td>\n",
       "      <td>2015-07-24</td>\n",
       "      <td>3</td>\n",
       "      <td>2.65</td>\n",
       "      <td>14.00</td>\n",
       "      <td>NaN</td>\n",
       "      <td>9</td>\n",
       "      <td>False</td>\n",
       "      <td>False</td>\n",
       "      <td>False</td>\n",
       "      <td>NaN</td>\n",
       "      <td>0.00</td>\n",
       "      <td>Санкт-Петербург</td>\n",
       "      <td>28,098.00</td>\n",
       "      <td>6,800.00</td>\n",
       "      <td>2.00</td>\n",
       "      <td>84.00</td>\n",
       "      <td>3.00</td>\n",
       "      <td>234.00</td>\n",
       "      <td>424.00</td>\n",
       "      <td>408,176.10</td>\n",
       "      <td>4</td>\n",
       "      <td>7</td>\n",
       "      <td>2015</td>\n",
       "      <td>NaN</td>\n",
       "      <td>NaN</td>\n",
       "      <td>другой</td>\n",
       "    </tr>\n",
       "    <tr>\n",
       "      <th>4</th>\n",
       "      <td>2</td>\n",
       "      <td>10,000,000.00</td>\n",
       "      <td>100.00</td>\n",
       "      <td>2018-06-19</td>\n",
       "      <td>2</td>\n",
       "      <td>3.03</td>\n",
       "      <td>14.00</td>\n",
       "      <td>32.00</td>\n",
       "      <td>13</td>\n",
       "      <td>False</td>\n",
       "      <td>False</td>\n",
       "      <td>False</td>\n",
       "      <td>41.00</td>\n",
       "      <td>0.00</td>\n",
       "      <td>Санкт-Петербург</td>\n",
       "      <td>31,856.00</td>\n",
       "      <td>8,098.00</td>\n",
       "      <td>2.00</td>\n",
       "      <td>112.00</td>\n",
       "      <td>1.00</td>\n",
       "      <td>48.00</td>\n",
       "      <td>121.00</td>\n",
       "      <td>100,000.00</td>\n",
       "      <td>1</td>\n",
       "      <td>6</td>\n",
       "      <td>2018</td>\n",
       "      <td>0.32</td>\n",
       "      <td>0.41</td>\n",
       "      <td>другой</td>\n",
       "    </tr>\n",
       "    <tr>\n",
       "      <th>5</th>\n",
       "      <td>10</td>\n",
       "      <td>2,890,000.00</td>\n",
       "      <td>30.40</td>\n",
       "      <td>2018-09-10</td>\n",
       "      <td>1</td>\n",
       "      <td>2.65</td>\n",
       "      <td>12.00</td>\n",
       "      <td>14.40</td>\n",
       "      <td>5</td>\n",
       "      <td>False</td>\n",
       "      <td>False</td>\n",
       "      <td>False</td>\n",
       "      <td>9.10</td>\n",
       "      <td>0.00</td>\n",
       "      <td>городской посёлок Янино-1</td>\n",
       "      <td>NaN</td>\n",
       "      <td>NaN</td>\n",
       "      <td>0.00</td>\n",
       "      <td>NaN</td>\n",
       "      <td>NaN</td>\n",
       "      <td>NaN</td>\n",
       "      <td>55.00</td>\n",
       "      <td>95,065.79</td>\n",
       "      <td>0</td>\n",
       "      <td>9</td>\n",
       "      <td>2018</td>\n",
       "      <td>0.47</td>\n",
       "      <td>0.30</td>\n",
       "      <td>другой</td>\n",
       "    </tr>\n",
       "    <tr>\n",
       "      <th>6</th>\n",
       "      <td>6</td>\n",
       "      <td>3,700,000.00</td>\n",
       "      <td>37.30</td>\n",
       "      <td>2017-11-02</td>\n",
       "      <td>1</td>\n",
       "      <td>2.65</td>\n",
       "      <td>26.00</td>\n",
       "      <td>10.60</td>\n",
       "      <td>6</td>\n",
       "      <td>False</td>\n",
       "      <td>False</td>\n",
       "      <td>False</td>\n",
       "      <td>14.40</td>\n",
       "      <td>1.00</td>\n",
       "      <td>посёлок Парголово</td>\n",
       "      <td>52,996.00</td>\n",
       "      <td>19,143.00</td>\n",
       "      <td>0.00</td>\n",
       "      <td>NaN</td>\n",
       "      <td>0.00</td>\n",
       "      <td>NaN</td>\n",
       "      <td>155.00</td>\n",
       "      <td>99,195.71</td>\n",
       "      <td>3</td>\n",
       "      <td>11</td>\n",
       "      <td>2017</td>\n",
       "      <td>0.28</td>\n",
       "      <td>0.39</td>\n",
       "      <td>другой</td>\n",
       "    </tr>\n",
       "    <tr>\n",
       "      <th>7</th>\n",
       "      <td>5</td>\n",
       "      <td>7,915,000.00</td>\n",
       "      <td>71.60</td>\n",
       "      <td>2019-04-18</td>\n",
       "      <td>2</td>\n",
       "      <td>2.65</td>\n",
       "      <td>24.00</td>\n",
       "      <td>NaN</td>\n",
       "      <td>22</td>\n",
       "      <td>False</td>\n",
       "      <td>False</td>\n",
       "      <td>False</td>\n",
       "      <td>18.90</td>\n",
       "      <td>2.00</td>\n",
       "      <td>Санкт-Петербург</td>\n",
       "      <td>23,982.00</td>\n",
       "      <td>11,634.00</td>\n",
       "      <td>0.00</td>\n",
       "      <td>NaN</td>\n",
       "      <td>0.00</td>\n",
       "      <td>NaN</td>\n",
       "      <td>NaN</td>\n",
       "      <td>110,544.69</td>\n",
       "      <td>3</td>\n",
       "      <td>4</td>\n",
       "      <td>2019</td>\n",
       "      <td>NaN</td>\n",
       "      <td>0.26</td>\n",
       "      <td>другой</td>\n",
       "    </tr>\n",
       "    <tr>\n",
       "      <th>8</th>\n",
       "      <td>20</td>\n",
       "      <td>2,900,000.00</td>\n",
       "      <td>33.16</td>\n",
       "      <td>2018-05-23</td>\n",
       "      <td>1</td>\n",
       "      <td>2.65</td>\n",
       "      <td>27.00</td>\n",
       "      <td>15.43</td>\n",
       "      <td>26</td>\n",
       "      <td>False</td>\n",
       "      <td>False</td>\n",
       "      <td>False</td>\n",
       "      <td>8.81</td>\n",
       "      <td>0.00</td>\n",
       "      <td>посёлок Мурино</td>\n",
       "      <td>NaN</td>\n",
       "      <td>NaN</td>\n",
       "      <td>0.00</td>\n",
       "      <td>NaN</td>\n",
       "      <td>NaN</td>\n",
       "      <td>NaN</td>\n",
       "      <td>189.00</td>\n",
       "      <td>87,454.76</td>\n",
       "      <td>2</td>\n",
       "      <td>5</td>\n",
       "      <td>2018</td>\n",
       "      <td>0.47</td>\n",
       "      <td>0.27</td>\n",
       "      <td>другой</td>\n",
       "    </tr>\n",
       "    <tr>\n",
       "      <th>9</th>\n",
       "      <td>18</td>\n",
       "      <td>5,400,000.00</td>\n",
       "      <td>61.00</td>\n",
       "      <td>2017-02-26</td>\n",
       "      <td>3</td>\n",
       "      <td>2.50</td>\n",
       "      <td>9.00</td>\n",
       "      <td>43.60</td>\n",
       "      <td>7</td>\n",
       "      <td>False</td>\n",
       "      <td>False</td>\n",
       "      <td>False</td>\n",
       "      <td>6.50</td>\n",
       "      <td>2.00</td>\n",
       "      <td>Санкт-Петербург</td>\n",
       "      <td>50,898.00</td>\n",
       "      <td>15,008.00</td>\n",
       "      <td>0.00</td>\n",
       "      <td>NaN</td>\n",
       "      <td>0.00</td>\n",
       "      <td>NaN</td>\n",
       "      <td>289.00</td>\n",
       "      <td>88,524.59</td>\n",
       "      <td>6</td>\n",
       "      <td>2</td>\n",
       "      <td>2017</td>\n",
       "      <td>0.71</td>\n",
       "      <td>0.11</td>\n",
       "      <td>другой</td>\n",
       "    </tr>\n",
       "  </tbody>\n",
       "</table>\n",
       "</div>"
      ],
      "text/plain": [
       "   total_images    last_price  total_area first_day_exposition  rooms  \\\n",
       "0            20 13,000,000.00      108.00           2019-03-07      3   \n",
       "1             7  3,350,000.00       40.40           2018-12-04      1   \n",
       "2            10  5,196,000.00       56.00           2015-08-20      2   \n",
       "3             0 64,900,000.00      159.00           2015-07-24      3   \n",
       "4             2 10,000,000.00      100.00           2018-06-19      2   \n",
       "5            10  2,890,000.00       30.40           2018-09-10      1   \n",
       "6             6  3,700,000.00       37.30           2017-11-02      1   \n",
       "7             5  7,915,000.00       71.60           2019-04-18      2   \n",
       "8            20  2,900,000.00       33.16           2018-05-23      1   \n",
       "9            18  5,400,000.00       61.00           2017-02-26      3   \n",
       "\n",
       "   ceiling_height  floors_total  living_area  floor  is_apartment  studio  \\\n",
       "0            2.70         16.00        51.00      8         False   False   \n",
       "1            2.65         11.00        18.60      1         False   False   \n",
       "2            2.65          5.00        34.30      4         False   False   \n",
       "3            2.65         14.00          NaN      9         False   False   \n",
       "4            3.03         14.00        32.00     13         False   False   \n",
       "5            2.65         12.00        14.40      5         False   False   \n",
       "6            2.65         26.00        10.60      6         False   False   \n",
       "7            2.65         24.00          NaN     22         False   False   \n",
       "8            2.65         27.00        15.43     26         False   False   \n",
       "9            2.50          9.00        43.60      7         False   False   \n",
       "\n",
       "   open_plan  kitchen_area  balcony              locality_name  \\\n",
       "0      False         25.00     0.00            Санкт-Петербург   \n",
       "1      False         11.00     2.00             посёлок Шушары   \n",
       "2      False          8.30     0.00            Санкт-Петербург   \n",
       "3      False           NaN     0.00            Санкт-Петербург   \n",
       "4      False         41.00     0.00            Санкт-Петербург   \n",
       "5      False          9.10     0.00  городской посёлок Янино-1   \n",
       "6      False         14.40     1.00          посёлок Парголово   \n",
       "7      False         18.90     2.00            Санкт-Петербург   \n",
       "8      False          8.81     0.00             посёлок Мурино   \n",
       "9      False          6.50     2.00            Санкт-Петербург   \n",
       "\n",
       "   airports_nearest  city_centers_nearest  parks_around3000  parks_nearest  \\\n",
       "0         18,863.00             16,028.00              1.00         482.00   \n",
       "1         12,817.00             18,603.00              0.00            NaN   \n",
       "2         21,741.00             13,933.00              1.00          90.00   \n",
       "3         28,098.00              6,800.00              2.00          84.00   \n",
       "4         31,856.00              8,098.00              2.00         112.00   \n",
       "5               NaN                   NaN              0.00            NaN   \n",
       "6         52,996.00             19,143.00              0.00            NaN   \n",
       "7         23,982.00             11,634.00              0.00            NaN   \n",
       "8               NaN                   NaN              0.00            NaN   \n",
       "9         50,898.00             15,008.00              0.00            NaN   \n",
       "\n",
       "   ponds_around3000  ponds_nearest  days_exposition  price_per_sqr_m  weekday  \\\n",
       "0              2.00         755.00              NaN       120,370.37        3   \n",
       "1              0.00            NaN            81.00        82,920.79        1   \n",
       "2              2.00         574.00           558.00        92,785.71        3   \n",
       "3              3.00         234.00           424.00       408,176.10        4   \n",
       "4              1.00          48.00           121.00       100,000.00        1   \n",
       "5               NaN            NaN            55.00        95,065.79        0   \n",
       "6              0.00            NaN           155.00        99,195.71        3   \n",
       "7              0.00            NaN              NaN       110,544.69        3   \n",
       "8               NaN            NaN           189.00        87,454.76        2   \n",
       "9              0.00            NaN           289.00        88,524.59        6   \n",
       "\n",
       "   month  year  living/total_area  kitchen/total_area floor_category  \n",
       "0      3  2019               0.47                0.23         другой  \n",
       "1     12  2018               0.46                0.27         первый  \n",
       "2      8  2015               0.61                0.15         другой  \n",
       "3      7  2015                NaN                 NaN         другой  \n",
       "4      6  2018               0.32                0.41         другой  \n",
       "5      9  2018               0.47                0.30         другой  \n",
       "6     11  2017               0.28                0.39         другой  \n",
       "7      4  2019                NaN                0.26         другой  \n",
       "8      5  2018               0.47                0.27         другой  \n",
       "9      2  2017               0.71                0.11         другой  "
      ]
     },
     "execution_count": 161,
     "metadata": {},
     "output_type": "execute_result"
    }
   ],
   "source": [
    "def floor_category(floor_number):\n",
    "    \n",
    "    if floor_number.loc['floor'] == 1:\n",
    "        return 'первый'\n",
    "    elif floor_number.loc['floor'] == floor_number.loc['floors_total']:\n",
    "        return 'последний'\n",
    "    else:\n",
    "        return 'другой'\n",
    "\n",
    "\n",
    "data['floor_category'] = data.apply(floor_category, axis=1)\n",
    "data.head(10)"
   ]
  },
  {
   "cell_type": "markdown",
   "metadata": {},
   "source": [
    "## Исследовательский анализ данных"
   ]
  },
  {
   "cell_type": "markdown",
   "metadata": {},
   "source": [
    "### Исследование всех квартир из датасета\n",
    "\n",
    "При помощи метода describe() получим данные об общей площади, цене, количестве комнат и  высоте потолков."
   ]
  },
  {
   "cell_type": "code",
   "execution_count": 162,
   "metadata": {},
   "outputs": [
    {
     "data": {
      "text/html": [
       "<div>\n",
       "<style scoped>\n",
       "    .dataframe tbody tr th:only-of-type {\n",
       "        vertical-align: middle;\n",
       "    }\n",
       "\n",
       "    .dataframe tbody tr th {\n",
       "        vertical-align: top;\n",
       "    }\n",
       "\n",
       "    .dataframe thead th {\n",
       "        text-align: right;\n",
       "    }\n",
       "</style>\n",
       "<table border=\"1\" class=\"dataframe\">\n",
       "  <thead>\n",
       "    <tr style=\"text-align: right;\">\n",
       "      <th></th>\n",
       "      <th>total_area</th>\n",
       "      <th>last_price</th>\n",
       "      <th>rooms</th>\n",
       "      <th>ceiling_height</th>\n",
       "    </tr>\n",
       "  </thead>\n",
       "  <tbody>\n",
       "    <tr>\n",
       "      <th>count</th>\n",
       "      <td>23,468.00</td>\n",
       "      <td>23,468.00</td>\n",
       "      <td>23,468.00</td>\n",
       "      <td>23,468.00</td>\n",
       "    </tr>\n",
       "    <tr>\n",
       "      <th>mean</th>\n",
       "      <td>59.64</td>\n",
       "      <td>6,221,434.09</td>\n",
       "      <td>2.06</td>\n",
       "      <td>2.70</td>\n",
       "    </tr>\n",
       "    <tr>\n",
       "      <th>std</th>\n",
       "      <td>32.44</td>\n",
       "      <td>6,354,973.57</td>\n",
       "      <td>1.03</td>\n",
       "      <td>0.22</td>\n",
       "    </tr>\n",
       "    <tr>\n",
       "      <th>min</th>\n",
       "      <td>12.00</td>\n",
       "      <td>12,190.00</td>\n",
       "      <td>0.00</td>\n",
       "      <td>2.00</td>\n",
       "    </tr>\n",
       "    <tr>\n",
       "      <th>25%</th>\n",
       "      <td>40.00</td>\n",
       "      <td>3,400,000.00</td>\n",
       "      <td>1.00</td>\n",
       "      <td>2.60</td>\n",
       "    </tr>\n",
       "    <tr>\n",
       "      <th>50%</th>\n",
       "      <td>52.00</td>\n",
       "      <td>4,600,000.00</td>\n",
       "      <td>2.00</td>\n",
       "      <td>2.65</td>\n",
       "    </tr>\n",
       "    <tr>\n",
       "      <th>75%</th>\n",
       "      <td>69.30</td>\n",
       "      <td>6,750,000.00</td>\n",
       "      <td>3.00</td>\n",
       "      <td>2.70</td>\n",
       "    </tr>\n",
       "    <tr>\n",
       "      <th>max</th>\n",
       "      <td>517.00</td>\n",
       "      <td>99,000,000.00</td>\n",
       "      <td>7.00</td>\n",
       "      <td>5.80</td>\n",
       "    </tr>\n",
       "  </tbody>\n",
       "</table>\n",
       "</div>"
      ],
      "text/plain": [
       "       total_area    last_price     rooms  ceiling_height\n",
       "count   23,468.00     23,468.00 23,468.00       23,468.00\n",
       "mean        59.64  6,221,434.09      2.06            2.70\n",
       "std         32.44  6,354,973.57      1.03            0.22\n",
       "min         12.00     12,190.00      0.00            2.00\n",
       "25%         40.00  3,400,000.00      1.00            2.60\n",
       "50%         52.00  4,600,000.00      2.00            2.65\n",
       "75%         69.30  6,750,000.00      3.00            2.70\n",
       "max        517.00 99,000,000.00      7.00            5.80"
      ]
     },
     "execution_count": 162,
     "metadata": {},
     "output_type": "execute_result"
    }
   ],
   "source": [
    "data[['total_area', 'last_price', 'rooms', 'ceiling_height']].describe()"
   ]
  },
  {
   "cell_type": "markdown",
   "metadata": {},
   "source": [
    "Построим гистограмму для каждого из этих столбцов."
   ]
  },
  {
   "cell_type": "code",
   "execution_count": 220,
   "metadata": {},
   "outputs": [
    {
     "data": {
      "image/png": "[encoded data removed]",
      "text/plain": [
       "<Figure size 1080x216 with 1 Axes>"
      ]
     },
     "metadata": {
      "needs_background": "light"
     },
     "output_type": "display_data"
    }
   ],
   "source": [
    "data.hist('total_area',\n",
    "          bins=50, \n",
    "          range=(0,200), \n",
    "          figsize=(15,3),\n",
    "          color='teal');"
   ]
  },
  {
   "cell_type": "code",
   "execution_count": 215,
   "metadata": {
    "scrolled": true
   },
   "outputs": [
    {
     "data": {
      "image/png": "[encoded data removed]",
      "text/plain": [
       "<Figure size 1080x216 with 1 Axes>"
      ]
     },
     "metadata": {
      "needs_background": "light"
     },
     "output_type": "display_data"
    }
   ],
   "source": [
    "data.hist('last_price',\n",
    "          bins=100, \n",
    "          range=(0, 15000000), \n",
    "          figsize=(15,3),\n",
    "          color='seagreen');"
   ]
  },
  {
   "cell_type": "code",
   "execution_count": 222,
   "metadata": {
    "scrolled": true
   },
   "outputs": [
    {
     "data": {
      "image/png": "[encoded data removed]",
      "text/plain": [
       "<Figure size 1080x216 with 1 Axes>"
      ]
     },
     "metadata": {
      "needs_background": "light"
     },
     "output_type": "display_data"
    }
   ],
   "source": [
    "data.hist('rooms',\n",
    "          bins=8, \n",
    "          range=(0,7), \n",
    "          figsize=(15,3),\n",
    "          color='forestgreen');"
   ]
  },
  {
   "cell_type": "code",
   "execution_count": 229,
   "metadata": {
    "scrolled": true
   },
   "outputs": [
    {
     "data": {
      "image/png": "[encoded data removed]",
      "text/plain": [
       "<Figure size 1080x216 with 1 Axes>"
      ]
     },
     "metadata": {
      "needs_background": "light"
     },
     "output_type": "display_data"
    }
   ],
   "source": [
    "data.hist('ceiling_height',\n",
    "          bins=10, \n",
    "          range=(2.5,3.4), \n",
    "          figsize=(15,3),\n",
    "          color='teal');"
   ]
  },
  {
   "cell_type": "markdown",
   "metadata": {},
   "source": [
    "Вывод: в результате анализа видно, что для большинства квартир в Ленинградской области характерны следующие медианные значения:\n",
    "\n",
    "общая площадь 52 кв.м;\n",
    "\n",
    "цена 4,6 млн. руб.;\n",
    "\n",
    "количество комнат 2 (разница между одно- и двухкомнатными квартирами незначительна, трехкомнатных квартир немного меньше);\n",
    "\n",
    "высота потолков 2,65 м.\n"
   ]
  },
  {
   "cell_type": "markdown",
   "metadata": {},
   "source": [
    "## Время продажи квартиры\n",
    "\n",
    "Изучим время продажи квартиры при помощи метода describe() и диаграммы размаха.\n",
    "Построим гистограмму."
   ]
  },
  {
   "cell_type": "code",
   "execution_count": 167,
   "metadata": {},
   "outputs": [
    {
     "data": {
      "text/html": [
       "<div>\n",
       "<style scoped>\n",
       "    .dataframe tbody tr th:only-of-type {\n",
       "        vertical-align: middle;\n",
       "    }\n",
       "\n",
       "    .dataframe tbody tr th {\n",
       "        vertical-align: top;\n",
       "    }\n",
       "\n",
       "    .dataframe thead th {\n",
       "        text-align: right;\n",
       "    }\n",
       "</style>\n",
       "<table border=\"1\" class=\"dataframe\">\n",
       "  <thead>\n",
       "    <tr style=\"text-align: right;\">\n",
       "      <th></th>\n",
       "      <th>days_exposition</th>\n",
       "    </tr>\n",
       "  </thead>\n",
       "  <tbody>\n",
       "    <tr>\n",
       "      <th>count</th>\n",
       "      <td>20,315.00</td>\n",
       "    </tr>\n",
       "    <tr>\n",
       "      <th>mean</th>\n",
       "      <td>180.31</td>\n",
       "    </tr>\n",
       "    <tr>\n",
       "      <th>std</th>\n",
       "      <td>219.32</td>\n",
       "    </tr>\n",
       "    <tr>\n",
       "      <th>min</th>\n",
       "      <td>1.00</td>\n",
       "    </tr>\n",
       "    <tr>\n",
       "      <th>25%</th>\n",
       "      <td>45.00</td>\n",
       "    </tr>\n",
       "    <tr>\n",
       "      <th>50%</th>\n",
       "      <td>95.00</td>\n",
       "    </tr>\n",
       "    <tr>\n",
       "      <th>75%</th>\n",
       "      <td>230.00</td>\n",
       "    </tr>\n",
       "    <tr>\n",
       "      <th>max</th>\n",
       "      <td>1,580.00</td>\n",
       "    </tr>\n",
       "  </tbody>\n",
       "</table>\n",
       "</div>"
      ],
      "text/plain": [
       "       days_exposition\n",
       "count        20,315.00\n",
       "mean            180.31\n",
       "std             219.32\n",
       "min               1.00\n",
       "25%              45.00\n",
       "50%              95.00\n",
       "75%             230.00\n",
       "max           1,580.00"
      ]
     },
     "execution_count": 167,
     "metadata": {},
     "output_type": "execute_result"
    }
   ],
   "source": [
    "data[['days_exposition']].describe()"
   ]
  },
  {
   "cell_type": "code",
   "execution_count": 168,
   "metadata": {},
   "outputs": [
    {
     "data": {
      "text/plain": [
       "(-10.0, 600.0)"
      ]
     },
     "execution_count": 168,
     "metadata": {},
     "output_type": "execute_result"
    },
    {
     "data": {
      "image/png": "[encoded data removed]",
      "text/plain": [
       "<Figure size 432x288 with 1 Axes>"
      ]
     },
     "metadata": {
      "needs_background": "light"
     },
     "output_type": "display_data"
    }
   ],
   "source": [
    "data.boxplot('days_exposition')\n",
    "plt.ylim(-10, 600)"
   ]
  },
  {
   "cell_type": "code",
   "execution_count": 239,
   "metadata": {},
   "outputs": [
    {
     "data": {
      "image/png": "[encoded data removed]",
      "text/plain": [
       "<Figure size 1080x360 with 1 Axes>"
      ]
     },
     "metadata": {
      "needs_background": "light"
     },
     "output_type": "display_data"
    }
   ],
   "source": [
    "data.hist('days_exposition', \n",
    "          bins=100, \n",
    "          range=(0,500),\n",
    "          figsize=(15,5),\n",
    "          color='mediumseagreen');"
   ]
  },
  {
   "cell_type": "markdown",
   "metadata": {},
   "source": [
    "Среднее значение: 180 дней\n",
    "Медианное значение: 95 дней"
   ]
  },
  {
   "cell_type": "markdown",
   "metadata": {},
   "source": [
    "В результате анализа видно, что большинство квартир в Ленинградской области продается в период от 45 до 230 дней.\n",
    "Если квартира продана быстрее, чем за 45 дней, можно считать, что продажа прошла очень быстро. Продажи, занявшие более 230 дней можно считать достаточно долгими.\n",
    "((Также имеются выбросы и выбивающиеся значения. Избавимся от них.))\n",
    "\n",
    "((Удалим выбросы: продажи, длившиеся более 520 дней (их доля мала и составляет около 8 процентов) и после этого снова проанализируем результаты.))"
   ]
  },
  {
   "cell_type": "code",
   "execution_count": 170,
   "metadata": {
    "scrolled": true
   },
   "outputs": [
    {
     "data": {
      "text/html": [
       "<div>\n",
       "<style scoped>\n",
       "    .dataframe tbody tr th:only-of-type {\n",
       "        vertical-align: middle;\n",
       "    }\n",
       "\n",
       "    .dataframe tbody tr th {\n",
       "        vertical-align: top;\n",
       "    }\n",
       "\n",
       "    .dataframe thead th {\n",
       "        text-align: right;\n",
       "    }\n",
       "</style>\n",
       "<table border=\"1\" class=\"dataframe\">\n",
       "  <thead>\n",
       "    <tr style=\"text-align: right;\">\n",
       "      <th></th>\n",
       "      <th>days_exposition</th>\n",
       "    </tr>\n",
       "  </thead>\n",
       "  <tbody>\n",
       "    <tr>\n",
       "      <th>count</th>\n",
       "      <td>20,315.00</td>\n",
       "    </tr>\n",
       "    <tr>\n",
       "      <th>mean</th>\n",
       "      <td>180.31</td>\n",
       "    </tr>\n",
       "    <tr>\n",
       "      <th>std</th>\n",
       "      <td>219.32</td>\n",
       "    </tr>\n",
       "    <tr>\n",
       "      <th>min</th>\n",
       "      <td>1.00</td>\n",
       "    </tr>\n",
       "    <tr>\n",
       "      <th>25%</th>\n",
       "      <td>45.00</td>\n",
       "    </tr>\n",
       "    <tr>\n",
       "      <th>50%</th>\n",
       "      <td>95.00</td>\n",
       "    </tr>\n",
       "    <tr>\n",
       "      <th>75%</th>\n",
       "      <td>230.00</td>\n",
       "    </tr>\n",
       "    <tr>\n",
       "      <th>max</th>\n",
       "      <td>1,580.00</td>\n",
       "    </tr>\n",
       "  </tbody>\n",
       "</table>\n",
       "</div>"
      ],
      "text/plain": [
       "       days_exposition\n",
       "count        20,315.00\n",
       "mean            180.31\n",
       "std             219.32\n",
       "min               1.00\n",
       "25%              45.00\n",
       "50%              95.00\n",
       "75%             230.00\n",
       "max           1,580.00"
      ]
     },
     "execution_count": 170,
     "metadata": {},
     "output_type": "execute_result"
    }
   ],
   "source": [
    "data[['days_exposition']].describe()"
   ]
  },
  {
   "cell_type": "markdown",
   "metadata": {},
   "source": [
    "**Выводы по обновленным данным**:\n",
    "\n",
    "Среднее значение: 180 день\n",
    "Медианное значение: 95 дней\n",
    "\n",
    "В результате анализа видно, что большинство квартир в Ленинградской области продается в период от 45 до 230 дней.\n",
    "Если квартира продана быстрее, чем за 45 дней, можно считать, что продажа прошла очень быстро. Продажи, занявшие более 230 дней можно считать достаточно долгими.\n",
    "\n",
    "В данных видны следующие особенности: \n",
    "на гистограмме по столбцу days_exposition видны несколько больших пиков в период от 0 до 100 дней. Возможно, наличие пиков связано с особенностями работы сайта.\n",
    "\n"
   ]
  },
  {
   "cell_type": "markdown",
   "metadata": {},
   "source": [
    "## Какие факторы больше всего влияют на стоимость квартиры?**\n",
    "\n",
    "При помощи графиков, построенных методом plot(), изучим, зависит ли цена от \n",
    "\n",
    "площади 'total_area ', \n",
    "\n",
    "числа комнат 'rooms', \n",
    "\n",
    "удалённости от центра 'city_centers_nearest'.   "
   ]
  },
  {
   "cell_type": "markdown",
   "metadata": {},
   "source": [
    " ### Зависимость стоимости квартиры от площади\n",
    " \n",
    " Построим график при помощи метода plot()."
   ]
  },
  {
   "cell_type": "code",
   "execution_count": 243,
   "metadata": {},
   "outputs": [
    {
     "data": {
      "image/png": "[encoded data removed]",
      "text/plain": [
       "<Figure size 1080x504 with 1 Axes>"
      ]
     },
     "metadata": {
      "needs_background": "light"
     },
     "output_type": "display_data"
    }
   ],
   "source": [
    "data.plot(title='Зависимость стоимости квартиры от площади', \n",
    "          x='last_price', \n",
    "          y='total_area', \n",
    "          style='o', \n",
    "          alpha=0.3, \n",
    "          color='forestgreen',\n",
    "          xlim=(0,40000000), \n",
    "          ylim=(0,600),\n",
    "          figsize=(15,7));"
   ]
  },
  {
   "cell_type": "markdown",
   "metadata": {},
   "source": [
    " Вывод: прослеживается зависимость роста цены с ростом площади, однако видно большое рассеяние, означающее, что есть небольшие дорогие квартиры и есть большие дешевые. Скорее всего, на стоимость квартиры влияют также и другие факторы, которые будут рассмотрены далее."
   ]
  },
  {
   "cell_type": "markdown",
   "metadata": {},
   "source": [
    " ### Зависимость стоимости квартиры от количества комнат\n",
    " Сгруппируем данные по количеству комнат при помощи метода groupby(), для кажной группы посчитаем медианное значение, визуализируем результат методом plot()."
   ]
  },
  {
   "cell_type": "code",
   "execution_count": 172,
   "metadata": {},
   "outputs": [
    {
     "data": {
      "image/png": "[encoded data removed]",
      "text/plain": [
       "<Figure size 1080x360 with 1 Axes>"
      ]
     },
     "metadata": {
      "needs_background": "light"
     },
     "output_type": "display_data"
    }
   ],
   "source": [
    "data.groupby('rooms')['last_price'].median().plot(title='Зависимость стоимости квартиры от количества комнат', \n",
    "                                                  x='last_price', \n",
    "                                                  style='o', \n",
    "                                                  y='rooms', \n",
    "                                                  color='teal',\n",
    "                                                  xlim=(-1,8),\n",
    "                                                 figsize=(15,5));"
   ]
  },
  {
   "cell_type": "markdown",
   "metadata": {},
   "source": [
    "     Вывод: цены на квартиры с бОльшим количестом комнат выше, более резко возрастают цены на квартиры, в которых больше 4х комнат. "
   ]
  },
  {
   "cell_type": "markdown",
   "metadata": {},
   "source": [
    " ### Зависимость стоимости квартиры от этажа\n",
    " \n",
    " Сгруппируем данные по количеству этажу при помощи метода groupby(), для кажной группы посчитаем медианное значение, визуализируем результат методом plot()."
   ]
  },
  {
   "cell_type": "code",
   "execution_count": 240,
   "metadata": {},
   "outputs": [
    {
     "data": {
      "image/png": "[encoded data removed]",
      "text/plain": [
       "<Figure size 720x360 with 1 Axes>"
      ]
     },
     "metadata": {
      "needs_background": "light"
     },
     "output_type": "display_data"
    }
   ],
   "source": [
    "data.groupby('floor_category')['last_price'].median().plot(title='Зависимость стоимости квартиры от этажа',\n",
    "                                                           y='last_price', \n",
    "                                                           x='floor_category', \n",
    "                                                           kind='bar',\n",
    "                                                           color='seagreen',\n",
    "                                                           figsize=(10,5));"
   ]
  },
  {
   "cell_type": "markdown",
   "metadata": {},
   "source": [
    "**Вывод:** самые низкие цены на квартиры, расположенные на первом этаже, на картиры на последнем этаже цены чуть выше. На других этажах цены выше."
   ]
  },
  {
   "cell_type": "markdown",
   "metadata": {},
   "source": [
    "### Зависимость от даты размещения: дня недели, месяца и года\n",
    "\n",
    "Сгруппируем данные по дню недели, месяцу и году при помощи метода groupby(), для кажной группы посчитаем медианное значение, визуализируем результат методом plot()."
   ]
  },
  {
   "cell_type": "code",
   "execution_count": 245,
   "metadata": {},
   "outputs": [
    {
     "data": {
      "image/png": "[encoded data removed]",
      "text/plain": [
       "<Figure size 576x216 with 1 Axes>"
      ]
     },
     "metadata": {
      "needs_background": "light"
     },
     "output_type": "display_data"
    }
   ],
   "source": [
    "data.groupby('weekday')['last_price'].median().plot(title='Зависимость стоимости квартиры от дня недели', \n",
    "                                                    y='last_price', \n",
    "                                                    x='floor_category', \n",
    "                                                    style='o-', \n",
    "                                                    figsize=(8,3), \n",
    "                                                    xlim=(-1,7),\n",
    "                                                    color='forestgreen',\n",
    "                                                    grid=True);"
   ]
  },
  {
   "cell_type": "markdown",
   "metadata": {},
   "source": [
    "**Вывод:** максимальные цены у квартир, объявления о продаже которых размещены в субботу и понедельниик. Миниальная стоимость - во вторник и воскресенье. \n",
    "Возможно, такая закономерность связана с тем, что объявления обычно размещаются в первый рабочий день недели и первый выходной день, на следующий день заметно резкое падение цен."
   ]
  },
  {
   "cell_type": "code",
   "execution_count": 175,
   "metadata": {},
   "outputs": [
    {
     "data": {
      "image/png": "[encoded data removed]",
      "text/plain": [
       "<Figure size 720x216 with 1 Axes>"
      ]
     },
     "metadata": {
      "needs_background": "light"
     },
     "output_type": "display_data"
    }
   ],
   "source": [
    "data.groupby('month')['last_price'].median().plot(title='Зависимость стоимости квартиры от месяца',\n",
    "                                                  y='last_price', \n",
    "                                                  x='floor_category', \n",
    "                                                  style='o-', \n",
    "                                                  figsize=(10,3), \n",
    "                                                  xlim=(0,13), \n",
    "                                                  color='teal',\n",
    "                                                  grid=True);"
   ]
  },
  {
   "cell_type": "markdown",
   "metadata": {},
   "source": [
    "**Вывод:** наблюдается снижение стоимости квартир к июнь и рост цен к концу года ноябре и декабре."
   ]
  },
  {
   "cell_type": "code",
   "execution_count": 176,
   "metadata": {},
   "outputs": [
    {
     "data": {
      "text/plain": [
       "<AxesSubplot:title={'center':'Зависимость стоимости квартиры от года размещения объявления'}, xlabel='year'>"
      ]
     },
     "execution_count": 176,
     "metadata": {},
     "output_type": "execute_result"
    },
    {
     "data": {
      "image/png": "[encoded data removed]",
      "text/plain": [
       "<Figure size 576x216 with 1 Axes>"
      ]
     },
     "metadata": {
      "needs_background": "light"
     },
     "output_type": "display_data"
    }
   ],
   "source": [
    "data.groupby('year')['last_price'].median().plot(title='Зависимость стоимости квартиры от года размещения объявления', \n",
    "                                                 y='last_price', \n",
    "                                                 x='floor_category', \n",
    "                                                 style='o-', \n",
    "                                                 figsize=(8,3), \n",
    "                                                 xlim=(2014, 2020),\n",
    "                                                 color='olive',\n",
    "                                                 grid=True)"
   ]
  },
  {
   "cell_type": "markdown",
   "metadata": {},
   "source": [
    "По графику видно, что в 2016-2018 годах медианная стоимость квартир снижавется примерно на 400 тыс. рублей, в 2019 снова возрастает.\n",
    "\n",
    "Возможно, это связано с другими характеристиками квартир: площадь, расположение и т.д.\n",
    "\n",
    "Более показательной будет зависимост стоимости квадратного метра от года. Построим его аналогичным способом."
   ]
  },
  {
   "cell_type": "code",
   "execution_count": 177,
   "metadata": {},
   "outputs": [
    {
     "data": {
      "image/png": "[encoded data removed]",
      "text/plain": [
       "<Figure size 576x216 with 1 Axes>"
      ]
     },
     "metadata": {
      "needs_background": "light"
     },
     "output_type": "display_data"
    }
   ],
   "source": [
    "data.groupby('year')['price_per_sqr_m'].median().plot(title='Зависимость стоимости квадратного метра от года размещения объявления', \n",
    "                                                      y='last_price', \n",
    "                                                      x='floor_category', \n",
    "                                                      style='o-', \n",
    "                                                      figsize=(8,3), \n",
    "                                                      xlim=(2014, 2020),\n",
    "                                                      color='teal',\n",
    "                                                      grid=True);"
   ]
  },
  {
   "cell_type": "markdown",
   "metadata": {},
   "source": [
    "**Вывод:** с каждым годом наблюдается повышение стоимости квадратного метра квартир, также заметно, что скорость роста цен также цвеличивается."
   ]
  },
  {
   "cell_type": "markdown",
   "metadata": {},
   "source": [
    "### Матрица корреляций\n",
    "Для создания матрицы корреляций выделим в отдельную таблицу колонки с параметрами, которые могли бы повлиять на цену:\n",
    "* общая площадь\n",
    "* количество комнат\n",
    "* высота потолков\n",
    "* жилая площадь\n",
    "* расстояние до парка\n",
    "* расстояние до пруда"
   ]
  },
  {
   "cell_type": "code",
   "execution_count": 178,
   "metadata": {},
   "outputs": [
    {
     "data": {
      "text/html": [
       "<div>\n",
       "<style scoped>\n",
       "    .dataframe tbody tr th:only-of-type {\n",
       "        vertical-align: middle;\n",
       "    }\n",
       "\n",
       "    .dataframe tbody tr th {\n",
       "        vertical-align: top;\n",
       "    }\n",
       "\n",
       "    .dataframe thead th {\n",
       "        text-align: right;\n",
       "    }\n",
       "</style>\n",
       "<table border=\"1\" class=\"dataframe\">\n",
       "  <thead>\n",
       "    <tr style=\"text-align: right;\">\n",
       "      <th></th>\n",
       "      <th>last_price</th>\n",
       "      <th>total_area</th>\n",
       "      <th>rooms</th>\n",
       "      <th>ceiling_height</th>\n",
       "      <th>living_area</th>\n",
       "      <th>parks_nearest</th>\n",
       "      <th>city_centers_nearest</th>\n",
       "      <th>ponds_nearest</th>\n",
       "      <th>price_per_sqr_m</th>\n",
       "    </tr>\n",
       "  </thead>\n",
       "  <tbody>\n",
       "    <tr>\n",
       "      <th>last_price</th>\n",
       "      <td>1.00</td>\n",
       "      <td>0.77</td>\n",
       "      <td>0.46</td>\n",
       "      <td>0.40</td>\n",
       "      <td>0.68</td>\n",
       "      <td>-0.02</td>\n",
       "      <td>-0.30</td>\n",
       "      <td>-0.12</td>\n",
       "      <td>0.72</td>\n",
       "    </tr>\n",
       "    <tr>\n",
       "      <th>total_area</th>\n",
       "      <td>0.77</td>\n",
       "      <td>1.00</td>\n",
       "      <td>0.76</td>\n",
       "      <td>0.40</td>\n",
       "      <td>0.94</td>\n",
       "      <td>-0.02</td>\n",
       "      <td>-0.23</td>\n",
       "      <td>-0.10</td>\n",
       "      <td>0.25</td>\n",
       "    </tr>\n",
       "    <tr>\n",
       "      <th>rooms</th>\n",
       "      <td>0.46</td>\n",
       "      <td>0.76</td>\n",
       "      <td>1.00</td>\n",
       "      <td>0.23</td>\n",
       "      <td>0.84</td>\n",
       "      <td>-0.06</td>\n",
       "      <td>-0.18</td>\n",
       "      <td>-0.05</td>\n",
       "      <td>0.01</td>\n",
       "    </tr>\n",
       "    <tr>\n",
       "      <th>ceiling_height</th>\n",
       "      <td>0.40</td>\n",
       "      <td>0.40</td>\n",
       "      <td>0.23</td>\n",
       "      <td>1.00</td>\n",
       "      <td>0.38</td>\n",
       "      <td>-0.06</td>\n",
       "      <td>-0.29</td>\n",
       "      <td>-0.11</td>\n",
       "      <td>0.30</td>\n",
       "    </tr>\n",
       "    <tr>\n",
       "      <th>living_area</th>\n",
       "      <td>0.68</td>\n",
       "      <td>0.94</td>\n",
       "      <td>0.84</td>\n",
       "      <td>0.38</td>\n",
       "      <td>1.00</td>\n",
       "      <td>-0.05</td>\n",
       "      <td>-0.23</td>\n",
       "      <td>-0.08</td>\n",
       "      <td>0.16</td>\n",
       "    </tr>\n",
       "    <tr>\n",
       "      <th>parks_nearest</th>\n",
       "      <td>-0.02</td>\n",
       "      <td>-0.02</td>\n",
       "      <td>-0.06</td>\n",
       "      <td>-0.06</td>\n",
       "      <td>-0.05</td>\n",
       "      <td>1.00</td>\n",
       "      <td>-0.04</td>\n",
       "      <td>0.00</td>\n",
       "      <td>0.02</td>\n",
       "    </tr>\n",
       "    <tr>\n",
       "      <th>city_centers_nearest</th>\n",
       "      <td>-0.30</td>\n",
       "      <td>-0.23</td>\n",
       "      <td>-0.18</td>\n",
       "      <td>-0.29</td>\n",
       "      <td>-0.23</td>\n",
       "      <td>-0.04</td>\n",
       "      <td>1.00</td>\n",
       "      <td>0.03</td>\n",
       "      <td>-0.36</td>\n",
       "    </tr>\n",
       "    <tr>\n",
       "      <th>ponds_nearest</th>\n",
       "      <td>-0.12</td>\n",
       "      <td>-0.10</td>\n",
       "      <td>-0.05</td>\n",
       "      <td>-0.11</td>\n",
       "      <td>-0.08</td>\n",
       "      <td>0.00</td>\n",
       "      <td>0.03</td>\n",
       "      <td>1.00</td>\n",
       "      <td>-0.11</td>\n",
       "    </tr>\n",
       "    <tr>\n",
       "      <th>price_per_sqr_m</th>\n",
       "      <td>0.72</td>\n",
       "      <td>0.25</td>\n",
       "      <td>0.01</td>\n",
       "      <td>0.30</td>\n",
       "      <td>0.16</td>\n",
       "      <td>0.02</td>\n",
       "      <td>-0.36</td>\n",
       "      <td>-0.11</td>\n",
       "      <td>1.00</td>\n",
       "    </tr>\n",
       "  </tbody>\n",
       "</table>\n",
       "</div>"
      ],
      "text/plain": [
       "                      last_price  total_area  rooms  ceiling_height  \\\n",
       "last_price                  1.00        0.77   0.46            0.40   \n",
       "total_area                  0.77        1.00   0.76            0.40   \n",
       "rooms                       0.46        0.76   1.00            0.23   \n",
       "ceiling_height              0.40        0.40   0.23            1.00   \n",
       "living_area                 0.68        0.94   0.84            0.38   \n",
       "parks_nearest              -0.02       -0.02  -0.06           -0.06   \n",
       "city_centers_nearest       -0.30       -0.23  -0.18           -0.29   \n",
       "ponds_nearest              -0.12       -0.10  -0.05           -0.11   \n",
       "price_per_sqr_m             0.72        0.25   0.01            0.30   \n",
       "\n",
       "                      living_area  parks_nearest  city_centers_nearest  \\\n",
       "last_price                   0.68          -0.02                 -0.30   \n",
       "total_area                   0.94          -0.02                 -0.23   \n",
       "rooms                        0.84          -0.06                 -0.18   \n",
       "ceiling_height               0.38          -0.06                 -0.29   \n",
       "living_area                  1.00          -0.05                 -0.23   \n",
       "parks_nearest               -0.05           1.00                 -0.04   \n",
       "city_centers_nearest        -0.23          -0.04                  1.00   \n",
       "ponds_nearest               -0.08           0.00                  0.03   \n",
       "price_per_sqr_m              0.16           0.02                 -0.36   \n",
       "\n",
       "                      ponds_nearest  price_per_sqr_m  \n",
       "last_price                    -0.12             0.72  \n",
       "total_area                    -0.10             0.25  \n",
       "rooms                         -0.05             0.01  \n",
       "ceiling_height                -0.11             0.30  \n",
       "living_area                   -0.08             0.16  \n",
       "parks_nearest                  0.00             0.02  \n",
       "city_centers_nearest           0.03            -0.36  \n",
       "ponds_nearest                  1.00            -0.11  \n",
       "price_per_sqr_m               -0.11             1.00  "
      ]
     },
     "execution_count": 178,
     "metadata": {},
     "output_type": "execute_result"
    }
   ],
   "source": [
    "data_corr = data[['last_price','total_area', 'rooms','ceiling_height','living_area', 'parks_nearest', 'city_centers_nearest', 'ponds_nearest','price_per_sqr_m']]\n",
    "data_corr.corr()"
   ]
  },
  {
   "cell_type": "markdown",
   "metadata": {},
   "source": [
    "**Вывод:** прослеживается корреляция между ценой и общей площадью (0,76), количеством комнат (0,32), высотой потолков (0,37), жилой площалью (0,66), расстоянием до центра (-0.29);\n",
    "\n",
    "также есть слабя корреляция между выстотй потоков (0,27), общей площадью (0,22), расстоянием до центра (-0,37)."
   ]
  },
  {
   "cell_type": "markdown",
   "metadata": {},
   "source": [
    "## 10 населённых пунктов с наибольшим числом объявлений\n",
    "\n",
    "Выберем 10 населённых пунктов с наибольшим числом объявлений посчитаем среднюю цену квадратного метра в этих населённых пунктах.\n",
    "\n",
    "Выделитм среди них населённые пункты с самой высокой и низкой стоимостью жилья. "
   ]
  },
  {
   "cell_type": "markdown",
   "metadata": {},
   "source": [
    "Получим список населенных пунктов с наибольшим числом объявлений. Для этого применим метод groupby() к столбцу с названиями населенных пунктов и отсортируем данные по убыванию количества объявлений."
   ]
  },
  {
   "cell_type": "code",
   "execution_count": 179,
   "metadata": {},
   "outputs": [
    {
     "data": {
      "text/plain": [
       "locality_name\n",
       "Санкт-Петербург      15568\n",
       "посёлок Мурино         518\n",
       "посёлок Шушары         439\n",
       "Всеволожск             398\n",
       "Пушкин                 369\n",
       "Колпино                337\n",
       "посёлок Парголово      327\n",
       "Гатчина                306\n",
       "деревня Кудрово        299\n",
       "Выборг                 237\n",
       "Name: price_per_sqr_m, dtype: int64"
      ]
     },
     "execution_count": 179,
     "metadata": {},
     "output_type": "execute_result"
    }
   ],
   "source": [
    "data.groupby('locality_name')['price_per_sqr_m'].count().sort_values(ascending=False).head(10)"
   ]
  },
  {
   "cell_type": "markdown",
   "metadata": {},
   "source": [
    "Сохраним данные об этих населенных пунктах в отдельный датает, для этого сначала создадим список с названиями 10 интересующих населенных пунктов locality10. После этого создадим датафрейм data10, содержащий информацию обо всех объектах в населенных пунктах из списка locality10."
   ]
  },
  {
   "cell_type": "code",
   "execution_count": 180,
   "metadata": {},
   "outputs": [
    {
     "data": {
      "text/html": [
       "<div>\n",
       "<style scoped>\n",
       "    .dataframe tbody tr th:only-of-type {\n",
       "        vertical-align: middle;\n",
       "    }\n",
       "\n",
       "    .dataframe tbody tr th {\n",
       "        vertical-align: top;\n",
       "    }\n",
       "\n",
       "    .dataframe thead th {\n",
       "        text-align: right;\n",
       "    }\n",
       "</style>\n",
       "<table border=\"1\" class=\"dataframe\">\n",
       "  <thead>\n",
       "    <tr style=\"text-align: right;\">\n",
       "      <th></th>\n",
       "      <th>total_images</th>\n",
       "      <th>last_price</th>\n",
       "      <th>total_area</th>\n",
       "      <th>first_day_exposition</th>\n",
       "      <th>rooms</th>\n",
       "      <th>ceiling_height</th>\n",
       "      <th>floors_total</th>\n",
       "      <th>living_area</th>\n",
       "      <th>floor</th>\n",
       "      <th>is_apartment</th>\n",
       "      <th>studio</th>\n",
       "      <th>open_plan</th>\n",
       "      <th>kitchen_area</th>\n",
       "      <th>balcony</th>\n",
       "      <th>locality_name</th>\n",
       "      <th>airports_nearest</th>\n",
       "      <th>city_centers_nearest</th>\n",
       "      <th>parks_around3000</th>\n",
       "      <th>parks_nearest</th>\n",
       "      <th>ponds_around3000</th>\n",
       "      <th>ponds_nearest</th>\n",
       "      <th>days_exposition</th>\n",
       "      <th>price_per_sqr_m</th>\n",
       "      <th>weekday</th>\n",
       "      <th>month</th>\n",
       "      <th>year</th>\n",
       "      <th>living/total_area</th>\n",
       "      <th>kitchen/total_area</th>\n",
       "      <th>floor_category</th>\n",
       "    </tr>\n",
       "  </thead>\n",
       "  <tbody>\n",
       "    <tr>\n",
       "      <th>0</th>\n",
       "      <td>20</td>\n",
       "      <td>13,000,000.00</td>\n",
       "      <td>108.00</td>\n",
       "      <td>2019-03-07</td>\n",
       "      <td>3</td>\n",
       "      <td>2.70</td>\n",
       "      <td>16.00</td>\n",
       "      <td>51.00</td>\n",
       "      <td>8</td>\n",
       "      <td>False</td>\n",
       "      <td>False</td>\n",
       "      <td>False</td>\n",
       "      <td>25.00</td>\n",
       "      <td>0.00</td>\n",
       "      <td>Санкт-Петербург</td>\n",
       "      <td>18,863.00</td>\n",
       "      <td>16,028.00</td>\n",
       "      <td>1.00</td>\n",
       "      <td>482.00</td>\n",
       "      <td>2.00</td>\n",
       "      <td>755.00</td>\n",
       "      <td>NaN</td>\n",
       "      <td>120,370.37</td>\n",
       "      <td>3</td>\n",
       "      <td>3</td>\n",
       "      <td>2019</td>\n",
       "      <td>0.47</td>\n",
       "      <td>0.23</td>\n",
       "      <td>другой</td>\n",
       "    </tr>\n",
       "    <tr>\n",
       "      <th>1</th>\n",
       "      <td>7</td>\n",
       "      <td>3,350,000.00</td>\n",
       "      <td>40.40</td>\n",
       "      <td>2018-12-04</td>\n",
       "      <td>1</td>\n",
       "      <td>2.65</td>\n",
       "      <td>11.00</td>\n",
       "      <td>18.60</td>\n",
       "      <td>1</td>\n",
       "      <td>False</td>\n",
       "      <td>False</td>\n",
       "      <td>False</td>\n",
       "      <td>11.00</td>\n",
       "      <td>2.00</td>\n",
       "      <td>посёлок Шушары</td>\n",
       "      <td>12,817.00</td>\n",
       "      <td>18,603.00</td>\n",
       "      <td>0.00</td>\n",
       "      <td>NaN</td>\n",
       "      <td>0.00</td>\n",
       "      <td>NaN</td>\n",
       "      <td>81.00</td>\n",
       "      <td>82,920.79</td>\n",
       "      <td>1</td>\n",
       "      <td>12</td>\n",
       "      <td>2018</td>\n",
       "      <td>0.46</td>\n",
       "      <td>0.27</td>\n",
       "      <td>первый</td>\n",
       "    </tr>\n",
       "    <tr>\n",
       "      <th>2</th>\n",
       "      <td>10</td>\n",
       "      <td>5,196,000.00</td>\n",
       "      <td>56.00</td>\n",
       "      <td>2015-08-20</td>\n",
       "      <td>2</td>\n",
       "      <td>2.65</td>\n",
       "      <td>5.00</td>\n",
       "      <td>34.30</td>\n",
       "      <td>4</td>\n",
       "      <td>False</td>\n",
       "      <td>False</td>\n",
       "      <td>False</td>\n",
       "      <td>8.30</td>\n",
       "      <td>0.00</td>\n",
       "      <td>Санкт-Петербург</td>\n",
       "      <td>21,741.00</td>\n",
       "      <td>13,933.00</td>\n",
       "      <td>1.00</td>\n",
       "      <td>90.00</td>\n",
       "      <td>2.00</td>\n",
       "      <td>574.00</td>\n",
       "      <td>558.00</td>\n",
       "      <td>92,785.71</td>\n",
       "      <td>3</td>\n",
       "      <td>8</td>\n",
       "      <td>2015</td>\n",
       "      <td>0.61</td>\n",
       "      <td>0.15</td>\n",
       "      <td>другой</td>\n",
       "    </tr>\n",
       "    <tr>\n",
       "      <th>3</th>\n",
       "      <td>0</td>\n",
       "      <td>64,900,000.00</td>\n",
       "      <td>159.00</td>\n",
       "      <td>2015-07-24</td>\n",
       "      <td>3</td>\n",
       "      <td>2.65</td>\n",
       "      <td>14.00</td>\n",
       "      <td>NaN</td>\n",
       "      <td>9</td>\n",
       "      <td>False</td>\n",
       "      <td>False</td>\n",
       "      <td>False</td>\n",
       "      <td>NaN</td>\n",
       "      <td>0.00</td>\n",
       "      <td>Санкт-Петербург</td>\n",
       "      <td>28,098.00</td>\n",
       "      <td>6,800.00</td>\n",
       "      <td>2.00</td>\n",
       "      <td>84.00</td>\n",
       "      <td>3.00</td>\n",
       "      <td>234.00</td>\n",
       "      <td>424.00</td>\n",
       "      <td>408,176.10</td>\n",
       "      <td>4</td>\n",
       "      <td>7</td>\n",
       "      <td>2015</td>\n",
       "      <td>NaN</td>\n",
       "      <td>NaN</td>\n",
       "      <td>другой</td>\n",
       "    </tr>\n",
       "    <tr>\n",
       "      <th>4</th>\n",
       "      <td>2</td>\n",
       "      <td>10,000,000.00</td>\n",
       "      <td>100.00</td>\n",
       "      <td>2018-06-19</td>\n",
       "      <td>2</td>\n",
       "      <td>3.03</td>\n",
       "      <td>14.00</td>\n",
       "      <td>32.00</td>\n",
       "      <td>13</td>\n",
       "      <td>False</td>\n",
       "      <td>False</td>\n",
       "      <td>False</td>\n",
       "      <td>41.00</td>\n",
       "      <td>0.00</td>\n",
       "      <td>Санкт-Петербург</td>\n",
       "      <td>31,856.00</td>\n",
       "      <td>8,098.00</td>\n",
       "      <td>2.00</td>\n",
       "      <td>112.00</td>\n",
       "      <td>1.00</td>\n",
       "      <td>48.00</td>\n",
       "      <td>121.00</td>\n",
       "      <td>100,000.00</td>\n",
       "      <td>1</td>\n",
       "      <td>6</td>\n",
       "      <td>2018</td>\n",
       "      <td>0.32</td>\n",
       "      <td>0.41</td>\n",
       "      <td>другой</td>\n",
       "    </tr>\n",
       "  </tbody>\n",
       "</table>\n",
       "</div>"
      ],
      "text/plain": [
       "   total_images    last_price  total_area first_day_exposition  rooms  \\\n",
       "0            20 13,000,000.00      108.00           2019-03-07      3   \n",
       "1             7  3,350,000.00       40.40           2018-12-04      1   \n",
       "2            10  5,196,000.00       56.00           2015-08-20      2   \n",
       "3             0 64,900,000.00      159.00           2015-07-24      3   \n",
       "4             2 10,000,000.00      100.00           2018-06-19      2   \n",
       "\n",
       "   ceiling_height  floors_total  living_area  floor  is_apartment  studio  \\\n",
       "0            2.70         16.00        51.00      8         False   False   \n",
       "1            2.65         11.00        18.60      1         False   False   \n",
       "2            2.65          5.00        34.30      4         False   False   \n",
       "3            2.65         14.00          NaN      9         False   False   \n",
       "4            3.03         14.00        32.00     13         False   False   \n",
       "\n",
       "   open_plan  kitchen_area  balcony    locality_name  airports_nearest  \\\n",
       "0      False         25.00     0.00  Санкт-Петербург         18,863.00   \n",
       "1      False         11.00     2.00   посёлок Шушары         12,817.00   \n",
       "2      False          8.30     0.00  Санкт-Петербург         21,741.00   \n",
       "3      False           NaN     0.00  Санкт-Петербург         28,098.00   \n",
       "4      False         41.00     0.00  Санкт-Петербург         31,856.00   \n",
       "\n",
       "   city_centers_nearest  parks_around3000  parks_nearest  ponds_around3000  \\\n",
       "0             16,028.00              1.00         482.00              2.00   \n",
       "1             18,603.00              0.00            NaN              0.00   \n",
       "2             13,933.00              1.00          90.00              2.00   \n",
       "3              6,800.00              2.00          84.00              3.00   \n",
       "4              8,098.00              2.00         112.00              1.00   \n",
       "\n",
       "   ponds_nearest  days_exposition  price_per_sqr_m  weekday  month  year  \\\n",
       "0         755.00              NaN       120,370.37        3      3  2019   \n",
       "1            NaN            81.00        82,920.79        1     12  2018   \n",
       "2         574.00           558.00        92,785.71        3      8  2015   \n",
       "3         234.00           424.00       408,176.10        4      7  2015   \n",
       "4          48.00           121.00       100,000.00        1      6  2018   \n",
       "\n",
       "   living/total_area  kitchen/total_area floor_category  \n",
       "0               0.47                0.23         другой  \n",
       "1               0.46                0.27         первый  \n",
       "2               0.61                0.15         другой  \n",
       "3                NaN                 NaN         другой  \n",
       "4               0.32                0.41         другой  "
      ]
     },
     "execution_count": 180,
     "metadata": {},
     "output_type": "execute_result"
    }
   ],
   "source": [
    "locality10=data['locality_name'].value_counts().head(10).index.tolist()\n",
    "data10 = data[data['locality_name'].isin(locality10)]\n",
    "data10.head()"
   ]
  },
  {
   "cell_type": "markdown",
   "metadata": {},
   "source": [
    "Сгруппируем данные по населенному пункту и получим среднюю цену за квадратный метр в каждом населенном пункте. Выведем значения по убыванию цены. Построим график."
   ]
  },
  {
   "cell_type": "code",
   "execution_count": 181,
   "metadata": {},
   "outputs": [
    {
     "data": {
      "text/plain": [
       "locality_name\n",
       "Санкт-Петербург     113,606.50\n",
       "Пушкин              103,125.82\n",
       "деревня Кудрово      92,473.55\n",
       "посёлок Парголово    90,175.91\n",
       "посёлок Мурино       85,645.90\n",
       "посёлок Шушары       78,551.34\n",
       "Колпино              75,333.30\n",
       "Гатчина              68,757.68\n",
       "Всеволожск           68,654.47\n",
       "Выборг               58,141.91\n",
       "Name: price_per_sqr_m, dtype: float64"
      ]
     },
     "execution_count": 181,
     "metadata": {},
     "output_type": "execute_result"
    }
   ],
   "source": [
    "data10 = data10.groupby('locality_name')['price_per_sqr_m'].mean().sort_values(ascending=False)\n",
    "data10"
   ]
  },
  {
   "cell_type": "code",
   "execution_count": 182,
   "metadata": {},
   "outputs": [
    {
     "data": {
      "image/png": "[encoded data removed]",
      "text/plain": [
       "<Figure size 1440x360 with 1 Axes>"
      ]
     },
     "metadata": {
      "needs_background": "light"
     },
     "output_type": "display_data"
    }
   ],
   "source": [
    "#data10.plot(title='Цена за квадратный метр в наиболее популярных населенных пунктах', x='locality_name', y='price_per_sqr_m', style='o-', figsize=(20,5), grid=True, xlim=(0,10))\n",
    "data10.plot(title='Цена за квадратный метр в наиболее популярных населенных пунктах', \n",
    "            x='locality_name', \n",
    "            y='price_per_sqr_m', \n",
    "            kind='bar', \n",
    "            figsize=(20,5), \n",
    "            grid=True, \n",
    "            color='teal',\n",
    "            xlim=(0,10));"
   ]
  },
  {
   "cell_type": "markdown",
   "metadata": {},
   "source": [
    "**Вывод:**\n",
    "Населенный пункт с самой высокой ценой за квадратный метр: Санкт-Петербург (113627 руб.)\n",
    "Населенный пункт с самой низкой ценой за квадратный метр: Выборг (57591 руб.)\n"
   ]
  },
  {
   "cell_type": "markdown",
   "metadata": {},
   "source": [
    "## Анализ квартир в Санкт_Петербурге и поиск границы центра города\n",
    "\n",
    "Выделим квартиры в Санкт-Петербурге в отдельный датасет, сделав срез методом query().\n"
   ]
  },
  {
   "cell_type": "code",
   "execution_count": 183,
   "metadata": {},
   "outputs": [
    {
     "data": {
      "text/plain": [
       "15568"
      ]
     },
     "execution_count": 183,
     "metadata": {},
     "output_type": "execute_result"
    }
   ],
   "source": [
    "data_spb = data.query('locality_name == \"Санкт-Петербург\"')\n",
    "data_spb['locality_name'].count()"
   ]
  },
  {
   "cell_type": "markdown",
   "metadata": {},
   "source": [
    "Создадим столбец с расстоянием до центра в километрах (разделим значения столбца в метрах на 1000), округлим до целых значений."
   ]
  },
  {
   "cell_type": "code",
   "execution_count": 203,
   "metadata": {},
   "outputs": [],
   "source": [
    "data_spb['km_to_center'] = (data['city_centers_nearest']/1000).round()\n",
    "data_spb.head()"
   ]
  },
  {
   "cell_type": "markdown",
   "metadata": {},
   "source": [
    "Посчитаем среднюю цену за квартиру для каждого километра с помощью сводной таблицы методом pivot_table().\n",
    "Построим график, который покажет, как цена зависит от удалённости от центра. \n",
    "Определим границу, где график сильно меняется, — это и будет центральная зона."
   ]
  },
  {
   "cell_type": "code",
   "execution_count": 185,
   "metadata": {},
   "outputs": [
    {
     "data": {
      "text/html": [
       "<div>\n",
       "<style scoped>\n",
       "    .dataframe tbody tr th:only-of-type {\n",
       "        vertical-align: middle;\n",
       "    }\n",
       "\n",
       "    .dataframe tbody tr th {\n",
       "        vertical-align: top;\n",
       "    }\n",
       "\n",
       "    .dataframe thead th {\n",
       "        text-align: right;\n",
       "    }\n",
       "</style>\n",
       "<table border=\"1\" class=\"dataframe\">\n",
       "  <thead>\n",
       "    <tr style=\"text-align: right;\">\n",
       "      <th>locality_name</th>\n",
       "      <th>Санкт-Петербург</th>\n",
       "    </tr>\n",
       "    <tr>\n",
       "      <th>km_to_center</th>\n",
       "      <th></th>\n",
       "    </tr>\n",
       "  </thead>\n",
       "  <tbody>\n",
       "    <tr>\n",
       "      <th>0.00</th>\n",
       "      <td>26,543,312.62</td>\n",
       "    </tr>\n",
       "    <tr>\n",
       "      <th>1.00</th>\n",
       "      <td>16,171,740.54</td>\n",
       "    </tr>\n",
       "    <tr>\n",
       "      <th>2.00</th>\n",
       "      <td>14,890,319.20</td>\n",
       "    </tr>\n",
       "    <tr>\n",
       "      <th>3.00</th>\n",
       "      <td>10,905,256.09</td>\n",
       "    </tr>\n",
       "    <tr>\n",
       "      <th>4.00</th>\n",
       "      <td>11,369,993.11</td>\n",
       "    </tr>\n",
       "    <tr>\n",
       "      <th>5.00</th>\n",
       "      <td>12,636,153.67</td>\n",
       "    </tr>\n",
       "    <tr>\n",
       "      <th>6.00</th>\n",
       "      <td>13,790,105.38</td>\n",
       "    </tr>\n",
       "    <tr>\n",
       "      <th>7.00</th>\n",
       "      <td>13,966,628.50</td>\n",
       "    </tr>\n",
       "    <tr>\n",
       "      <th>8.00</th>\n",
       "      <td>9,139,748.57</td>\n",
       "    </tr>\n",
       "    <tr>\n",
       "      <th>9.00</th>\n",
       "      <td>6,956,582.97</td>\n",
       "    </tr>\n",
       "  </tbody>\n",
       "</table>\n",
       "</div>"
      ],
      "text/plain": [
       "locality_name  Санкт-Петербург\n",
       "km_to_center                  \n",
       "0.00             26,543,312.62\n",
       "1.00             16,171,740.54\n",
       "2.00             14,890,319.20\n",
       "3.00             10,905,256.09\n",
       "4.00             11,369,993.11\n",
       "5.00             12,636,153.67\n",
       "6.00             13,790,105.38\n",
       "7.00             13,966,628.50\n",
       "8.00              9,139,748.57\n",
       "9.00              6,956,582.97"
      ]
     },
     "execution_count": 185,
     "metadata": {},
     "output_type": "execute_result"
    }
   ],
   "source": [
    "spb_pivot = data_spb.pivot_table(index='km_to_center', columns = 'locality_name', values='last_price', aggfunc='mean')\n",
    "spb_pivot = spb_pivot.sort_values(by='km_to_center')\n",
    "spb_pivot.head(10)"
   ]
  },
  {
   "cell_type": "code",
   "execution_count": 227,
   "metadata": {
    "scrolled": true
   },
   "outputs": [
    {
     "data": {
      "text/plain": [
       "<AxesSubplot:title={'center':'Зависимость стоимости квартиры от удаленности от центра'}, xlabel='km_to_center'>"
      ]
     },
     "metadata": {},
     "output_type": "display_data"
    },
    {
     "data": {
      "text/plain": [
       "<AxesSubplot:title={'center':'Зависимость стоимости квартиры от удаленности от центра'}, xlabel='km_to_center'>"
      ]
     },
     "metadata": {},
     "output_type": "display_data"
    },
    {
     "data": {
      "image/png": "[encoded data removed]",
      "text/plain": [
       "<Figure size 1440x360 with 1 Axes>"
      ]
     },
     "metadata": {
      "needs_background": "light"
     },
     "output_type": "display_data"
    },
    {
     "data": {
      "image/png": "[encoded data removed]",
      "text/plain": [
       "<Figure size 720x360 with 1 Axes>"
      ]
     },
     "metadata": {
      "needs_background": "light"
     },
     "output_type": "display_data"
    }
   ],
   "source": [
    "display(spb_pivot.plot(title='Зависимость стоимости квартиры от удаленности от центра', \n",
    "                       grid=True, \n",
    "                       figsize=(20,5),\n",
    "                      color='forestgreen'))\n",
    "display(spb_pivot.plot(title='Зависимость стоимости квартиры от удаленности от центра', \n",
    "                       xlim=(5,10), \n",
    "                       grid=True, \n",
    "                       figsize=(10,5),\n",
    "                      color='olive'))"
   ]
  },
  {
   "cell_type": "markdown",
   "metadata": {},
   "source": [
    "**Вывод:** Граница центра Санкт-Петербурга находится в радиусе 8 км."
   ]
  },
  {
   "cell_type": "markdown",
   "metadata": {},
   "source": [
    "## Анализ квартир в центре Санкт_Петербурга\n",
    "\n",
    "Выделим сегмент квартир в центре Санкт-Петербурга в отдельный датасет при помощи среза данных, выполненного методом query().\n",
    "Зададим диапазон от 0 до 8 км."
   ]
  },
  {
   "cell_type": "code",
   "execution_count": 187,
   "metadata": {},
   "outputs": [],
   "source": [
    "spb_center = data_spb.query('km_to_center<9')"
   ]
  },
  {
   "cell_type": "markdown",
   "metadata": {},
   "source": [
    "При помощи метода decribe() получим данные о следующих параметрах:\n",
    "\n",
    "площадь, цена, число комнат, высота потолков для квартир в центре Санкт_петербурга."
   ]
  },
  {
   "cell_type": "code",
   "execution_count": 188,
   "metadata": {},
   "outputs": [
    {
     "data": {
      "text/html": [
       "<div>\n",
       "<style scoped>\n",
       "    .dataframe tbody tr th:only-of-type {\n",
       "        vertical-align: middle;\n",
       "    }\n",
       "\n",
       "    .dataframe tbody tr th {\n",
       "        vertical-align: top;\n",
       "    }\n",
       "\n",
       "    .dataframe thead th {\n",
       "        text-align: right;\n",
       "    }\n",
       "</style>\n",
       "<table border=\"1\" class=\"dataframe\">\n",
       "  <thead>\n",
       "    <tr style=\"text-align: right;\">\n",
       "      <th></th>\n",
       "      <th>total_area</th>\n",
       "      <th>last_price</th>\n",
       "      <th>rooms</th>\n",
       "      <th>ceiling_height</th>\n",
       "    </tr>\n",
       "  </thead>\n",
       "  <tbody>\n",
       "    <tr>\n",
       "      <th>count</th>\n",
       "      <td>4,050.00</td>\n",
       "      <td>4,050.00</td>\n",
       "      <td>4,050.00</td>\n",
       "      <td>4,050.00</td>\n",
       "    </tr>\n",
       "    <tr>\n",
       "      <th>mean</th>\n",
       "      <td>87.23</td>\n",
       "      <td>12,497,599.85</td>\n",
       "      <td>2.70</td>\n",
       "      <td>2.91</td>\n",
       "    </tr>\n",
       "    <tr>\n",
       "      <th>std</th>\n",
       "      <td>50.49</td>\n",
       "      <td>11,664,538.41</td>\n",
       "      <td>1.27</td>\n",
       "      <td>0.35</td>\n",
       "    </tr>\n",
       "    <tr>\n",
       "      <th>min</th>\n",
       "      <td>12.00</td>\n",
       "      <td>1,600,000.00</td>\n",
       "      <td>0.00</td>\n",
       "      <td>2.00</td>\n",
       "    </tr>\n",
       "    <tr>\n",
       "      <th>25%</th>\n",
       "      <td>54.70</td>\n",
       "      <td>6,400,000.00</td>\n",
       "      <td>2.00</td>\n",
       "      <td>2.65</td>\n",
       "    </tr>\n",
       "    <tr>\n",
       "      <th>50%</th>\n",
       "      <td>75.35</td>\n",
       "      <td>8,895,000.00</td>\n",
       "      <td>3.00</td>\n",
       "      <td>2.79</td>\n",
       "    </tr>\n",
       "    <tr>\n",
       "      <th>75%</th>\n",
       "      <td>105.00</td>\n",
       "      <td>13,500,000.00</td>\n",
       "      <td>3.00</td>\n",
       "      <td>3.10</td>\n",
       "    </tr>\n",
       "    <tr>\n",
       "      <th>max</th>\n",
       "      <td>517.00</td>\n",
       "      <td>99,000,000.00</td>\n",
       "      <td>7.00</td>\n",
       "      <td>5.80</td>\n",
       "    </tr>\n",
       "  </tbody>\n",
       "</table>\n",
       "</div>"
      ],
      "text/plain": [
       "       total_area    last_price    rooms  ceiling_height\n",
       "count    4,050.00      4,050.00 4,050.00        4,050.00\n",
       "mean        87.23 12,497,599.85     2.70            2.91\n",
       "std         50.49 11,664,538.41     1.27            0.35\n",
       "min         12.00  1,600,000.00     0.00            2.00\n",
       "25%         54.70  6,400,000.00     2.00            2.65\n",
       "50%         75.35  8,895,000.00     3.00            2.79\n",
       "75%        105.00 13,500,000.00     3.00            3.10\n",
       "max        517.00 99,000,000.00     7.00            5.80"
      ]
     },
     "execution_count": 188,
     "metadata": {},
     "output_type": "execute_result"
    }
   ],
   "source": [
    "spb_center[['total_area', 'last_price', 'rooms', 'ceiling_height']].describe()"
   ]
  },
  {
   "cell_type": "code",
   "execution_count": 189,
   "metadata": {},
   "outputs": [
    {
     "data": {
      "text/html": [
       "<div>\n",
       "<style scoped>\n",
       "    .dataframe tbody tr th:only-of-type {\n",
       "        vertical-align: middle;\n",
       "    }\n",
       "\n",
       "    .dataframe tbody tr th {\n",
       "        vertical-align: top;\n",
       "    }\n",
       "\n",
       "    .dataframe thead th {\n",
       "        text-align: right;\n",
       "    }\n",
       "</style>\n",
       "<table border=\"1\" class=\"dataframe\">\n",
       "  <thead>\n",
       "    <tr style=\"text-align: right;\">\n",
       "      <th></th>\n",
       "      <th>total_area</th>\n",
       "      <th>last_price</th>\n",
       "      <th>rooms</th>\n",
       "      <th>ceiling_height</th>\n",
       "    </tr>\n",
       "  </thead>\n",
       "  <tbody>\n",
       "    <tr>\n",
       "      <th>count</th>\n",
       "      <td>23,468.00</td>\n",
       "      <td>23,468.00</td>\n",
       "      <td>23,468.00</td>\n",
       "      <td>23,468.00</td>\n",
       "    </tr>\n",
       "    <tr>\n",
       "      <th>mean</th>\n",
       "      <td>59.64</td>\n",
       "      <td>6,221,434.09</td>\n",
       "      <td>2.06</td>\n",
       "      <td>2.70</td>\n",
       "    </tr>\n",
       "    <tr>\n",
       "      <th>std</th>\n",
       "      <td>32.44</td>\n",
       "      <td>6,354,973.57</td>\n",
       "      <td>1.03</td>\n",
       "      <td>0.22</td>\n",
       "    </tr>\n",
       "    <tr>\n",
       "      <th>min</th>\n",
       "      <td>12.00</td>\n",
       "      <td>12,190.00</td>\n",
       "      <td>0.00</td>\n",
       "      <td>2.00</td>\n",
       "    </tr>\n",
       "    <tr>\n",
       "      <th>25%</th>\n",
       "      <td>40.00</td>\n",
       "      <td>3,400,000.00</td>\n",
       "      <td>1.00</td>\n",
       "      <td>2.60</td>\n",
       "    </tr>\n",
       "    <tr>\n",
       "      <th>50%</th>\n",
       "      <td>52.00</td>\n",
       "      <td>4,600,000.00</td>\n",
       "      <td>2.00</td>\n",
       "      <td>2.65</td>\n",
       "    </tr>\n",
       "    <tr>\n",
       "      <th>75%</th>\n",
       "      <td>69.30</td>\n",
       "      <td>6,750,000.00</td>\n",
       "      <td>3.00</td>\n",
       "      <td>2.70</td>\n",
       "    </tr>\n",
       "    <tr>\n",
       "      <th>max</th>\n",
       "      <td>517.00</td>\n",
       "      <td>99,000,000.00</td>\n",
       "      <td>7.00</td>\n",
       "      <td>5.80</td>\n",
       "    </tr>\n",
       "  </tbody>\n",
       "</table>\n",
       "</div>"
      ],
      "text/plain": [
       "       total_area    last_price     rooms  ceiling_height\n",
       "count   23,468.00     23,468.00 23,468.00       23,468.00\n",
       "mean        59.64  6,221,434.09      2.06            2.70\n",
       "std         32.44  6,354,973.57      1.03            0.22\n",
       "min         12.00     12,190.00      0.00            2.00\n",
       "25%         40.00  3,400,000.00      1.00            2.60\n",
       "50%         52.00  4,600,000.00      2.00            2.65\n",
       "75%         69.30  6,750,000.00      3.00            2.70\n",
       "max        517.00 99,000,000.00      7.00            5.80"
      ]
     },
     "execution_count": 189,
     "metadata": {},
     "output_type": "execute_result"
    }
   ],
   "source": [
    "data[['total_area', 'last_price', 'rooms', 'ceiling_height']].describe()"
   ]
  },
  {
   "cell_type": "markdown",
   "metadata": {},
   "source": [
    "**Вывод:** по данным сводной таблицы видно, что в центре Санкт-Петербурга цены на основную часть квартир лежат в пределах от 6,4 млн. руб. до 13,5 млн. рублей.\n",
    "\n",
    "Цены на основную часть квартир в Ленинградской области находятся в диапазоне 3,4-6,75 млн.руб."
   ]
  },
  {
   "cell_type": "markdown",
   "metadata": {},
   "source": [
    "Для каждого параметра построим гистограммы."
   ]
  },
  {
   "cell_type": "code",
   "execution_count": 213,
   "metadata": {},
   "outputs": [
    {
     "data": {
      "image/png": "[encoded data removed]",
      "text/plain": [
       "<Figure size 1080x216 with 1 Axes>"
      ]
     },
     "metadata": {
      "needs_background": "light"
     },
     "output_type": "display_data"
    }
   ],
   "source": [
    "spb_center.hist('total_area',\n",
    "                bins=70, \n",
    "                range=(0,250), \n",
    "                figsize=(15,3),\n",
    "               color='seagreen');"
   ]
  },
  {
   "cell_type": "code",
   "execution_count": 234,
   "metadata": {
    "scrolled": true
   },
   "outputs": [
    {
     "data": {
      "image/png": "[encoded data removed]",
      "text/plain": [
       "<Figure size 1080x216 with 1 Axes>"
      ]
     },
     "metadata": {
      "needs_background": "light"
     },
     "output_type": "display_data"
    }
   ],
   "source": [
    "spb_center.hist('last_price',\n",
    "                bins=100, \n",
    "                range=(0, 30000000), \n",
    "                figsize=(15,3),\n",
    "                color='teal');"
   ]
  },
  {
   "cell_type": "code",
   "execution_count": 236,
   "metadata": {
    "scrolled": true
   },
   "outputs": [
    {
     "data": {
      "image/png": "[encoded data removed]",
      "text/plain": [
       "<Figure size 1080x216 with 1 Axes>"
      ]
     },
     "metadata": {
      "needs_background": "light"
     },
     "output_type": "display_data"
    }
   ],
   "source": [
    "spb_center.hist('rooms',\n",
    "                bins=10, \n",
    "                range=(0,10), \n",
    "                figsize=(15,3),\n",
    "                color='forestgreen');"
   ]
  },
  {
   "cell_type": "code",
   "execution_count": 237,
   "metadata": {
    "scrolled": true
   },
   "outputs": [
    {
     "data": {
      "image/png": "[encoded data removed]",
      "text/plain": [
       "<Figure size 1080x216 with 1 Axes>"
      ]
     },
     "metadata": {
      "needs_background": "light"
     },
     "output_type": "display_data"
    }
   ],
   "source": [
    "spb_center.hist('ceiling_height',\n",
    "                bins=10, \n",
    "                range=(2.5,4), \n",
    "                figsize=(15,3),\n",
    "                color='mediumseagreen');"
   ]
  },
  {
   "cell_type": "markdown",
   "metadata": {},
   "source": [
    "**Вывод:** в результате анализа видно, что для большинства квартир характерны следующие параметры (в скобках приведены данные по Ленинградской области):\n",
    "\n",
    "общая площадь около 75,35 кв.м (52 кв.м);\n",
    "цена около 8,895 млн. руб. (4,6 млн. руб.);\n",
    "количество комнат 3 (2);\n",
    "высота потолков 2,79 м (2,65 м).\n",
    "\n",
    "**Сравнение:**\n",
    "\n",
    "Медианное значение площади квартир в центре города на 23,35 кв.м превышает значение по всей области,\n",
    "медианное значение стоимости квартиры отличается почти в 2 раза,\n",
    "количество комнат 3 против 2,\n",
    "высота потолков на 14 см больше."
   ]
  },
  {
   "cell_type": "markdown",
   "metadata": {},
   "source": [
    "<div class=\"alert alert-success\">\n",
    "<b>Комментарий ревьюера v2 ✔️:</b>\n",
    "    \n",
    "Верно</div>"
   ]
  },
  {
   "cell_type": "markdown",
   "metadata": {},
   "source": [
    "## Время продажи квартиры\n",
    "\n",
    "Изучим время продажи квартиры"
   ]
  },
  {
   "cell_type": "code",
   "execution_count": 214,
   "metadata": {
    "scrolled": true
   },
   "outputs": [
    {
     "data": {
      "image/png": "[encoded data removed]",
      "text/plain": [
       "<Figure size 1080x216 with 1 Axes>"
      ]
     },
     "metadata": {
      "needs_background": "light"
     },
     "output_type": "display_data"
    }
   ],
   "source": [
    "spb_center.hist('days_exposition', \n",
    "                bins=200, \n",
    "                range=(0, 1500), \n",
    "                figsize=(15,3),\n",
    "               color='seagreen');"
   ]
  },
  {
   "cell_type": "code",
   "execution_count": 195,
   "metadata": {},
   "outputs": [
    {
     "data": {
      "image/png": "[encoded data removed]",
      "text/plain": [
       "<Figure size 432x288 with 1 Axes>"
      ]
     },
     "metadata": {
      "needs_background": "light"
     },
     "output_type": "display_data"
    }
   ],
   "source": [
    "spb_center.boxplot('days_exposition')\n",
    "plt.ylim(-10, 600);"
   ]
  },
  {
   "cell_type": "code",
   "execution_count": 70,
   "metadata": {},
   "outputs": [
    {
     "data": {
      "text/html": [
       "<div>\n",
       "<style scoped>\n",
       "    .dataframe tbody tr th:only-of-type {\n",
       "        vertical-align: middle;\n",
       "    }\n",
       "\n",
       "    .dataframe tbody tr th {\n",
       "        vertical-align: top;\n",
       "    }\n",
       "\n",
       "    .dataframe thead th {\n",
       "        text-align: right;\n",
       "    }\n",
       "</style>\n",
       "<table border=\"1\" class=\"dataframe\">\n",
       "  <thead>\n",
       "    <tr style=\"text-align: right;\">\n",
       "      <th></th>\n",
       "      <th>days_exposition</th>\n",
       "    </tr>\n",
       "  </thead>\n",
       "  <tbody>\n",
       "    <tr>\n",
       "      <th>count</th>\n",
       "      <td>3,397.00</td>\n",
       "    </tr>\n",
       "    <tr>\n",
       "      <th>mean</th>\n",
       "      <td>239.32</td>\n",
       "    </tr>\n",
       "    <tr>\n",
       "      <th>std</th>\n",
       "      <td>270.09</td>\n",
       "    </tr>\n",
       "    <tr>\n",
       "      <th>min</th>\n",
       "      <td>3.00</td>\n",
       "    </tr>\n",
       "    <tr>\n",
       "      <th>25%</th>\n",
       "      <td>59.00</td>\n",
       "    </tr>\n",
       "    <tr>\n",
       "      <th>50%</th>\n",
       "      <td>133.00</td>\n",
       "    </tr>\n",
       "    <tr>\n",
       "      <th>75%</th>\n",
       "      <td>332.00</td>\n",
       "    </tr>\n",
       "    <tr>\n",
       "      <th>max</th>\n",
       "      <td>1,572.00</td>\n",
       "    </tr>\n",
       "  </tbody>\n",
       "</table>\n",
       "</div>"
      ],
      "text/plain": [
       "       days_exposition\n",
       "count         3,397.00\n",
       "mean            239.32\n",
       "std             270.09\n",
       "min               3.00\n",
       "25%              59.00\n",
       "50%             133.00\n",
       "75%             332.00\n",
       "max           1,572.00"
      ]
     },
     "execution_count": 70,
     "metadata": {},
     "output_type": "execute_result"
    }
   ],
   "source": [
    "spb_center[['days_exposition']].describe()"
   ]
  },
  {
   "cell_type": "markdown",
   "metadata": {},
   "source": [
    "По диаграмме размаха видно, что большинство квартир в центре Санкт-Петербурга продается в период от 59 до 332 дней.\n",
    "\n",
    "((Также имеются выбросы и выбивающиеся значения: продажи, длившиеся более 500 дней (их доля мала). Избавимся от них.))"
   ]
  },
  {
   "cell_type": "markdown",
   "metadata": {},
   "source": [
    "**Вывод:** большинство квартир в центре Санкт-Петербурга продается в период от 59 до 332 дней. Медианное значение: 133 дня.\n",
    "Если квартира продана быстрее, чем за 59 дней, можно считать, что продажа прошла очень быстро. Продажи, занявшие более 332 дней можно считать достаточно долгими.\n",
    "\n",
    "**Сравнение:**\n",
    "большинство квартир в Ленинградской области продается в период от 45 до 230 дней, медианное значение: 95 дней.\n",
    "Получается, что квартиры в центре города продаются медленнее, чем во всей области. Возможно, это связано с высокой ценой на квартиры в центре."
   ]
  },
  {
   "cell_type": "markdown",
   "metadata": {},
   "source": [
    "## Общий вывод"
   ]
  },
  {
   "cell_type": "markdown",
   "metadata": {},
   "source": [
    " **Предобработка данных**\n",
    " \n",
    "На этапе предобработки данных были обнаружены и обработаны пропущенные значения. \n",
    "В столбцах 'balcony' и 'parks_around3000' пропуски заменены на 0 (пропуск, скорее всего, означают отсутствие балконов или парков)\n",
    "В столбце 'is_apartment' —  на False (видимо, если это не указано, объект не является аппартаментами).\n",
    "Удалены строки с пропусками в столбце'locality_name'  и 'floors_total' (данные этих столбцов важны для исследования, а доля пропусков мала).\n",
    "В столбце 'ceiling_height' было обнаружено много пропусков, которые были заменены на медианное значение, поскольку это значение наиболее приближено к реальным данным.\n",
    "\n",
    "Заменены типы данных в столбцах:\n",
    "'is_apartment' на bool (в столбце содержаться только два типа значений True и False);\n",
    "'first_day_exposition' на datetime, чтобы дата отображалась в более удобном формате.\n",
    "\n",
    "**Расчёты и добавление результатов в таблицу**\n",
    "\n",
    "Для выполнения исследования в таблицу были добавлены следующие значения:\n",
    "стоимость квадратного метра;\n",
    "день, месяц и год размещения объявления,\n",
    "категория этажа (первый, последний, другой)\n",
    "\n",
    "**Исследовательский анализ данных и выводы:**\n",
    "\n",
    "Факторы больше всего влияющие на стоимость квартиры:\n",
    "\n",
    "1. площадь: прослеживается зависимость роста цены с ростом площади, однако видно также большое рассеяние цен, означающее, что есть небольшие дорогие квартиры и есть большие дешевые;\n",
    "\n",
    "2. количество комнат: цены на квартиры с бОльшим количестом комнат выше, более резко возрастают цены на квартиры, в которых больше 4х комнат;\n",
    "\n",
    "3. этаж: самые низкие цены на квартиры, расположенные на первом этаже, на квартиры на последнем этаже цены чуть выше, на других этажах цены выше;\n",
    "    \n",
    "4. даты размещения объявления (день недели, месяц и год): \n",
    "    а) максимальные цены у квартир, объявления о продаже которых размещены в субботу и понедельниик, миниальная стоимость - во вторник и воскресенье; возможно, такая закономерность связана с тем, что объявления обычно размещаются в первый рабочий день недели и первый выходной день, на следующий день заметно резкое падение цен;\n",
    "    б) наблюдается снижение стоимости квартир к июню и рост цен к концу года в ноябре и декабре;\n",
    "    в) с каждым годом наблюдается повышение стоимости квадратного метра квартир, также заметно, что скорость роста цен также цвеличивается.\n",
    "\n",
    "Населенный пункт с самой высокой ценой за квадратный метр: Санкт-Петербург (113627 руб.)\n",
    "Населенный пункт с самой низкой ценой за квадратный метр: Выборг (57591 руб.)\n",
    "\n",
    "При сравнении квартир в центре и в области получены следующие результаты:\n",
    "1. медианное значение площади квартир в центре города на 23,35 кв.м превышает значение по всей области;\n",
    "2. медианное значение стоимости квартиры отличается почти в 2 раза;\n",
    "3. медианное значение числа комнат - 3 в квартирах центре против 2 в квартирах в области;\n",
    "4. высота потолков на 14 см больше в квартирах в центре.\n",
    "5. квартиры в центре города продаются медленнее, чем во всей области. Возможно, это связано с высокой ценой на квартиры в центре.\n"
   ]
  }
 ],
 "metadata": {
  "ExecuteTimeLog": [
   {
    "duration": 857,
    "start_time": "2022-04-05T17:11:11.425Z"
   },
   {
    "duration": 0,
    "start_time": "2022-04-05T17:11:12.285Z"
   },
   {
    "duration": 0,
    "start_time": "2022-04-05T17:11:12.287Z"
   },
   {
    "duration": 0,
    "start_time": "2022-04-05T17:11:12.288Z"
   },
   {
    "duration": 0,
    "start_time": "2022-04-05T17:11:12.289Z"
   },
   {
    "duration": 0,
    "start_time": "2022-04-05T17:11:12.290Z"
   },
   {
    "duration": 0,
    "start_time": "2022-04-05T17:11:12.291Z"
   },
   {
    "duration": 0,
    "start_time": "2022-04-05T17:11:12.292Z"
   },
   {
    "duration": 0,
    "start_time": "2022-04-05T17:11:12.293Z"
   },
   {
    "duration": 0,
    "start_time": "2022-04-05T17:11:12.302Z"
   },
   {
    "duration": 0,
    "start_time": "2022-04-05T17:11:12.302Z"
   },
   {
    "duration": 0,
    "start_time": "2022-04-05T17:11:12.304Z"
   },
   {
    "duration": 0,
    "start_time": "2022-04-05T17:11:12.305Z"
   },
   {
    "duration": 0,
    "start_time": "2022-04-05T17:11:12.306Z"
   },
   {
    "duration": 0,
    "start_time": "2022-04-05T17:11:12.307Z"
   },
   {
    "duration": 0,
    "start_time": "2022-04-05T17:11:12.309Z"
   },
   {
    "duration": 0,
    "start_time": "2022-04-05T17:11:12.310Z"
   },
   {
    "duration": 0,
    "start_time": "2022-04-05T17:11:12.311Z"
   },
   {
    "duration": 0,
    "start_time": "2022-04-05T17:11:12.312Z"
   },
   {
    "duration": 0,
    "start_time": "2022-04-05T17:11:12.313Z"
   },
   {
    "duration": 0,
    "start_time": "2022-04-05T17:11:12.314Z"
   },
   {
    "duration": 0,
    "start_time": "2022-04-05T17:11:12.315Z"
   },
   {
    "duration": 0,
    "start_time": "2022-04-05T17:11:12.316Z"
   },
   {
    "duration": 0,
    "start_time": "2022-04-05T17:11:12.317Z"
   },
   {
    "duration": 0,
    "start_time": "2022-04-05T17:11:12.318Z"
   },
   {
    "duration": 0,
    "start_time": "2022-04-05T17:11:12.319Z"
   },
   {
    "duration": 0,
    "start_time": "2022-04-05T17:11:12.320Z"
   },
   {
    "duration": 0,
    "start_time": "2022-04-05T17:11:12.321Z"
   },
   {
    "duration": 0,
    "start_time": "2022-04-05T17:11:12.322Z"
   },
   {
    "duration": 0,
    "start_time": "2022-04-05T17:11:12.323Z"
   },
   {
    "duration": 0,
    "start_time": "2022-04-05T17:11:12.324Z"
   },
   {
    "duration": 0,
    "start_time": "2022-04-05T17:11:12.325Z"
   },
   {
    "duration": 0,
    "start_time": "2022-04-05T17:11:12.326Z"
   },
   {
    "duration": 0,
    "start_time": "2022-04-05T17:11:12.327Z"
   },
   {
    "duration": 0,
    "start_time": "2022-04-05T17:11:12.328Z"
   },
   {
    "duration": 0,
    "start_time": "2022-04-05T17:11:12.329Z"
   },
   {
    "duration": 0,
    "start_time": "2022-04-05T17:11:12.330Z"
   },
   {
    "duration": 0,
    "start_time": "2022-04-05T17:11:12.331Z"
   },
   {
    "duration": 1,
    "start_time": "2022-04-05T17:11:12.331Z"
   },
   {
    "duration": 0,
    "start_time": "2022-04-05T17:11:12.332Z"
   },
   {
    "duration": 0,
    "start_time": "2022-04-05T17:11:12.333Z"
   },
   {
    "duration": 0,
    "start_time": "2022-04-05T17:11:12.334Z"
   },
   {
    "duration": 0,
    "start_time": "2022-04-05T17:11:12.335Z"
   },
   {
    "duration": 0,
    "start_time": "2022-04-05T17:11:12.336Z"
   },
   {
    "duration": 0,
    "start_time": "2022-04-05T17:11:12.336Z"
   },
   {
    "duration": 0,
    "start_time": "2022-04-05T17:11:12.401Z"
   },
   {
    "duration": 0,
    "start_time": "2022-04-05T17:11:12.403Z"
   },
   {
    "duration": 0,
    "start_time": "2022-04-05T17:11:12.404Z"
   },
   {
    "duration": 0,
    "start_time": "2022-04-05T17:11:12.405Z"
   },
   {
    "duration": 0,
    "start_time": "2022-04-05T17:11:12.407Z"
   },
   {
    "duration": 0,
    "start_time": "2022-04-05T17:11:12.408Z"
   },
   {
    "duration": 0,
    "start_time": "2022-04-05T17:11:12.409Z"
   },
   {
    "duration": 0,
    "start_time": "2022-04-05T17:11:12.410Z"
   },
   {
    "duration": 0,
    "start_time": "2022-04-05T17:11:12.411Z"
   },
   {
    "duration": 0,
    "start_time": "2022-04-05T17:11:12.412Z"
   },
   {
    "duration": 0,
    "start_time": "2022-04-05T17:11:12.414Z"
   },
   {
    "duration": 0,
    "start_time": "2022-04-05T17:11:12.415Z"
   },
   {
    "duration": 0,
    "start_time": "2022-04-05T17:11:12.416Z"
   },
   {
    "duration": 0,
    "start_time": "2022-04-05T17:11:12.417Z"
   },
   {
    "duration": 0,
    "start_time": "2022-04-05T17:11:12.418Z"
   },
   {
    "duration": 0,
    "start_time": "2022-04-05T17:11:12.419Z"
   },
   {
    "duration": 0,
    "start_time": "2022-04-05T17:11:12.420Z"
   },
   {
    "duration": 0,
    "start_time": "2022-04-05T17:11:12.422Z"
   },
   {
    "duration": 0,
    "start_time": "2022-04-05T17:11:12.423Z"
   },
   {
    "duration": 0,
    "start_time": "2022-04-05T17:11:12.424Z"
   },
   {
    "duration": 52,
    "start_time": "2022-04-05T17:12:58.157Z"
   },
   {
    "duration": 0,
    "start_time": "2022-04-05T17:12:58.211Z"
   },
   {
    "duration": 0,
    "start_time": "2022-04-05T17:12:58.213Z"
   },
   {
    "duration": 0,
    "start_time": "2022-04-05T17:12:58.214Z"
   },
   {
    "duration": 0,
    "start_time": "2022-04-05T17:12:58.215Z"
   },
   {
    "duration": 0,
    "start_time": "2022-04-05T17:12:58.216Z"
   },
   {
    "duration": 0,
    "start_time": "2022-04-05T17:12:58.217Z"
   },
   {
    "duration": 0,
    "start_time": "2022-04-05T17:12:58.218Z"
   },
   {
    "duration": 0,
    "start_time": "2022-04-05T17:12:58.219Z"
   },
   {
    "duration": 0,
    "start_time": "2022-04-05T17:12:58.220Z"
   },
   {
    "duration": 0,
    "start_time": "2022-04-05T17:12:58.222Z"
   },
   {
    "duration": 0,
    "start_time": "2022-04-05T17:12:58.222Z"
   },
   {
    "duration": 0,
    "start_time": "2022-04-05T17:12:58.223Z"
   },
   {
    "duration": 0,
    "start_time": "2022-04-05T17:12:58.225Z"
   },
   {
    "duration": 0,
    "start_time": "2022-04-05T17:12:58.226Z"
   },
   {
    "duration": 0,
    "start_time": "2022-04-05T17:12:58.227Z"
   },
   {
    "duration": 0,
    "start_time": "2022-04-05T17:12:58.228Z"
   },
   {
    "duration": 0,
    "start_time": "2022-04-05T17:12:58.229Z"
   },
   {
    "duration": 0,
    "start_time": "2022-04-05T17:12:58.230Z"
   },
   {
    "duration": 0,
    "start_time": "2022-04-05T17:12:58.231Z"
   },
   {
    "duration": 0,
    "start_time": "2022-04-05T17:12:58.233Z"
   },
   {
    "duration": 0,
    "start_time": "2022-04-05T17:12:58.234Z"
   },
   {
    "duration": 0,
    "start_time": "2022-04-05T17:12:58.235Z"
   },
   {
    "duration": 0,
    "start_time": "2022-04-05T17:12:58.235Z"
   },
   {
    "duration": 0,
    "start_time": "2022-04-05T17:12:58.237Z"
   },
   {
    "duration": 0,
    "start_time": "2022-04-05T17:12:58.238Z"
   },
   {
    "duration": 0,
    "start_time": "2022-04-05T17:12:58.239Z"
   },
   {
    "duration": 0,
    "start_time": "2022-04-05T17:12:58.240Z"
   },
   {
    "duration": 0,
    "start_time": "2022-04-05T17:12:58.241Z"
   },
   {
    "duration": 0,
    "start_time": "2022-04-05T17:12:58.242Z"
   },
   {
    "duration": 0,
    "start_time": "2022-04-05T17:12:58.243Z"
   },
   {
    "duration": 0,
    "start_time": "2022-04-05T17:12:58.244Z"
   },
   {
    "duration": 0,
    "start_time": "2022-04-05T17:12:58.245Z"
   },
   {
    "duration": 7,
    "start_time": "2022-04-05T17:12:58.311Z"
   },
   {
    "duration": 0,
    "start_time": "2022-04-05T17:12:58.321Z"
   },
   {
    "duration": 0,
    "start_time": "2022-04-05T17:12:58.322Z"
   },
   {
    "duration": 0,
    "start_time": "2022-04-05T17:12:58.323Z"
   },
   {
    "duration": 0,
    "start_time": "2022-04-05T17:12:58.325Z"
   },
   {
    "duration": 0,
    "start_time": "2022-04-05T17:12:58.325Z"
   },
   {
    "duration": 0,
    "start_time": "2022-04-05T17:12:58.326Z"
   },
   {
    "duration": 0,
    "start_time": "2022-04-05T17:12:58.327Z"
   },
   {
    "duration": 0,
    "start_time": "2022-04-05T17:12:58.329Z"
   },
   {
    "duration": 0,
    "start_time": "2022-04-05T17:12:58.330Z"
   },
   {
    "duration": 0,
    "start_time": "2022-04-05T17:12:58.331Z"
   },
   {
    "duration": 0,
    "start_time": "2022-04-05T17:12:58.332Z"
   },
   {
    "duration": 0,
    "start_time": "2022-04-05T17:12:58.333Z"
   },
   {
    "duration": 0,
    "start_time": "2022-04-05T17:12:58.334Z"
   },
   {
    "duration": 0,
    "start_time": "2022-04-05T17:12:58.335Z"
   },
   {
    "duration": 0,
    "start_time": "2022-04-05T17:12:58.336Z"
   },
   {
    "duration": 0,
    "start_time": "2022-04-05T17:12:58.337Z"
   },
   {
    "duration": 0,
    "start_time": "2022-04-05T17:12:58.338Z"
   },
   {
    "duration": 0,
    "start_time": "2022-04-05T17:12:58.339Z"
   },
   {
    "duration": 0,
    "start_time": "2022-04-05T17:12:58.340Z"
   },
   {
    "duration": 0,
    "start_time": "2022-04-05T17:12:58.342Z"
   },
   {
    "duration": 0,
    "start_time": "2022-04-05T17:12:58.342Z"
   },
   {
    "duration": 0,
    "start_time": "2022-04-05T17:12:58.343Z"
   },
   {
    "duration": 0,
    "start_time": "2022-04-05T17:12:58.400Z"
   },
   {
    "duration": 0,
    "start_time": "2022-04-05T17:12:58.402Z"
   },
   {
    "duration": 0,
    "start_time": "2022-04-05T17:12:58.403Z"
   },
   {
    "duration": 0,
    "start_time": "2022-04-05T17:12:58.404Z"
   },
   {
    "duration": 0,
    "start_time": "2022-04-05T17:12:58.405Z"
   },
   {
    "duration": 0,
    "start_time": "2022-04-05T17:12:58.406Z"
   },
   {
    "duration": 0,
    "start_time": "2022-04-05T17:12:58.407Z"
   },
   {
    "duration": 0,
    "start_time": "2022-04-05T17:12:58.408Z"
   },
   {
    "duration": 0,
    "start_time": "2022-04-05T17:12:58.409Z"
   },
   {
    "duration": 0,
    "start_time": "2022-04-05T17:12:58.409Z"
   },
   {
    "duration": 498,
    "start_time": "2022-04-05T17:13:33.835Z"
   },
   {
    "duration": 319,
    "start_time": "2022-04-05T17:13:34.335Z"
   },
   {
    "duration": 17,
    "start_time": "2022-04-05T17:13:34.656Z"
   },
   {
    "duration": 92,
    "start_time": "2022-04-05T17:13:34.675Z"
   },
   {
    "duration": 10,
    "start_time": "2022-04-05T17:13:34.769Z"
   },
   {
    "duration": 24,
    "start_time": "2022-04-05T17:13:34.781Z"
   },
   {
    "duration": 5,
    "start_time": "2022-04-05T17:13:34.807Z"
   },
   {
    "duration": 13,
    "start_time": "2022-04-05T17:13:34.813Z"
   },
   {
    "duration": 14,
    "start_time": "2022-04-05T17:13:34.828Z"
   },
   {
    "duration": 8,
    "start_time": "2022-04-05T17:13:34.845Z"
   },
   {
    "duration": 8,
    "start_time": "2022-04-05T17:13:34.855Z"
   },
   {
    "duration": 38,
    "start_time": "2022-04-05T17:13:34.864Z"
   },
   {
    "duration": 5,
    "start_time": "2022-04-05T17:13:34.904Z"
   },
   {
    "duration": 20,
    "start_time": "2022-04-05T17:13:34.911Z"
   },
   {
    "duration": 8,
    "start_time": "2022-04-05T17:13:34.933Z"
   },
   {
    "duration": 13,
    "start_time": "2022-04-05T17:13:34.943Z"
   },
   {
    "duration": 21,
    "start_time": "2022-04-05T17:13:34.958Z"
   },
   {
    "duration": 32,
    "start_time": "2022-04-05T17:13:34.981Z"
   },
   {
    "duration": 11,
    "start_time": "2022-04-05T17:13:35.015Z"
   },
   {
    "duration": 11,
    "start_time": "2022-04-05T17:13:35.028Z"
   },
   {
    "duration": 20,
    "start_time": "2022-04-05T17:13:35.041Z"
   },
   {
    "duration": 43,
    "start_time": "2022-04-05T17:13:35.063Z"
   },
   {
    "duration": 103,
    "start_time": "2022-04-05T17:13:35.108Z"
   },
   {
    "duration": 32,
    "start_time": "2022-04-05T17:13:35.213Z"
   },
   {
    "duration": 27,
    "start_time": "2022-04-05T17:13:35.247Z"
   },
   {
    "duration": 25,
    "start_time": "2022-04-05T17:13:35.276Z"
   },
   {
    "duration": 5,
    "start_time": "2022-04-05T17:13:35.303Z"
   },
   {
    "duration": 695,
    "start_time": "2022-04-05T17:13:35.312Z"
   },
   {
    "duration": 26,
    "start_time": "2022-04-05T17:13:36.009Z"
   },
   {
    "duration": 233,
    "start_time": "2022-04-05T17:13:36.037Z"
   },
   {
    "duration": 329,
    "start_time": "2022-04-05T17:13:36.272Z"
   },
   {
    "duration": 207,
    "start_time": "2022-04-05T17:13:36.603Z"
   },
   {
    "duration": 209,
    "start_time": "2022-04-05T17:13:36.812Z"
   },
   {
    "duration": 14,
    "start_time": "2022-04-05T17:13:37.023Z"
   },
   {
    "duration": 130,
    "start_time": "2022-04-05T17:13:37.038Z"
   },
   {
    "duration": 238,
    "start_time": "2022-04-05T17:13:37.170Z"
   },
   {
    "duration": 11,
    "start_time": "2022-04-05T17:13:37.410Z"
   },
   {
    "duration": 134,
    "start_time": "2022-04-05T17:13:37.423Z"
   },
   {
    "duration": 14,
    "start_time": "2022-04-05T17:13:37.559Z"
   },
   {
    "duration": 209,
    "start_time": "2022-04-05T17:13:37.575Z"
   },
   {
    "duration": 150,
    "start_time": "2022-04-05T17:13:37.785Z"
   },
   {
    "duration": 121,
    "start_time": "2022-04-05T17:13:37.937Z"
   },
   {
    "duration": 227,
    "start_time": "2022-04-05T17:13:38.059Z"
   },
   {
    "duration": 158,
    "start_time": "2022-04-05T17:13:38.287Z"
   },
   {
    "duration": 149,
    "start_time": "2022-04-05T17:13:38.447Z"
   },
   {
    "duration": 139,
    "start_time": "2022-04-05T17:13:38.601Z"
   },
   {
    "duration": 8,
    "start_time": "2022-04-05T17:13:38.742Z"
   },
   {
    "duration": 34,
    "start_time": "2022-04-05T17:13:38.752Z"
   },
   {
    "duration": 21,
    "start_time": "2022-04-05T17:13:38.788Z"
   },
   {
    "duration": 179,
    "start_time": "2022-04-05T17:13:38.811Z"
   },
   {
    "duration": 18,
    "start_time": "2022-04-05T17:13:38.992Z"
   },
   {
    "duration": 27,
    "start_time": "2022-04-05T17:13:39.013Z"
   },
   {
    "duration": 23,
    "start_time": "2022-04-05T17:13:39.042Z"
   },
   {
    "duration": 311,
    "start_time": "2022-04-05T17:13:39.067Z"
   },
   {
    "duration": 0,
    "start_time": "2022-04-05T17:13:39.381Z"
   },
   {
    "duration": 0,
    "start_time": "2022-04-05T17:13:39.383Z"
   },
   {
    "duration": 0,
    "start_time": "2022-04-05T17:13:39.384Z"
   },
   {
    "duration": 0,
    "start_time": "2022-04-05T17:13:39.386Z"
   },
   {
    "duration": 0,
    "start_time": "2022-04-05T17:13:39.402Z"
   },
   {
    "duration": 0,
    "start_time": "2022-04-05T17:13:39.404Z"
   },
   {
    "duration": 0,
    "start_time": "2022-04-05T17:13:39.406Z"
   },
   {
    "duration": 0,
    "start_time": "2022-04-05T17:13:39.408Z"
   },
   {
    "duration": 0,
    "start_time": "2022-04-05T17:13:39.410Z"
   },
   {
    "duration": 0,
    "start_time": "2022-04-05T17:13:39.411Z"
   },
   {
    "duration": 0,
    "start_time": "2022-04-05T17:13:39.413Z"
   },
   {
    "duration": 0,
    "start_time": "2022-04-05T17:13:39.415Z"
   },
   {
    "duration": 587,
    "start_time": "2022-04-05T17:43:03.698Z"
   },
   {
    "duration": 337,
    "start_time": "2022-04-05T17:43:04.287Z"
   },
   {
    "duration": 19,
    "start_time": "2022-04-05T17:43:04.626Z"
   },
   {
    "duration": 102,
    "start_time": "2022-04-05T17:43:04.647Z"
   },
   {
    "duration": 15,
    "start_time": "2022-04-05T17:43:04.753Z"
   },
   {
    "duration": 33,
    "start_time": "2022-04-05T17:43:04.770Z"
   },
   {
    "duration": 7,
    "start_time": "2022-04-05T17:43:04.805Z"
   },
   {
    "duration": 20,
    "start_time": "2022-04-05T17:43:04.814Z"
   },
   {
    "duration": 17,
    "start_time": "2022-04-05T17:43:04.835Z"
   },
   {
    "duration": 31,
    "start_time": "2022-04-05T17:43:04.854Z"
   },
   {
    "duration": 10,
    "start_time": "2022-04-05T17:43:04.887Z"
   },
   {
    "duration": 14,
    "start_time": "2022-04-05T17:43:04.902Z"
   },
   {
    "duration": 25,
    "start_time": "2022-04-05T17:43:04.918Z"
   },
   {
    "duration": 79,
    "start_time": "2022-04-05T17:43:04.947Z"
   },
   {
    "duration": 9,
    "start_time": "2022-04-05T17:43:05.028Z"
   },
   {
    "duration": 15,
    "start_time": "2022-04-05T17:43:05.040Z"
   },
   {
    "duration": 21,
    "start_time": "2022-04-05T17:43:05.057Z"
   },
   {
    "duration": 25,
    "start_time": "2022-04-05T17:43:05.081Z"
   },
   {
    "duration": 12,
    "start_time": "2022-04-05T17:43:05.109Z"
   },
   {
    "duration": 40,
    "start_time": "2022-04-05T17:43:05.122Z"
   },
   {
    "duration": 31,
    "start_time": "2022-04-05T17:43:05.164Z"
   },
   {
    "duration": 6,
    "start_time": "2022-04-05T17:43:16.790Z"
   },
   {
    "duration": 5,
    "start_time": "2022-04-05T17:43:32.296Z"
   },
   {
    "duration": 7,
    "start_time": "2022-04-05T17:44:29.285Z"
   },
   {
    "duration": 91,
    "start_time": "2022-04-05T17:44:31.998Z"
   },
   {
    "duration": 33,
    "start_time": "2022-04-05T17:48:44.392Z"
   },
   {
    "duration": 27,
    "start_time": "2022-04-05T17:48:46.977Z"
   },
   {
    "duration": 4,
    "start_time": "2022-04-05T17:48:49.980Z"
   },
   {
    "duration": 5,
    "start_time": "2022-04-05T17:48:50.639Z"
   },
   {
    "duration": 618,
    "start_time": "2022-04-05T17:49:26.284Z"
   },
   {
    "duration": 25,
    "start_time": "2022-04-05T17:50:36.913Z"
   },
   {
    "duration": 232,
    "start_time": "2022-04-05T17:51:20.474Z"
   },
   {
    "duration": 304,
    "start_time": "2022-04-05T17:51:30.969Z"
   },
   {
    "duration": 151,
    "start_time": "2022-04-05T17:51:38.542Z"
   },
   {
    "duration": 143,
    "start_time": "2022-04-05T17:51:44.697Z"
   },
   {
    "duration": 16,
    "start_time": "2022-04-05T17:52:22.926Z"
   },
   {
    "duration": 180,
    "start_time": "2022-04-05T17:52:29.216Z"
   },
   {
    "duration": 219,
    "start_time": "2022-04-05T17:52:54.334Z"
   },
   {
    "duration": 11,
    "start_time": "2022-04-05T17:54:51.275Z"
   },
   {
    "duration": 118,
    "start_time": "2022-04-05T17:54:58.792Z"
   },
   {
    "duration": 13,
    "start_time": "2022-04-05T17:55:09.455Z"
   },
   {
    "duration": 202,
    "start_time": "2022-04-05T17:57:04.723Z"
   },
   {
    "duration": 132,
    "start_time": "2022-04-05T17:59:11.143Z"
   },
   {
    "duration": 104,
    "start_time": "2022-04-05T18:00:57.361Z"
   },
   {
    "duration": 224,
    "start_time": "2022-04-05T18:02:08.789Z"
   },
   {
    "duration": 155,
    "start_time": "2022-04-05T18:03:37.629Z"
   },
   {
    "duration": 140,
    "start_time": "2022-04-05T18:04:16.870Z"
   },
   {
    "duration": 138,
    "start_time": "2022-04-05T18:06:20.131Z"
   },
   {
    "duration": 9,
    "start_time": "2022-04-05T18:07:25.080Z"
   },
   {
    "duration": 29,
    "start_time": "2022-04-05T18:07:43.849Z"
   },
   {
    "duration": 10,
    "start_time": "2022-04-05T18:08:03.177Z"
   },
   {
    "duration": 172,
    "start_time": "2022-04-05T18:08:10.392Z"
   },
   {
    "duration": 11,
    "start_time": "2022-04-05T18:14:40.365Z"
   },
   {
    "duration": 28,
    "start_time": "2022-04-05T18:14:46.429Z"
   },
   {
    "duration": 22,
    "start_time": "2022-04-05T18:14:58.723Z"
   },
   {
    "duration": 281,
    "start_time": "2022-04-05T18:15:04.760Z"
   },
   {
    "duration": 10,
    "start_time": "2022-04-05T18:16:15.018Z"
   },
   {
    "duration": 22,
    "start_time": "2022-04-05T18:16:18.433Z"
   },
   {
    "duration": 24,
    "start_time": "2022-04-05T18:16:22.302Z"
   },
   {
    "duration": 200,
    "start_time": "2022-04-05T18:16:42.564Z"
   },
   {
    "duration": 239,
    "start_time": "2022-04-05T18:16:44.056Z"
   },
   {
    "duration": 135,
    "start_time": "2022-04-05T18:16:44.297Z"
   },
   {
    "duration": 238,
    "start_time": "2022-04-05T18:16:44.492Z"
   },
   {
    "duration": 359,
    "start_time": "2022-04-05T18:17:21.678Z"
   },
   {
    "duration": 113,
    "start_time": "2022-04-05T18:17:22.040Z"
   },
   {
    "duration": 14,
    "start_time": "2022-04-05T18:17:22.155Z"
   },
   {
    "duration": 103,
    "start_time": "2022-04-05T18:17:41.374Z"
   },
   {
    "duration": 14,
    "start_time": "2022-04-05T18:17:41.743Z"
   },
   {
    "duration": 897,
    "start_time": "2022-04-05T18:32:12.798Z"
   },
   {
    "duration": 0,
    "start_time": "2022-04-05T18:32:13.698Z"
   },
   {
    "duration": 0,
    "start_time": "2022-04-05T18:32:13.700Z"
   },
   {
    "duration": 0,
    "start_time": "2022-04-05T18:32:13.701Z"
   },
   {
    "duration": 0,
    "start_time": "2022-04-05T18:32:13.702Z"
   },
   {
    "duration": 0,
    "start_time": "2022-04-05T18:32:13.703Z"
   },
   {
    "duration": 0,
    "start_time": "2022-04-05T18:32:13.704Z"
   },
   {
    "duration": 0,
    "start_time": "2022-04-05T18:32:13.706Z"
   },
   {
    "duration": 0,
    "start_time": "2022-04-05T18:32:13.707Z"
   },
   {
    "duration": 0,
    "start_time": "2022-04-05T18:32:13.708Z"
   },
   {
    "duration": 0,
    "start_time": "2022-04-05T18:32:13.709Z"
   },
   {
    "duration": 0,
    "start_time": "2022-04-05T18:32:13.710Z"
   },
   {
    "duration": 0,
    "start_time": "2022-04-05T18:32:13.711Z"
   },
   {
    "duration": 0,
    "start_time": "2022-04-05T18:32:13.713Z"
   },
   {
    "duration": 0,
    "start_time": "2022-04-05T18:32:13.714Z"
   },
   {
    "duration": 0,
    "start_time": "2022-04-05T18:32:13.715Z"
   },
   {
    "duration": 0,
    "start_time": "2022-04-05T18:32:13.716Z"
   },
   {
    "duration": 0,
    "start_time": "2022-04-05T18:32:13.717Z"
   },
   {
    "duration": 0,
    "start_time": "2022-04-05T18:32:13.719Z"
   },
   {
    "duration": 0,
    "start_time": "2022-04-05T18:32:13.720Z"
   },
   {
    "duration": 0,
    "start_time": "2022-04-05T18:32:13.721Z"
   },
   {
    "duration": 0,
    "start_time": "2022-04-05T18:32:13.722Z"
   },
   {
    "duration": 0,
    "start_time": "2022-04-05T18:32:13.723Z"
   },
   {
    "duration": 0,
    "start_time": "2022-04-05T18:32:13.724Z"
   },
   {
    "duration": 0,
    "start_time": "2022-04-05T18:32:13.726Z"
   },
   {
    "duration": 0,
    "start_time": "2022-04-05T18:32:13.727Z"
   },
   {
    "duration": 0,
    "start_time": "2022-04-05T18:32:13.728Z"
   },
   {
    "duration": 0,
    "start_time": "2022-04-05T18:32:13.729Z"
   },
   {
    "duration": 0,
    "start_time": "2022-04-05T18:32:13.730Z"
   },
   {
    "duration": 0,
    "start_time": "2022-04-05T18:32:13.731Z"
   },
   {
    "duration": 0,
    "start_time": "2022-04-05T18:32:13.732Z"
   },
   {
    "duration": 0,
    "start_time": "2022-04-05T18:32:13.733Z"
   },
   {
    "duration": 0,
    "start_time": "2022-04-05T18:32:13.734Z"
   },
   {
    "duration": 0,
    "start_time": "2022-04-05T18:32:13.735Z"
   },
   {
    "duration": 0,
    "start_time": "2022-04-05T18:32:13.736Z"
   },
   {
    "duration": 0,
    "start_time": "2022-04-05T18:32:13.737Z"
   },
   {
    "duration": 0,
    "start_time": "2022-04-05T18:32:13.739Z"
   },
   {
    "duration": 0,
    "start_time": "2022-04-05T18:32:13.801Z"
   },
   {
    "duration": 0,
    "start_time": "2022-04-05T18:32:13.802Z"
   },
   {
    "duration": 0,
    "start_time": "2022-04-05T18:32:13.804Z"
   },
   {
    "duration": 0,
    "start_time": "2022-04-05T18:32:13.805Z"
   },
   {
    "duration": 0,
    "start_time": "2022-04-05T18:32:13.806Z"
   },
   {
    "duration": 0,
    "start_time": "2022-04-05T18:32:13.807Z"
   },
   {
    "duration": 0,
    "start_time": "2022-04-05T18:32:13.808Z"
   },
   {
    "duration": 0,
    "start_time": "2022-04-05T18:32:13.809Z"
   },
   {
    "duration": 0,
    "start_time": "2022-04-05T18:32:13.810Z"
   },
   {
    "duration": 0,
    "start_time": "2022-04-05T18:32:13.811Z"
   },
   {
    "duration": 0,
    "start_time": "2022-04-05T18:32:13.812Z"
   },
   {
    "duration": 0,
    "start_time": "2022-04-05T18:32:13.813Z"
   },
   {
    "duration": 0,
    "start_time": "2022-04-05T18:32:13.814Z"
   },
   {
    "duration": 0,
    "start_time": "2022-04-05T18:32:13.815Z"
   },
   {
    "duration": 0,
    "start_time": "2022-04-05T18:32:13.816Z"
   },
   {
    "duration": 0,
    "start_time": "2022-04-05T18:32:13.817Z"
   },
   {
    "duration": 0,
    "start_time": "2022-04-05T18:32:13.818Z"
   },
   {
    "duration": 0,
    "start_time": "2022-04-05T18:32:13.820Z"
   },
   {
    "duration": 0,
    "start_time": "2022-04-05T18:32:13.821Z"
   },
   {
    "duration": 0,
    "start_time": "2022-04-05T18:32:13.822Z"
   },
   {
    "duration": 0,
    "start_time": "2022-04-05T18:32:13.823Z"
   },
   {
    "duration": 0,
    "start_time": "2022-04-05T18:32:13.825Z"
   },
   {
    "duration": 0,
    "start_time": "2022-04-05T18:32:13.825Z"
   },
   {
    "duration": 0,
    "start_time": "2022-04-05T18:32:13.826Z"
   },
   {
    "duration": 0,
    "start_time": "2022-04-05T18:32:13.828Z"
   },
   {
    "duration": 0,
    "start_time": "2022-04-05T18:32:13.829Z"
   },
   {
    "duration": 0,
    "start_time": "2022-04-05T18:32:13.830Z"
   },
   {
    "duration": 0,
    "start_time": "2022-04-05T18:32:13.831Z"
   },
   {
    "duration": 984,
    "start_time": "2022-04-10T19:41:17.255Z"
   },
   {
    "duration": 283,
    "start_time": "2022-04-10T19:41:18.242Z"
   },
   {
    "duration": 15,
    "start_time": "2022-04-10T19:41:18.527Z"
   },
   {
    "duration": 45,
    "start_time": "2022-04-10T19:41:18.544Z"
   },
   {
    "duration": 11,
    "start_time": "2022-04-10T19:41:18.592Z"
   },
   {
    "duration": 2217,
    "start_time": "2022-04-10T19:41:18.605Z"
   },
   {
    "duration": 0,
    "start_time": "2022-04-10T19:41:20.826Z"
   },
   {
    "duration": 0,
    "start_time": "2022-04-10T19:41:20.828Z"
   },
   {
    "duration": 0,
    "start_time": "2022-04-10T19:41:20.830Z"
   },
   {
    "duration": 0,
    "start_time": "2022-04-10T19:41:20.831Z"
   },
   {
    "duration": 0,
    "start_time": "2022-04-10T19:41:20.832Z"
   },
   {
    "duration": 0,
    "start_time": "2022-04-10T19:41:20.833Z"
   },
   {
    "duration": 0,
    "start_time": "2022-04-10T19:41:20.834Z"
   },
   {
    "duration": 0,
    "start_time": "2022-04-10T19:41:20.835Z"
   },
   {
    "duration": 0,
    "start_time": "2022-04-10T19:41:20.836Z"
   },
   {
    "duration": 0,
    "start_time": "2022-04-10T19:41:20.837Z"
   },
   {
    "duration": 0,
    "start_time": "2022-04-10T19:41:20.838Z"
   },
   {
    "duration": 0,
    "start_time": "2022-04-10T19:41:20.839Z"
   },
   {
    "duration": 0,
    "start_time": "2022-04-10T19:41:20.840Z"
   },
   {
    "duration": 0,
    "start_time": "2022-04-10T19:41:20.842Z"
   },
   {
    "duration": 0,
    "start_time": "2022-04-10T19:41:20.844Z"
   },
   {
    "duration": 0,
    "start_time": "2022-04-10T19:41:20.845Z"
   },
   {
    "duration": 0,
    "start_time": "2022-04-10T19:41:20.847Z"
   },
   {
    "duration": 0,
    "start_time": "2022-04-10T19:41:20.848Z"
   },
   {
    "duration": 0,
    "start_time": "2022-04-10T19:41:20.850Z"
   },
   {
    "duration": 0,
    "start_time": "2022-04-10T19:41:20.851Z"
   },
   {
    "duration": 0,
    "start_time": "2022-04-10T19:41:20.852Z"
   },
   {
    "duration": 0,
    "start_time": "2022-04-10T19:41:20.853Z"
   },
   {
    "duration": 0,
    "start_time": "2022-04-10T19:41:20.855Z"
   },
   {
    "duration": 0,
    "start_time": "2022-04-10T19:41:20.856Z"
   },
   {
    "duration": 0,
    "start_time": "2022-04-10T19:41:20.858Z"
   },
   {
    "duration": 0,
    "start_time": "2022-04-10T19:41:20.859Z"
   },
   {
    "duration": 0,
    "start_time": "2022-04-10T19:41:20.860Z"
   },
   {
    "duration": 0,
    "start_time": "2022-04-10T19:41:20.862Z"
   },
   {
    "duration": 0,
    "start_time": "2022-04-10T19:41:20.863Z"
   },
   {
    "duration": 0,
    "start_time": "2022-04-10T19:41:20.865Z"
   },
   {
    "duration": 0,
    "start_time": "2022-04-10T19:41:20.866Z"
   },
   {
    "duration": 0,
    "start_time": "2022-04-10T19:41:20.867Z"
   },
   {
    "duration": 0,
    "start_time": "2022-04-10T19:41:20.869Z"
   },
   {
    "duration": 0,
    "start_time": "2022-04-10T19:41:20.870Z"
   },
   {
    "duration": 0,
    "start_time": "2022-04-10T19:41:20.872Z"
   },
   {
    "duration": 0,
    "start_time": "2022-04-10T19:41:20.873Z"
   },
   {
    "duration": 0,
    "start_time": "2022-04-10T19:41:20.875Z"
   },
   {
    "duration": 0,
    "start_time": "2022-04-10T19:41:20.876Z"
   },
   {
    "duration": 0,
    "start_time": "2022-04-10T19:41:20.877Z"
   },
   {
    "duration": 0,
    "start_time": "2022-04-10T19:41:20.940Z"
   },
   {
    "duration": 0,
    "start_time": "2022-04-10T19:41:20.942Z"
   },
   {
    "duration": 0,
    "start_time": "2022-04-10T19:41:20.943Z"
   },
   {
    "duration": 0,
    "start_time": "2022-04-10T19:41:20.944Z"
   },
   {
    "duration": 0,
    "start_time": "2022-04-10T19:41:20.945Z"
   },
   {
    "duration": 0,
    "start_time": "2022-04-10T19:41:20.947Z"
   },
   {
    "duration": 0,
    "start_time": "2022-04-10T19:41:20.948Z"
   },
   {
    "duration": 0,
    "start_time": "2022-04-10T19:41:20.950Z"
   },
   {
    "duration": 0,
    "start_time": "2022-04-10T19:41:20.951Z"
   },
   {
    "duration": 0,
    "start_time": "2022-04-10T19:41:20.953Z"
   },
   {
    "duration": 0,
    "start_time": "2022-04-10T19:41:20.954Z"
   },
   {
    "duration": 0,
    "start_time": "2022-04-10T19:41:20.956Z"
   },
   {
    "duration": 0,
    "start_time": "2022-04-10T19:41:20.957Z"
   },
   {
    "duration": 0,
    "start_time": "2022-04-10T19:41:20.959Z"
   },
   {
    "duration": 0,
    "start_time": "2022-04-10T19:41:20.960Z"
   },
   {
    "duration": 0,
    "start_time": "2022-04-10T19:41:20.962Z"
   },
   {
    "duration": 0,
    "start_time": "2022-04-10T19:41:20.963Z"
   },
   {
    "duration": 0,
    "start_time": "2022-04-10T19:41:20.964Z"
   },
   {
    "duration": 0,
    "start_time": "2022-04-10T19:41:20.966Z"
   },
   {
    "duration": 0,
    "start_time": "2022-04-10T19:41:20.967Z"
   },
   {
    "duration": 0,
    "start_time": "2022-04-10T19:41:20.969Z"
   },
   {
    "duration": 0,
    "start_time": "2022-04-10T19:41:20.970Z"
   },
   {
    "duration": 0,
    "start_time": "2022-04-10T19:41:20.972Z"
   },
   {
    "duration": 0,
    "start_time": "2022-04-10T19:41:20.973Z"
   },
   {
    "duration": 0,
    "start_time": "2022-04-10T19:41:20.974Z"
   },
   {
    "duration": 0,
    "start_time": "2022-04-10T19:41:21.044Z"
   },
   {
    "duration": 702,
    "start_time": "2022-04-10T19:44:45.889Z"
   },
   {
    "duration": 84,
    "start_time": "2022-04-10T19:44:46.593Z"
   },
   {
    "duration": 13,
    "start_time": "2022-04-10T19:44:46.679Z"
   },
   {
    "duration": 36,
    "start_time": "2022-04-10T19:44:46.694Z"
   },
   {
    "duration": 9,
    "start_time": "2022-04-10T19:44:46.739Z"
   },
   {
    "duration": 2258,
    "start_time": "2022-04-10T19:44:46.750Z"
   },
   {
    "duration": 0,
    "start_time": "2022-04-10T19:44:49.012Z"
   },
   {
    "duration": 0,
    "start_time": "2022-04-10T19:44:49.013Z"
   },
   {
    "duration": 0,
    "start_time": "2022-04-10T19:44:49.014Z"
   },
   {
    "duration": 0,
    "start_time": "2022-04-10T19:44:49.015Z"
   },
   {
    "duration": 0,
    "start_time": "2022-04-10T19:44:49.017Z"
   },
   {
    "duration": 0,
    "start_time": "2022-04-10T19:44:49.018Z"
   },
   {
    "duration": 0,
    "start_time": "2022-04-10T19:44:49.019Z"
   },
   {
    "duration": 0,
    "start_time": "2022-04-10T19:44:49.020Z"
   },
   {
    "duration": 0,
    "start_time": "2022-04-10T19:44:49.022Z"
   },
   {
    "duration": 0,
    "start_time": "2022-04-10T19:44:49.023Z"
   },
   {
    "duration": 0,
    "start_time": "2022-04-10T19:44:49.023Z"
   },
   {
    "duration": 0,
    "start_time": "2022-04-10T19:44:49.025Z"
   },
   {
    "duration": 0,
    "start_time": "2022-04-10T19:44:49.026Z"
   },
   {
    "duration": 0,
    "start_time": "2022-04-10T19:44:49.027Z"
   },
   {
    "duration": 0,
    "start_time": "2022-04-10T19:44:49.028Z"
   },
   {
    "duration": 0,
    "start_time": "2022-04-10T19:44:49.029Z"
   },
   {
    "duration": 0,
    "start_time": "2022-04-10T19:44:49.031Z"
   },
   {
    "duration": 0,
    "start_time": "2022-04-10T19:44:49.032Z"
   },
   {
    "duration": 0,
    "start_time": "2022-04-10T19:44:49.033Z"
   },
   {
    "duration": 0,
    "start_time": "2022-04-10T19:44:49.034Z"
   },
   {
    "duration": 0,
    "start_time": "2022-04-10T19:44:49.035Z"
   },
   {
    "duration": 0,
    "start_time": "2022-04-10T19:44:49.036Z"
   },
   {
    "duration": 0,
    "start_time": "2022-04-10T19:44:49.037Z"
   },
   {
    "duration": 0,
    "start_time": "2022-04-10T19:44:49.038Z"
   },
   {
    "duration": 0,
    "start_time": "2022-04-10T19:44:49.040Z"
   },
   {
    "duration": 0,
    "start_time": "2022-04-10T19:44:49.041Z"
   },
   {
    "duration": 0,
    "start_time": "2022-04-10T19:44:49.041Z"
   },
   {
    "duration": 0,
    "start_time": "2022-04-10T19:44:49.043Z"
   },
   {
    "duration": 0,
    "start_time": "2022-04-10T19:44:49.044Z"
   },
   {
    "duration": 0,
    "start_time": "2022-04-10T19:44:49.045Z"
   },
   {
    "duration": 0,
    "start_time": "2022-04-10T19:44:49.046Z"
   },
   {
    "duration": 0,
    "start_time": "2022-04-10T19:44:49.047Z"
   },
   {
    "duration": 0,
    "start_time": "2022-04-10T19:44:49.048Z"
   },
   {
    "duration": 0,
    "start_time": "2022-04-10T19:44:49.050Z"
   },
   {
    "duration": 0,
    "start_time": "2022-04-10T19:44:49.051Z"
   },
   {
    "duration": 0,
    "start_time": "2022-04-10T19:44:49.052Z"
   },
   {
    "duration": 0,
    "start_time": "2022-04-10T19:44:49.053Z"
   },
   {
    "duration": 0,
    "start_time": "2022-04-10T19:44:49.054Z"
   },
   {
    "duration": 0,
    "start_time": "2022-04-10T19:44:49.055Z"
   },
   {
    "duration": 0,
    "start_time": "2022-04-10T19:44:49.056Z"
   },
   {
    "duration": 0,
    "start_time": "2022-04-10T19:44:49.057Z"
   },
   {
    "duration": 0,
    "start_time": "2022-04-10T19:44:49.058Z"
   },
   {
    "duration": 0,
    "start_time": "2022-04-10T19:44:49.059Z"
   },
   {
    "duration": 0,
    "start_time": "2022-04-10T19:44:49.060Z"
   },
   {
    "duration": 0,
    "start_time": "2022-04-10T19:44:49.062Z"
   },
   {
    "duration": 0,
    "start_time": "2022-04-10T19:44:49.063Z"
   },
   {
    "duration": 0,
    "start_time": "2022-04-10T19:44:49.064Z"
   },
   {
    "duration": 0,
    "start_time": "2022-04-10T19:44:49.065Z"
   },
   {
    "duration": 0,
    "start_time": "2022-04-10T19:44:49.066Z"
   },
   {
    "duration": 0,
    "start_time": "2022-04-10T19:44:49.067Z"
   },
   {
    "duration": 0,
    "start_time": "2022-04-10T19:44:49.068Z"
   },
   {
    "duration": 0,
    "start_time": "2022-04-10T19:44:49.069Z"
   },
   {
    "duration": 1,
    "start_time": "2022-04-10T19:44:49.070Z"
   },
   {
    "duration": 0,
    "start_time": "2022-04-10T19:44:49.072Z"
   },
   {
    "duration": 0,
    "start_time": "2022-04-10T19:44:49.073Z"
   },
   {
    "duration": 0,
    "start_time": "2022-04-10T19:44:49.074Z"
   },
   {
    "duration": 0,
    "start_time": "2022-04-10T19:44:49.075Z"
   },
   {
    "duration": 0,
    "start_time": "2022-04-10T19:44:49.076Z"
   },
   {
    "duration": 0,
    "start_time": "2022-04-10T19:44:49.077Z"
   },
   {
    "duration": 0,
    "start_time": "2022-04-10T19:44:49.078Z"
   },
   {
    "duration": 0,
    "start_time": "2022-04-10T19:44:49.079Z"
   },
   {
    "duration": 0,
    "start_time": "2022-04-10T19:44:49.080Z"
   },
   {
    "duration": 0,
    "start_time": "2022-04-10T19:44:49.081Z"
   },
   {
    "duration": 0,
    "start_time": "2022-04-10T19:44:49.140Z"
   },
   {
    "duration": 0,
    "start_time": "2022-04-10T19:44:49.141Z"
   },
   {
    "duration": 911,
    "start_time": "2022-04-10T19:45:13.397Z"
   },
   {
    "duration": 276,
    "start_time": "2022-04-10T19:45:14.311Z"
   },
   {
    "duration": 17,
    "start_time": "2022-04-10T19:45:14.589Z"
   },
   {
    "duration": 55,
    "start_time": "2022-04-10T19:45:14.609Z"
   },
   {
    "duration": 10,
    "start_time": "2022-04-10T19:45:14.666Z"
   },
   {
    "duration": 2432,
    "start_time": "2022-04-10T19:45:14.678Z"
   },
   {
    "duration": 0,
    "start_time": "2022-04-10T19:45:17.113Z"
   },
   {
    "duration": 0,
    "start_time": "2022-04-10T19:45:17.115Z"
   },
   {
    "duration": 0,
    "start_time": "2022-04-10T19:45:17.116Z"
   },
   {
    "duration": 0,
    "start_time": "2022-04-10T19:45:17.117Z"
   },
   {
    "duration": 0,
    "start_time": "2022-04-10T19:45:17.118Z"
   },
   {
    "duration": 0,
    "start_time": "2022-04-10T19:45:17.120Z"
   },
   {
    "duration": 0,
    "start_time": "2022-04-10T19:45:17.121Z"
   },
   {
    "duration": 0,
    "start_time": "2022-04-10T19:45:17.122Z"
   },
   {
    "duration": 0,
    "start_time": "2022-04-10T19:45:17.123Z"
   },
   {
    "duration": 0,
    "start_time": "2022-04-10T19:45:17.124Z"
   },
   {
    "duration": 0,
    "start_time": "2022-04-10T19:45:17.125Z"
   },
   {
    "duration": 0,
    "start_time": "2022-04-10T19:45:17.126Z"
   },
   {
    "duration": 0,
    "start_time": "2022-04-10T19:45:17.128Z"
   },
   {
    "duration": 0,
    "start_time": "2022-04-10T19:45:17.129Z"
   },
   {
    "duration": 0,
    "start_time": "2022-04-10T19:45:17.130Z"
   },
   {
    "duration": 0,
    "start_time": "2022-04-10T19:45:17.131Z"
   },
   {
    "duration": 0,
    "start_time": "2022-04-10T19:45:17.133Z"
   },
   {
    "duration": 0,
    "start_time": "2022-04-10T19:45:17.134Z"
   },
   {
    "duration": 0,
    "start_time": "2022-04-10T19:45:17.135Z"
   },
   {
    "duration": 0,
    "start_time": "2022-04-10T19:45:17.136Z"
   },
   {
    "duration": 0,
    "start_time": "2022-04-10T19:45:17.137Z"
   },
   {
    "duration": 0,
    "start_time": "2022-04-10T19:45:17.139Z"
   },
   {
    "duration": 0,
    "start_time": "2022-04-10T19:45:17.139Z"
   },
   {
    "duration": 0,
    "start_time": "2022-04-10T19:45:17.141Z"
   },
   {
    "duration": 0,
    "start_time": "2022-04-10T19:45:17.142Z"
   },
   {
    "duration": 0,
    "start_time": "2022-04-10T19:45:17.143Z"
   },
   {
    "duration": 0,
    "start_time": "2022-04-10T19:45:17.144Z"
   },
   {
    "duration": 0,
    "start_time": "2022-04-10T19:45:17.145Z"
   },
   {
    "duration": 0,
    "start_time": "2022-04-10T19:45:17.146Z"
   },
   {
    "duration": 0,
    "start_time": "2022-04-10T19:45:17.147Z"
   },
   {
    "duration": 0,
    "start_time": "2022-04-10T19:45:17.148Z"
   },
   {
    "duration": 0,
    "start_time": "2022-04-10T19:45:17.150Z"
   },
   {
    "duration": 0,
    "start_time": "2022-04-10T19:45:17.150Z"
   },
   {
    "duration": 0,
    "start_time": "2022-04-10T19:45:17.152Z"
   },
   {
    "duration": 0,
    "start_time": "2022-04-10T19:45:17.153Z"
   },
   {
    "duration": 0,
    "start_time": "2022-04-10T19:45:17.154Z"
   },
   {
    "duration": 0,
    "start_time": "2022-04-10T19:45:17.155Z"
   },
   {
    "duration": 0,
    "start_time": "2022-04-10T19:45:17.156Z"
   },
   {
    "duration": 0,
    "start_time": "2022-04-10T19:45:17.157Z"
   },
   {
    "duration": 0,
    "start_time": "2022-04-10T19:45:17.158Z"
   },
   {
    "duration": 0,
    "start_time": "2022-04-10T19:45:17.159Z"
   },
   {
    "duration": 0,
    "start_time": "2022-04-10T19:45:17.160Z"
   },
   {
    "duration": 0,
    "start_time": "2022-04-10T19:45:17.161Z"
   },
   {
    "duration": 0,
    "start_time": "2022-04-10T19:45:17.163Z"
   },
   {
    "duration": 0,
    "start_time": "2022-04-10T19:45:17.164Z"
   },
   {
    "duration": 0,
    "start_time": "2022-04-10T19:45:17.165Z"
   },
   {
    "duration": 0,
    "start_time": "2022-04-10T19:45:17.166Z"
   },
   {
    "duration": 0,
    "start_time": "2022-04-10T19:45:17.167Z"
   },
   {
    "duration": 0,
    "start_time": "2022-04-10T19:45:17.167Z"
   },
   {
    "duration": 0,
    "start_time": "2022-04-10T19:45:17.169Z"
   },
   {
    "duration": 0,
    "start_time": "2022-04-10T19:45:17.170Z"
   },
   {
    "duration": 0,
    "start_time": "2022-04-10T19:45:17.171Z"
   },
   {
    "duration": 0,
    "start_time": "2022-04-10T19:45:17.172Z"
   },
   {
    "duration": 0,
    "start_time": "2022-04-10T19:45:17.174Z"
   },
   {
    "duration": 0,
    "start_time": "2022-04-10T19:45:17.175Z"
   },
   {
    "duration": 0,
    "start_time": "2022-04-10T19:45:17.177Z"
   },
   {
    "duration": 0,
    "start_time": "2022-04-10T19:45:17.238Z"
   },
   {
    "duration": 0,
    "start_time": "2022-04-10T19:45:17.240Z"
   },
   {
    "duration": 0,
    "start_time": "2022-04-10T19:45:17.241Z"
   },
   {
    "duration": 0,
    "start_time": "2022-04-10T19:45:17.242Z"
   },
   {
    "duration": 0,
    "start_time": "2022-04-10T19:45:17.243Z"
   },
   {
    "duration": 0,
    "start_time": "2022-04-10T19:45:17.244Z"
   },
   {
    "duration": 0,
    "start_time": "2022-04-10T19:45:17.245Z"
   },
   {
    "duration": 0,
    "start_time": "2022-04-10T19:45:17.247Z"
   },
   {
    "duration": 0,
    "start_time": "2022-04-10T19:45:17.248Z"
   },
   {
    "duration": 272,
    "start_time": "2022-04-10T19:46:20.713Z"
   },
   {
    "duration": 76,
    "start_time": "2022-04-10T19:46:57.195Z"
   },
   {
    "duration": 119,
    "start_time": "2022-04-10T19:47:13.692Z"
   },
   {
    "duration": 179,
    "start_time": "2022-04-10T19:49:56.463Z"
   },
   {
    "duration": 98,
    "start_time": "2022-04-10T19:52:44.211Z"
   },
   {
    "duration": 766,
    "start_time": "2022-04-10T19:55:28.395Z"
   },
   {
    "duration": 85,
    "start_time": "2022-04-10T19:55:29.164Z"
   },
   {
    "duration": 20,
    "start_time": "2022-04-10T19:55:29.251Z"
   },
   {
    "duration": 94,
    "start_time": "2022-04-10T19:55:29.274Z"
   },
   {
    "duration": 12,
    "start_time": "2022-04-10T19:55:29.371Z"
   },
   {
    "duration": 11,
    "start_time": "2022-04-10T19:55:29.385Z"
   },
   {
    "duration": 6,
    "start_time": "2022-04-10T19:55:29.398Z"
   },
   {
    "duration": 34,
    "start_time": "2022-04-10T19:55:29.406Z"
   },
   {
    "duration": 12,
    "start_time": "2022-04-10T19:55:29.442Z"
   },
   {
    "duration": 9,
    "start_time": "2022-04-10T19:55:29.457Z"
   },
   {
    "duration": 7,
    "start_time": "2022-04-10T19:55:29.468Z"
   },
   {
    "duration": 10,
    "start_time": "2022-04-10T19:55:29.477Z"
   },
   {
    "duration": 10,
    "start_time": "2022-04-10T19:55:29.489Z"
   },
   {
    "duration": 51,
    "start_time": "2022-04-10T19:55:29.501Z"
   },
   {
    "duration": 7,
    "start_time": "2022-04-10T19:55:29.554Z"
   },
   {
    "duration": 12,
    "start_time": "2022-04-10T19:55:29.563Z"
   },
   {
    "duration": 10,
    "start_time": "2022-04-10T19:55:29.577Z"
   },
   {
    "duration": 13,
    "start_time": "2022-04-10T19:55:29.589Z"
   },
   {
    "duration": 14,
    "start_time": "2022-04-10T19:55:29.639Z"
   },
   {
    "duration": 6,
    "start_time": "2022-04-10T19:55:29.655Z"
   },
   {
    "duration": 16,
    "start_time": "2022-04-10T19:55:29.663Z"
   },
   {
    "duration": 159,
    "start_time": "2022-04-10T19:55:29.681Z"
   },
   {
    "duration": 8,
    "start_time": "2022-04-10T19:55:29.843Z"
   },
   {
    "duration": 9,
    "start_time": "2022-04-10T19:55:29.853Z"
   },
   {
    "duration": 7,
    "start_time": "2022-04-10T19:55:29.864Z"
   },
   {
    "duration": 13,
    "start_time": "2022-04-10T19:55:29.873Z"
   },
   {
    "duration": 15,
    "start_time": "2022-04-10T19:55:29.888Z"
   },
   {
    "duration": 47,
    "start_time": "2022-04-10T19:55:29.909Z"
   },
   {
    "duration": 26,
    "start_time": "2022-04-10T19:55:29.958Z"
   },
   {
    "duration": 6,
    "start_time": "2022-04-10T19:55:29.986Z"
   },
   {
    "duration": 10,
    "start_time": "2022-04-10T19:55:29.994Z"
   },
   {
    "duration": 724,
    "start_time": "2022-04-10T19:55:30.006Z"
   },
   {
    "duration": 27,
    "start_time": "2022-04-10T19:55:30.732Z"
   },
   {
    "duration": 225,
    "start_time": "2022-04-10T19:55:30.761Z"
   },
   {
    "duration": 276,
    "start_time": "2022-04-10T19:55:30.989Z"
   },
   {
    "duration": 170,
    "start_time": "2022-04-10T19:55:31.267Z"
   },
   {
    "duration": 156,
    "start_time": "2022-04-10T19:55:31.439Z"
   },
   {
    "duration": 15,
    "start_time": "2022-04-10T19:55:31.597Z"
   },
   {
    "duration": 135,
    "start_time": "2022-04-10T19:55:31.614Z"
   },
   {
    "duration": 245,
    "start_time": "2022-04-10T19:55:31.751Z"
   },
   {
    "duration": 13,
    "start_time": "2022-04-10T19:55:31.999Z"
   },
   {
    "duration": 144,
    "start_time": "2022-04-10T19:55:32.015Z"
   },
   {
    "duration": 14,
    "start_time": "2022-04-10T19:55:32.161Z"
   },
   {
    "duration": 304,
    "start_time": "2022-04-10T19:55:32.177Z"
   },
   {
    "duration": 237,
    "start_time": "2022-04-10T19:55:32.483Z"
   },
   {
    "duration": 129,
    "start_time": "2022-04-10T19:55:32.722Z"
   },
   {
    "duration": 151,
    "start_time": "2022-04-10T19:55:32.853Z"
   },
   {
    "duration": 153,
    "start_time": "2022-04-10T19:55:33.006Z"
   },
   {
    "duration": 220,
    "start_time": "2022-04-10T19:55:33.162Z"
   },
   {
    "duration": 228,
    "start_time": "2022-04-10T19:55:33.384Z"
   },
   {
    "duration": 70,
    "start_time": "2022-04-10T19:55:33.614Z"
   },
   {
    "duration": 11,
    "start_time": "2022-04-10T19:55:33.686Z"
   },
   {
    "duration": 48,
    "start_time": "2022-04-10T19:55:33.699Z"
   },
   {
    "duration": 10,
    "start_time": "2022-04-10T19:55:33.749Z"
   },
   {
    "duration": 260,
    "start_time": "2022-04-10T19:55:33.760Z"
   },
   {
    "duration": 18,
    "start_time": "2022-04-10T19:55:34.022Z"
   },
   {
    "duration": 25,
    "start_time": "2022-04-10T19:55:34.042Z"
   },
   {
    "duration": 23,
    "start_time": "2022-04-10T19:55:34.069Z"
   },
   {
    "duration": 430,
    "start_time": "2022-04-10T19:55:34.094Z"
   },
   {
    "duration": 19,
    "start_time": "2022-04-10T19:55:34.526Z"
   },
   {
    "duration": 24,
    "start_time": "2022-04-10T19:55:34.547Z"
   },
   {
    "duration": 23,
    "start_time": "2022-04-10T19:55:34.573Z"
   },
   {
    "duration": 236,
    "start_time": "2022-04-10T19:55:34.597Z"
   },
   {
    "duration": 337,
    "start_time": "2022-04-10T19:55:34.835Z"
   },
   {
    "duration": 148,
    "start_time": "2022-04-10T19:55:35.173Z"
   },
   {
    "duration": 184,
    "start_time": "2022-04-10T19:55:35.323Z"
   },
   {
    "duration": 360,
    "start_time": "2022-04-10T19:55:35.509Z"
   },
   {
    "duration": 120,
    "start_time": "2022-04-10T19:55:35.871Z"
   },
   {
    "duration": 15,
    "start_time": "2022-04-10T19:55:35.993Z"
   },
   {
    "duration": 114,
    "start_time": "2022-04-10T19:55:36.010Z"
   },
   {
    "duration": 23,
    "start_time": "2022-04-10T19:55:36.126Z"
   },
   {
    "duration": 699,
    "start_time": "2022-04-10T20:00:22.064Z"
   },
   {
    "duration": 94,
    "start_time": "2022-04-10T20:00:22.766Z"
   },
   {
    "duration": 17,
    "start_time": "2022-04-10T20:00:22.862Z"
   },
   {
    "duration": 83,
    "start_time": "2022-04-10T20:00:22.881Z"
   },
   {
    "duration": 10,
    "start_time": "2022-04-10T20:00:22.966Z"
   },
   {
    "duration": 14,
    "start_time": "2022-04-10T20:00:22.979Z"
   },
   {
    "duration": 8,
    "start_time": "2022-04-10T20:00:22.995Z"
   },
   {
    "duration": 10,
    "start_time": "2022-04-10T20:00:23.005Z"
   },
   {
    "duration": 30,
    "start_time": "2022-04-10T20:00:23.017Z"
   },
   {
    "duration": 9,
    "start_time": "2022-04-10T20:00:23.049Z"
   },
   {
    "duration": 9,
    "start_time": "2022-04-10T20:00:23.059Z"
   },
   {
    "duration": 10,
    "start_time": "2022-04-10T20:00:23.069Z"
   },
   {
    "duration": 10,
    "start_time": "2022-04-10T20:00:23.081Z"
   },
   {
    "duration": 20,
    "start_time": "2022-04-10T20:00:23.092Z"
   },
   {
    "duration": 8,
    "start_time": "2022-04-10T20:00:23.139Z"
   },
   {
    "duration": 10,
    "start_time": "2022-04-10T20:00:23.148Z"
   },
   {
    "duration": 10,
    "start_time": "2022-04-10T20:00:23.160Z"
   },
   {
    "duration": 14,
    "start_time": "2022-04-10T20:00:30.133Z"
   },
   {
    "duration": 13,
    "start_time": "2022-04-10T20:00:35.643Z"
   },
   {
    "duration": 4,
    "start_time": "2022-04-10T20:01:44.841Z"
   },
   {
    "duration": 16,
    "start_time": "2022-04-10T20:02:05.583Z"
   },
   {
    "duration": 12,
    "start_time": "2022-04-10T20:04:41.996Z"
   },
   {
    "duration": 18,
    "start_time": "2022-04-10T20:04:46.297Z"
   },
   {
    "duration": 12,
    "start_time": "2022-04-10T20:04:54.162Z"
   },
   {
    "duration": 16,
    "start_time": "2022-04-10T20:04:55.950Z"
   },
   {
    "duration": 16,
    "start_time": "2022-04-10T20:05:39.426Z"
   },
   {
    "duration": 15,
    "start_time": "2022-04-10T20:05:46.028Z"
   },
   {
    "duration": 128,
    "start_time": "2022-04-10T20:06:28.514Z"
   },
   {
    "duration": 6,
    "start_time": "2022-04-10T20:06:40.506Z"
   },
   {
    "duration": 8,
    "start_time": "2022-04-10T20:07:18.927Z"
   },
   {
    "duration": 6,
    "start_time": "2022-04-10T20:12:23.099Z"
   },
   {
    "duration": 13,
    "start_time": "2022-04-10T20:12:26.449Z"
   },
   {
    "duration": 118,
    "start_time": "2022-04-10T20:12:28.693Z"
   },
   {
    "duration": 8,
    "start_time": "2022-04-10T20:12:30.662Z"
   },
   {
    "duration": 6,
    "start_time": "2022-04-10T20:12:31.284Z"
   },
   {
    "duration": 5,
    "start_time": "2022-04-10T20:12:31.957Z"
   },
   {
    "duration": 7,
    "start_time": "2022-04-10T20:12:36.026Z"
   },
   {
    "duration": 8,
    "start_time": "2022-04-10T20:12:51.795Z"
   },
   {
    "duration": 670,
    "start_time": "2022-04-10T20:13:12.876Z"
   },
   {
    "duration": 83,
    "start_time": "2022-04-10T20:13:13.548Z"
   },
   {
    "duration": 18,
    "start_time": "2022-04-10T20:13:13.632Z"
   },
   {
    "duration": 87,
    "start_time": "2022-04-10T20:13:13.653Z"
   },
   {
    "duration": 13,
    "start_time": "2022-04-10T20:13:13.742Z"
   },
   {
    "duration": 8,
    "start_time": "2022-04-10T20:13:13.757Z"
   },
   {
    "duration": 9,
    "start_time": "2022-04-10T20:13:13.768Z"
   },
   {
    "duration": 13,
    "start_time": "2022-04-10T20:13:13.779Z"
   },
   {
    "duration": 10,
    "start_time": "2022-04-10T20:13:13.794Z"
   },
   {
    "duration": 9,
    "start_time": "2022-04-10T20:13:13.841Z"
   },
   {
    "duration": 12,
    "start_time": "2022-04-10T20:13:13.852Z"
   },
   {
    "duration": 9,
    "start_time": "2022-04-10T20:13:13.865Z"
   },
   {
    "duration": 10,
    "start_time": "2022-04-10T20:13:13.875Z"
   },
   {
    "duration": 20,
    "start_time": "2022-04-10T20:13:13.887Z"
   },
   {
    "duration": 32,
    "start_time": "2022-04-10T20:13:13.910Z"
   },
   {
    "duration": 11,
    "start_time": "2022-04-10T20:13:13.944Z"
   },
   {
    "duration": 10,
    "start_time": "2022-04-10T20:13:13.957Z"
   },
   {
    "duration": 15,
    "start_time": "2022-04-10T20:13:13.968Z"
   },
   {
    "duration": 11,
    "start_time": "2022-04-10T20:13:13.985Z"
   },
   {
    "duration": 42,
    "start_time": "2022-04-10T20:13:13.998Z"
   },
   {
    "duration": 15,
    "start_time": "2022-04-10T20:13:14.042Z"
   },
   {
    "duration": 152,
    "start_time": "2022-04-10T20:13:14.058Z"
   },
   {
    "duration": 8,
    "start_time": "2022-04-10T20:13:14.212Z"
   },
   {
    "duration": 21,
    "start_time": "2022-04-10T20:13:14.221Z"
   },
   {
    "duration": 5,
    "start_time": "2022-04-10T20:13:14.244Z"
   },
   {
    "duration": 12,
    "start_time": "2022-04-10T20:13:14.251Z"
   },
   {
    "duration": 8,
    "start_time": "2022-04-10T20:13:35.450Z"
   },
   {
    "duration": 6,
    "start_time": "2022-04-10T20:13:43.393Z"
   },
   {
    "duration": 15,
    "start_time": "2022-04-10T20:13:50.447Z"
   },
   {
    "duration": 948,
    "start_time": "2022-04-10T20:14:53.439Z"
   },
   {
    "duration": 119,
    "start_time": "2022-04-10T20:14:54.389Z"
   },
   {
    "duration": 29,
    "start_time": "2022-04-10T20:14:54.511Z"
   },
   {
    "duration": 71,
    "start_time": "2022-04-10T20:14:54.543Z"
   },
   {
    "duration": 28,
    "start_time": "2022-04-10T20:14:54.615Z"
   },
   {
    "duration": 7,
    "start_time": "2022-04-10T20:14:54.645Z"
   },
   {
    "duration": 15,
    "start_time": "2022-04-10T20:14:54.654Z"
   },
   {
    "duration": 9,
    "start_time": "2022-04-10T20:14:54.671Z"
   },
   {
    "duration": 13,
    "start_time": "2022-04-10T20:14:54.683Z"
   },
   {
    "duration": 9,
    "start_time": "2022-04-10T20:14:54.700Z"
   },
   {
    "duration": 40,
    "start_time": "2022-04-10T20:14:54.711Z"
   },
   {
    "duration": 10,
    "start_time": "2022-04-10T20:14:54.753Z"
   },
   {
    "duration": 12,
    "start_time": "2022-04-10T20:14:54.765Z"
   },
   {
    "duration": 19,
    "start_time": "2022-04-10T20:14:54.778Z"
   },
   {
    "duration": 7,
    "start_time": "2022-04-10T20:14:54.799Z"
   },
   {
    "duration": 33,
    "start_time": "2022-04-10T20:14:54.808Z"
   },
   {
    "duration": 9,
    "start_time": "2022-04-10T20:14:54.843Z"
   },
   {
    "duration": 14,
    "start_time": "2022-04-10T20:14:54.854Z"
   },
   {
    "duration": 13,
    "start_time": "2022-04-10T20:14:54.869Z"
   },
   {
    "duration": 11,
    "start_time": "2022-04-10T20:14:54.884Z"
   },
   {
    "duration": 52,
    "start_time": "2022-04-10T20:14:54.896Z"
   },
   {
    "duration": 211,
    "start_time": "2022-04-10T20:14:54.950Z"
   },
   {
    "duration": 8,
    "start_time": "2022-04-10T20:14:55.164Z"
   },
   {
    "duration": 15,
    "start_time": "2022-04-10T20:14:55.174Z"
   },
   {
    "duration": 17,
    "start_time": "2022-04-10T20:14:55.191Z"
   },
   {
    "duration": 15,
    "start_time": "2022-04-10T20:14:55.210Z"
   },
   {
    "duration": 24,
    "start_time": "2022-04-10T20:14:55.227Z"
   },
   {
    "duration": 30,
    "start_time": "2022-04-10T20:14:55.257Z"
   },
   {
    "duration": 30,
    "start_time": "2022-04-10T20:14:55.289Z"
   },
   {
    "duration": 5,
    "start_time": "2022-04-10T20:14:55.340Z"
   },
   {
    "duration": 14,
    "start_time": "2022-04-10T20:14:55.347Z"
   },
   {
    "duration": 690,
    "start_time": "2022-04-10T20:14:55.364Z"
   },
   {
    "duration": 25,
    "start_time": "2022-04-10T20:14:56.056Z"
   },
   {
    "duration": 236,
    "start_time": "2022-04-10T20:14:56.083Z"
   },
   {
    "duration": 282,
    "start_time": "2022-04-10T20:14:56.321Z"
   },
   {
    "duration": 179,
    "start_time": "2022-04-10T20:14:56.605Z"
   },
   {
    "duration": 162,
    "start_time": "2022-04-10T20:14:56.786Z"
   },
   {
    "duration": 14,
    "start_time": "2022-04-10T20:14:56.951Z"
   },
   {
    "duration": 134,
    "start_time": "2022-04-10T20:14:56.967Z"
   },
   {
    "duration": 250,
    "start_time": "2022-04-10T20:14:57.103Z"
   },
   {
    "duration": 11,
    "start_time": "2022-04-10T20:14:57.355Z"
   },
   {
    "duration": 133,
    "start_time": "2022-04-10T20:14:57.368Z"
   },
   {
    "duration": 14,
    "start_time": "2022-04-10T20:14:57.503Z"
   },
   {
    "duration": 221,
    "start_time": "2022-04-10T20:14:57.518Z"
   },
   {
    "duration": 230,
    "start_time": "2022-04-10T20:14:57.741Z"
   },
   {
    "duration": 127,
    "start_time": "2022-04-10T20:14:57.973Z"
   },
   {
    "duration": 178,
    "start_time": "2022-04-10T20:14:58.102Z"
   },
   {
    "duration": 361,
    "start_time": "2022-04-10T20:14:58.282Z"
   },
   {
    "duration": 301,
    "start_time": "2022-04-10T20:14:58.645Z"
   },
   {
    "duration": 305,
    "start_time": "2022-04-10T20:14:58.948Z"
   },
   {
    "duration": 111,
    "start_time": "2022-04-10T20:14:59.254Z"
   },
   {
    "duration": 8,
    "start_time": "2022-04-10T20:14:59.367Z"
   },
   {
    "duration": 82,
    "start_time": "2022-04-10T20:14:59.377Z"
   },
   {
    "duration": 8,
    "start_time": "2022-04-10T20:14:59.461Z"
   },
   {
    "duration": 478,
    "start_time": "2022-04-10T20:14:59.471Z"
   },
   {
    "duration": 12,
    "start_time": "2022-04-10T20:14:59.951Z"
   },
   {
    "duration": 76,
    "start_time": "2022-04-10T20:14:59.964Z"
   },
   {
    "duration": 21,
    "start_time": "2022-04-10T20:15:00.042Z"
   },
   {
    "duration": 778,
    "start_time": "2022-04-10T20:15:00.066Z"
   },
   {
    "duration": 8,
    "start_time": "2022-04-10T20:15:00.846Z"
   },
   {
    "duration": 87,
    "start_time": "2022-04-10T20:15:00.856Z"
   },
   {
    "duration": 23,
    "start_time": "2022-04-10T20:15:00.945Z"
   },
   {
    "duration": 348,
    "start_time": "2022-04-10T20:15:00.970Z"
   },
   {
    "duration": 359,
    "start_time": "2022-04-10T20:15:01.320Z"
   },
   {
    "duration": 147,
    "start_time": "2022-04-10T20:15:01.681Z"
   },
   {
    "duration": 185,
    "start_time": "2022-04-10T20:15:01.830Z"
   },
   {
    "duration": 382,
    "start_time": "2022-04-10T20:15:02.018Z"
   },
   {
    "duration": 120,
    "start_time": "2022-04-10T20:15:02.402Z"
   },
   {
    "duration": 23,
    "start_time": "2022-04-10T20:15:02.524Z"
   },
   {
    "duration": 125,
    "start_time": "2022-04-10T20:15:02.549Z"
   },
   {
    "duration": 15,
    "start_time": "2022-04-10T20:15:02.676Z"
   },
   {
    "duration": 755,
    "start_time": "2022-04-10T20:31:46.250Z"
   },
   {
    "duration": 233,
    "start_time": "2022-04-10T20:31:47.008Z"
   },
   {
    "duration": 19,
    "start_time": "2022-04-10T20:31:47.243Z"
   },
   {
    "duration": 48,
    "start_time": "2022-04-10T20:31:47.266Z"
   },
   {
    "duration": 24,
    "start_time": "2022-04-10T20:31:47.316Z"
   },
   {
    "duration": 2662,
    "start_time": "2022-04-10T20:31:47.342Z"
   },
   {
    "duration": 0,
    "start_time": "2022-04-10T20:31:50.008Z"
   },
   {
    "duration": 0,
    "start_time": "2022-04-10T20:31:50.009Z"
   },
   {
    "duration": 0,
    "start_time": "2022-04-10T20:31:50.011Z"
   },
   {
    "duration": 0,
    "start_time": "2022-04-10T20:31:50.012Z"
   },
   {
    "duration": 0,
    "start_time": "2022-04-10T20:31:50.013Z"
   },
   {
    "duration": 0,
    "start_time": "2022-04-10T20:31:50.014Z"
   },
   {
    "duration": 0,
    "start_time": "2022-04-10T20:31:50.015Z"
   },
   {
    "duration": 0,
    "start_time": "2022-04-10T20:31:50.016Z"
   },
   {
    "duration": 0,
    "start_time": "2022-04-10T20:31:50.016Z"
   },
   {
    "duration": 0,
    "start_time": "2022-04-10T20:31:50.018Z"
   },
   {
    "duration": 0,
    "start_time": "2022-04-10T20:31:50.019Z"
   },
   {
    "duration": 0,
    "start_time": "2022-04-10T20:31:50.020Z"
   },
   {
    "duration": 0,
    "start_time": "2022-04-10T20:31:50.021Z"
   },
   {
    "duration": 0,
    "start_time": "2022-04-10T20:31:50.022Z"
   },
   {
    "duration": 0,
    "start_time": "2022-04-10T20:31:50.023Z"
   },
   {
    "duration": 0,
    "start_time": "2022-04-10T20:31:50.024Z"
   },
   {
    "duration": 0,
    "start_time": "2022-04-10T20:31:50.025Z"
   },
   {
    "duration": 0,
    "start_time": "2022-04-10T20:31:50.026Z"
   },
   {
    "duration": 0,
    "start_time": "2022-04-10T20:31:50.027Z"
   },
   {
    "duration": 0,
    "start_time": "2022-04-10T20:31:50.028Z"
   },
   {
    "duration": 0,
    "start_time": "2022-04-10T20:31:50.029Z"
   },
   {
    "duration": 0,
    "start_time": "2022-04-10T20:31:50.030Z"
   },
   {
    "duration": 0,
    "start_time": "2022-04-10T20:31:50.031Z"
   },
   {
    "duration": 0,
    "start_time": "2022-04-10T20:31:50.033Z"
   },
   {
    "duration": 0,
    "start_time": "2022-04-10T20:31:50.033Z"
   },
   {
    "duration": 0,
    "start_time": "2022-04-10T20:31:50.035Z"
   },
   {
    "duration": 0,
    "start_time": "2022-04-10T20:31:50.036Z"
   },
   {
    "duration": 0,
    "start_time": "2022-04-10T20:31:50.037Z"
   },
   {
    "duration": 0,
    "start_time": "2022-04-10T20:31:50.048Z"
   },
   {
    "duration": 0,
    "start_time": "2022-04-10T20:31:50.050Z"
   },
   {
    "duration": 0,
    "start_time": "2022-04-10T20:31:50.051Z"
   },
   {
    "duration": 0,
    "start_time": "2022-04-10T20:31:50.052Z"
   },
   {
    "duration": 0,
    "start_time": "2022-04-10T20:31:50.053Z"
   },
   {
    "duration": 0,
    "start_time": "2022-04-10T20:31:50.055Z"
   },
   {
    "duration": 0,
    "start_time": "2022-04-10T20:31:50.056Z"
   },
   {
    "duration": 0,
    "start_time": "2022-04-10T20:31:50.058Z"
   },
   {
    "duration": 0,
    "start_time": "2022-04-10T20:31:50.059Z"
   },
   {
    "duration": 0,
    "start_time": "2022-04-10T20:31:50.061Z"
   },
   {
    "duration": 0,
    "start_time": "2022-04-10T20:31:50.062Z"
   },
   {
    "duration": 0,
    "start_time": "2022-04-10T20:31:50.064Z"
   },
   {
    "duration": 0,
    "start_time": "2022-04-10T20:31:50.065Z"
   },
   {
    "duration": 0,
    "start_time": "2022-04-10T20:31:50.067Z"
   },
   {
    "duration": 0,
    "start_time": "2022-04-10T20:31:50.068Z"
   },
   {
    "duration": 0,
    "start_time": "2022-04-10T20:31:50.070Z"
   },
   {
    "duration": 0,
    "start_time": "2022-04-10T20:31:50.071Z"
   },
   {
    "duration": 0,
    "start_time": "2022-04-10T20:31:50.074Z"
   },
   {
    "duration": 0,
    "start_time": "2022-04-10T20:31:50.075Z"
   },
   {
    "duration": 0,
    "start_time": "2022-04-10T20:31:50.080Z"
   },
   {
    "duration": 0,
    "start_time": "2022-04-10T20:31:50.082Z"
   },
   {
    "duration": 0,
    "start_time": "2022-04-10T20:31:50.083Z"
   },
   {
    "duration": 0,
    "start_time": "2022-04-10T20:31:50.085Z"
   },
   {
    "duration": 0,
    "start_time": "2022-04-10T20:31:50.086Z"
   },
   {
    "duration": 0,
    "start_time": "2022-04-10T20:31:50.139Z"
   },
   {
    "duration": 0,
    "start_time": "2022-04-10T20:31:50.141Z"
   },
   {
    "duration": 0,
    "start_time": "2022-04-10T20:31:50.142Z"
   },
   {
    "duration": 0,
    "start_time": "2022-04-10T20:31:50.144Z"
   },
   {
    "duration": 0,
    "start_time": "2022-04-10T20:31:50.145Z"
   },
   {
    "duration": 0,
    "start_time": "2022-04-10T20:31:50.148Z"
   },
   {
    "duration": 0,
    "start_time": "2022-04-10T20:31:50.149Z"
   },
   {
    "duration": 0,
    "start_time": "2022-04-10T20:31:50.151Z"
   },
   {
    "duration": 0,
    "start_time": "2022-04-10T20:31:50.152Z"
   },
   {
    "duration": 0,
    "start_time": "2022-04-10T20:31:50.154Z"
   },
   {
    "duration": 0,
    "start_time": "2022-04-10T20:31:50.155Z"
   },
   {
    "duration": 0,
    "start_time": "2022-04-10T20:31:50.156Z"
   },
   {
    "duration": 0,
    "start_time": "2022-04-10T20:31:50.158Z"
   },
   {
    "duration": 761,
    "start_time": "2022-04-10T20:36:32.445Z"
   },
   {
    "duration": 215,
    "start_time": "2022-04-10T20:36:33.208Z"
   },
   {
    "duration": 17,
    "start_time": "2022-04-10T20:36:33.425Z"
   },
   {
    "duration": 58,
    "start_time": "2022-04-10T20:36:33.445Z"
   },
   {
    "duration": 10,
    "start_time": "2022-04-10T20:36:33.505Z"
   },
   {
    "duration": 2129,
    "start_time": "2022-04-10T20:36:33.517Z"
   },
   {
    "duration": 0,
    "start_time": "2022-04-10T20:36:35.652Z"
   },
   {
    "duration": 0,
    "start_time": "2022-04-10T20:36:35.653Z"
   },
   {
    "duration": 0,
    "start_time": "2022-04-10T20:36:35.654Z"
   },
   {
    "duration": 0,
    "start_time": "2022-04-10T20:36:35.656Z"
   },
   {
    "duration": 0,
    "start_time": "2022-04-10T20:36:35.656Z"
   },
   {
    "duration": 0,
    "start_time": "2022-04-10T20:36:35.657Z"
   },
   {
    "duration": 0,
    "start_time": "2022-04-10T20:36:35.658Z"
   },
   {
    "duration": 0,
    "start_time": "2022-04-10T20:36:35.659Z"
   },
   {
    "duration": 0,
    "start_time": "2022-04-10T20:36:35.660Z"
   },
   {
    "duration": 0,
    "start_time": "2022-04-10T20:36:35.661Z"
   },
   {
    "duration": 0,
    "start_time": "2022-04-10T20:36:35.663Z"
   },
   {
    "duration": 0,
    "start_time": "2022-04-10T20:36:35.664Z"
   },
   {
    "duration": 0,
    "start_time": "2022-04-10T20:36:35.665Z"
   },
   {
    "duration": 0,
    "start_time": "2022-04-10T20:36:35.666Z"
   },
   {
    "duration": 0,
    "start_time": "2022-04-10T20:36:35.666Z"
   },
   {
    "duration": 0,
    "start_time": "2022-04-10T20:36:35.667Z"
   },
   {
    "duration": 0,
    "start_time": "2022-04-10T20:36:35.668Z"
   },
   {
    "duration": 0,
    "start_time": "2022-04-10T20:36:35.669Z"
   },
   {
    "duration": 0,
    "start_time": "2022-04-10T20:36:35.670Z"
   },
   {
    "duration": 0,
    "start_time": "2022-04-10T20:36:35.671Z"
   },
   {
    "duration": 0,
    "start_time": "2022-04-10T20:36:35.672Z"
   },
   {
    "duration": 0,
    "start_time": "2022-04-10T20:36:35.673Z"
   },
   {
    "duration": 0,
    "start_time": "2022-04-10T20:36:35.674Z"
   },
   {
    "duration": 0,
    "start_time": "2022-04-10T20:36:35.675Z"
   },
   {
    "duration": 0,
    "start_time": "2022-04-10T20:36:35.676Z"
   },
   {
    "duration": 0,
    "start_time": "2022-04-10T20:36:35.677Z"
   },
   {
    "duration": 0,
    "start_time": "2022-04-10T20:36:35.678Z"
   },
   {
    "duration": 0,
    "start_time": "2022-04-10T20:36:35.679Z"
   },
   {
    "duration": 0,
    "start_time": "2022-04-10T20:36:35.680Z"
   },
   {
    "duration": 0,
    "start_time": "2022-04-10T20:36:35.681Z"
   },
   {
    "duration": 0,
    "start_time": "2022-04-10T20:36:35.683Z"
   },
   {
    "duration": 0,
    "start_time": "2022-04-10T20:36:35.684Z"
   },
   {
    "duration": 0,
    "start_time": "2022-04-10T20:36:35.684Z"
   },
   {
    "duration": 0,
    "start_time": "2022-04-10T20:36:35.686Z"
   },
   {
    "duration": 0,
    "start_time": "2022-04-10T20:36:35.687Z"
   },
   {
    "duration": 0,
    "start_time": "2022-04-10T20:36:35.688Z"
   },
   {
    "duration": 0,
    "start_time": "2022-04-10T20:36:35.689Z"
   },
   {
    "duration": 0,
    "start_time": "2022-04-10T20:36:35.690Z"
   },
   {
    "duration": 0,
    "start_time": "2022-04-10T20:36:35.691Z"
   },
   {
    "duration": 0,
    "start_time": "2022-04-10T20:36:35.692Z"
   },
   {
    "duration": 0,
    "start_time": "2022-04-10T20:36:35.693Z"
   },
   {
    "duration": 0,
    "start_time": "2022-04-10T20:36:35.694Z"
   },
   {
    "duration": 0,
    "start_time": "2022-04-10T20:36:35.694Z"
   },
   {
    "duration": 0,
    "start_time": "2022-04-10T20:36:35.695Z"
   },
   {
    "duration": 0,
    "start_time": "2022-04-10T20:36:35.695Z"
   },
   {
    "duration": 0,
    "start_time": "2022-04-10T20:36:35.696Z"
   },
   {
    "duration": 0,
    "start_time": "2022-04-10T20:36:35.696Z"
   },
   {
    "duration": 0,
    "start_time": "2022-04-10T20:36:35.697Z"
   },
   {
    "duration": 0,
    "start_time": "2022-04-10T20:36:35.738Z"
   },
   {
    "duration": 0,
    "start_time": "2022-04-10T20:36:35.740Z"
   },
   {
    "duration": 0,
    "start_time": "2022-04-10T20:36:35.741Z"
   },
   {
    "duration": 0,
    "start_time": "2022-04-10T20:36:35.743Z"
   },
   {
    "duration": 0,
    "start_time": "2022-04-10T20:36:35.744Z"
   },
   {
    "duration": 0,
    "start_time": "2022-04-10T20:36:35.745Z"
   },
   {
    "duration": 0,
    "start_time": "2022-04-10T20:36:35.746Z"
   },
   {
    "duration": 0,
    "start_time": "2022-04-10T20:36:35.747Z"
   },
   {
    "duration": 0,
    "start_time": "2022-04-10T20:36:35.749Z"
   },
   {
    "duration": 0,
    "start_time": "2022-04-10T20:36:35.750Z"
   },
   {
    "duration": 0,
    "start_time": "2022-04-10T20:36:35.751Z"
   },
   {
    "duration": 0,
    "start_time": "2022-04-10T20:36:35.752Z"
   },
   {
    "duration": 0,
    "start_time": "2022-04-10T20:36:35.753Z"
   },
   {
    "duration": 0,
    "start_time": "2022-04-10T20:36:35.754Z"
   },
   {
    "duration": 0,
    "start_time": "2022-04-10T20:36:35.755Z"
   },
   {
    "duration": 0,
    "start_time": "2022-04-10T20:36:35.756Z"
   },
   {
    "duration": 0,
    "start_time": "2022-04-10T20:36:35.758Z"
   },
   {
    "duration": 1152,
    "start_time": "2022-04-12T17:06:53.941Z"
   },
   {
    "duration": 181,
    "start_time": "2022-04-12T17:06:55.095Z"
   },
   {
    "duration": 31,
    "start_time": "2022-04-12T17:06:55.280Z"
   },
   {
    "duration": 123,
    "start_time": "2022-04-12T17:06:55.315Z"
   },
   {
    "duration": 15,
    "start_time": "2022-04-12T17:06:55.441Z"
   },
   {
    "duration": 37,
    "start_time": "2022-04-12T17:06:55.458Z"
   },
   {
    "duration": 8,
    "start_time": "2022-04-12T17:06:55.498Z"
   },
   {
    "duration": 9,
    "start_time": "2022-04-12T17:06:55.509Z"
   },
   {
    "duration": 16,
    "start_time": "2022-04-12T17:06:55.521Z"
   },
   {
    "duration": 12,
    "start_time": "2022-04-12T17:06:55.593Z"
   },
   {
    "duration": 8,
    "start_time": "2022-04-12T17:06:55.607Z"
   },
   {
    "duration": 7,
    "start_time": "2022-04-12T17:06:55.617Z"
   },
   {
    "duration": 8,
    "start_time": "2022-04-12T17:06:55.627Z"
   },
   {
    "duration": 70,
    "start_time": "2022-04-12T17:06:55.638Z"
   },
   {
    "duration": 13,
    "start_time": "2022-04-12T17:06:55.711Z"
   },
   {
    "duration": 20,
    "start_time": "2022-04-12T17:06:55.726Z"
   },
   {
    "duration": 54,
    "start_time": "2022-04-12T17:06:55.749Z"
   },
   {
    "duration": 23,
    "start_time": "2022-04-12T17:06:55.806Z"
   },
   {
    "duration": 23,
    "start_time": "2022-04-12T17:06:55.832Z"
   },
   {
    "duration": 8,
    "start_time": "2022-04-12T17:06:55.893Z"
   },
   {
    "duration": 24,
    "start_time": "2022-04-12T17:06:55.903Z"
   },
   {
    "duration": 248,
    "start_time": "2022-04-12T17:06:55.929Z"
   },
   {
    "duration": 18,
    "start_time": "2022-04-12T17:06:56.180Z"
   },
   {
    "duration": 11,
    "start_time": "2022-04-12T17:06:56.200Z"
   },
   {
    "duration": 9,
    "start_time": "2022-04-12T17:06:56.213Z"
   },
   {
    "duration": 11,
    "start_time": "2022-04-12T17:06:56.224Z"
   },
   {
    "duration": 62,
    "start_time": "2022-04-12T17:06:56.238Z"
   },
   {
    "duration": 31,
    "start_time": "2022-04-12T17:06:56.309Z"
   },
   {
    "duration": 61,
    "start_time": "2022-04-12T17:06:56.342Z"
   },
   {
    "duration": 6,
    "start_time": "2022-04-12T17:06:56.406Z"
   },
   {
    "duration": 9,
    "start_time": "2022-04-12T17:06:56.415Z"
   },
   {
    "duration": 1269,
    "start_time": "2022-04-12T17:06:56.426Z"
   },
   {
    "duration": 33,
    "start_time": "2022-04-12T17:06:57.698Z"
   },
   {
    "duration": 353,
    "start_time": "2022-04-12T17:06:57.734Z"
   },
   {
    "duration": 436,
    "start_time": "2022-04-12T17:06:58.094Z"
   },
   {
    "duration": 243,
    "start_time": "2022-04-12T17:06:58.532Z"
   },
   {
    "duration": 241,
    "start_time": "2022-04-12T17:06:58.778Z"
   },
   {
    "duration": 19,
    "start_time": "2022-04-12T17:06:59.022Z"
   },
   {
    "duration": 207,
    "start_time": "2022-04-12T17:06:59.043Z"
   },
   {
    "duration": 392,
    "start_time": "2022-04-12T17:06:59.253Z"
   },
   {
    "duration": 16,
    "start_time": "2022-04-12T17:06:59.648Z"
   },
   {
    "duration": 209,
    "start_time": "2022-04-12T17:06:59.666Z"
   },
   {
    "duration": 23,
    "start_time": "2022-04-12T17:06:59.877Z"
   },
   {
    "duration": 388,
    "start_time": "2022-04-12T17:06:59.902Z"
   },
   {
    "duration": 252,
    "start_time": "2022-04-12T17:07:00.292Z"
   },
   {
    "duration": 187,
    "start_time": "2022-04-12T17:07:00.547Z"
   },
   {
    "duration": 243,
    "start_time": "2022-04-12T17:07:00.736Z"
   },
   {
    "duration": 241,
    "start_time": "2022-04-12T17:07:00.982Z"
   },
   {
    "duration": 227,
    "start_time": "2022-04-12T17:07:01.226Z"
   },
   {
    "duration": 246,
    "start_time": "2022-04-12T17:07:01.455Z"
   },
   {
    "duration": 25,
    "start_time": "2022-04-12T17:07:01.703Z"
   },
   {
    "duration": 12,
    "start_time": "2022-04-12T17:07:01.730Z"
   },
   {
    "duration": 73,
    "start_time": "2022-04-12T17:07:01.744Z"
   },
   {
    "duration": 11,
    "start_time": "2022-04-12T17:07:01.819Z"
   },
   {
    "duration": 375,
    "start_time": "2022-04-12T17:07:01.832Z"
   },
   {
    "duration": 15,
    "start_time": "2022-04-12T17:07:02.210Z"
   },
   {
    "duration": 41,
    "start_time": "2022-04-12T17:07:02.228Z"
   },
   {
    "duration": 44,
    "start_time": "2022-04-12T17:07:02.272Z"
   },
   {
    "duration": 611,
    "start_time": "2022-04-12T17:07:02.318Z"
   },
   {
    "duration": 11,
    "start_time": "2022-04-12T17:07:02.931Z"
   },
   {
    "duration": 51,
    "start_time": "2022-04-12T17:07:02.944Z"
   },
   {
    "duration": 32,
    "start_time": "2022-04-12T17:07:02.998Z"
   },
   {
    "duration": 460,
    "start_time": "2022-04-12T17:07:03.033Z"
   },
   {
    "duration": 570,
    "start_time": "2022-04-12T17:07:03.495Z"
   },
   {
    "duration": 251,
    "start_time": "2022-04-12T17:07:04.068Z"
   },
   {
    "duration": 281,
    "start_time": "2022-04-12T17:07:04.322Z"
   },
   {
    "duration": 606,
    "start_time": "2022-04-12T17:07:04.605Z"
   },
   {
    "duration": 181,
    "start_time": "2022-04-12T17:07:05.214Z"
   },
   {
    "duration": 19,
    "start_time": "2022-04-12T17:07:05.397Z"
   },
   {
    "duration": 180,
    "start_time": "2022-04-12T17:07:05.418Z"
   },
   {
    "duration": 19,
    "start_time": "2022-04-12T17:07:05.600Z"
   },
   {
    "duration": 112,
    "start_time": "2022-04-12T17:13:06.921Z"
   },
   {
    "duration": 12,
    "start_time": "2022-04-12T17:14:37.535Z"
   },
   {
    "duration": 10,
    "start_time": "2022-04-12T17:14:47.412Z"
   },
   {
    "duration": 21,
    "start_time": "2022-04-12T17:14:59.530Z"
   },
   {
    "duration": 996,
    "start_time": "2022-04-12T17:16:12.814Z"
   },
   {
    "duration": 139,
    "start_time": "2022-04-12T17:16:13.814Z"
   },
   {
    "duration": 44,
    "start_time": "2022-04-12T17:16:13.956Z"
   },
   {
    "duration": 108,
    "start_time": "2022-04-12T17:16:14.004Z"
   },
   {
    "duration": 18,
    "start_time": "2022-04-12T17:16:14.115Z"
   },
   {
    "duration": 10,
    "start_time": "2022-04-12T17:16:14.135Z"
   },
   {
    "duration": 8,
    "start_time": "2022-04-12T17:16:14.147Z"
   },
   {
    "duration": 52,
    "start_time": "2022-04-12T17:16:14.158Z"
   },
   {
    "duration": 19,
    "start_time": "2022-04-12T17:16:14.213Z"
   },
   {
    "duration": 12,
    "start_time": "2022-04-12T17:16:14.235Z"
   },
   {
    "duration": 7,
    "start_time": "2022-04-12T17:16:14.250Z"
   },
   {
    "duration": 58,
    "start_time": "2022-04-12T17:16:14.260Z"
   },
   {
    "duration": 8,
    "start_time": "2022-04-12T17:16:14.320Z"
   },
   {
    "duration": 29,
    "start_time": "2022-04-12T17:16:14.330Z"
   },
   {
    "duration": 11,
    "start_time": "2022-04-12T17:16:14.361Z"
   },
   {
    "duration": 21,
    "start_time": "2022-04-12T17:16:14.396Z"
   },
   {
    "duration": 17,
    "start_time": "2022-04-12T17:16:14.420Z"
   },
   {
    "duration": 18,
    "start_time": "2022-04-12T17:16:14.439Z"
   },
   {
    "duration": 54,
    "start_time": "2022-04-12T17:16:14.459Z"
   },
   {
    "duration": 10,
    "start_time": "2022-04-12T17:16:14.515Z"
   },
   {
    "duration": 19,
    "start_time": "2022-04-12T17:16:14.527Z"
   },
   {
    "duration": 248,
    "start_time": "2022-04-12T17:16:14.548Z"
   },
   {
    "duration": 16,
    "start_time": "2022-04-12T17:16:14.798Z"
   },
   {
    "duration": 11,
    "start_time": "2022-04-12T17:16:14.818Z"
   },
   {
    "duration": 5,
    "start_time": "2022-04-12T17:16:28.031Z"
   },
   {
    "duration": 7,
    "start_time": "2022-04-12T17:16:37.669Z"
   },
   {
    "duration": 8,
    "start_time": "2022-04-12T17:17:56.981Z"
   },
   {
    "duration": 12,
    "start_time": "2022-04-12T17:18:56.925Z"
   },
   {
    "duration": 15,
    "start_time": "2022-04-12T17:19:00.449Z"
   },
   {
    "duration": 31,
    "start_time": "2022-04-12T17:19:04.742Z"
   },
   {
    "duration": 32,
    "start_time": "2022-04-12T17:19:06.860Z"
   },
   {
    "duration": 6,
    "start_time": "2022-04-12T17:19:07.382Z"
   },
   {
    "duration": 7,
    "start_time": "2022-04-12T17:19:07.929Z"
   },
   {
    "duration": 1292,
    "start_time": "2022-04-12T17:19:10.469Z"
   },
   {
    "duration": 35,
    "start_time": "2022-04-12T17:19:13.088Z"
   },
   {
    "duration": 330,
    "start_time": "2022-04-12T17:19:15.308Z"
   },
   {
    "duration": 433,
    "start_time": "2022-04-12T17:19:15.640Z"
   },
   {
    "duration": 248,
    "start_time": "2022-04-12T17:19:16.076Z"
   },
   {
    "duration": 248,
    "start_time": "2022-04-12T17:19:16.326Z"
   },
   {
    "duration": 20,
    "start_time": "2022-04-12T17:19:19.113Z"
   },
   {
    "duration": 192,
    "start_time": "2022-04-12T17:19:21.109Z"
   },
   {
    "duration": 447,
    "start_time": "2022-04-12T17:19:24.377Z"
   },
   {
    "duration": 15,
    "start_time": "2022-04-12T17:19:31.055Z"
   },
   {
    "duration": 22,
    "start_time": "2022-04-12T17:20:09.921Z"
   },
   {
    "duration": 29,
    "start_time": "2022-04-12T17:21:08.049Z"
   },
   {
    "duration": 18,
    "start_time": "2022-04-12T17:21:47.562Z"
   },
   {
    "duration": 27,
    "start_time": "2022-04-12T17:21:59.451Z"
   },
   {
    "duration": 19,
    "start_time": "2022-04-12T17:22:09.461Z"
   },
   {
    "duration": 240,
    "start_time": "2022-04-12T17:22:24.863Z"
   },
   {
    "duration": 15,
    "start_time": "2022-04-12T17:22:35.356Z"
   },
   {
    "duration": 15,
    "start_time": "2022-04-12T17:22:40.552Z"
   },
   {
    "duration": 19,
    "start_time": "2022-04-12T17:25:34.368Z"
   },
   {
    "duration": 337,
    "start_time": "2022-04-12T17:25:41.066Z"
   },
   {
    "duration": 210,
    "start_time": "2022-04-12T17:25:44.830Z"
   },
   {
    "duration": 258,
    "start_time": "2022-04-12T17:25:50.584Z"
   },
   {
    "duration": 216,
    "start_time": "2022-04-12T17:25:59.854Z"
   },
   {
    "duration": 92,
    "start_time": "2022-04-12T17:29:45.115Z"
   },
   {
    "duration": 8,
    "start_time": "2022-04-12T17:30:18.907Z"
   },
   {
    "duration": 32,
    "start_time": "2022-04-12T17:30:29.578Z"
   },
   {
    "duration": 15,
    "start_time": "2022-04-12T17:31:02.045Z"
   },
   {
    "duration": 61,
    "start_time": "2022-04-12T17:31:41.881Z"
   },
   {
    "duration": 20,
    "start_time": "2022-04-12T17:31:52.144Z"
   },
   {
    "duration": 19,
    "start_time": "2022-04-12T17:31:55.301Z"
   },
   {
    "duration": 21,
    "start_time": "2022-04-12T17:32:19.005Z"
   },
   {
    "duration": 219,
    "start_time": "2022-04-12T17:32:51.034Z"
   },
   {
    "duration": 314,
    "start_time": "2022-04-12T17:32:51.685Z"
   },
   {
    "duration": 237,
    "start_time": "2022-04-12T17:32:54.880Z"
   },
   {
    "duration": 39,
    "start_time": "2022-04-12T17:33:13.127Z"
   },
   {
    "duration": 13,
    "start_time": "2022-04-12T17:38:48.206Z"
   },
   {
    "duration": 39,
    "start_time": "2022-04-12T17:38:51.356Z"
   },
   {
    "duration": 1218,
    "start_time": "2022-04-12T17:39:16.689Z"
   },
   {
    "duration": 132,
    "start_time": "2022-04-12T17:39:17.910Z"
   },
   {
    "duration": 24,
    "start_time": "2022-04-12T17:39:18.045Z"
   },
   {
    "duration": 107,
    "start_time": "2022-04-12T17:39:18.073Z"
   },
   {
    "duration": 16,
    "start_time": "2022-04-12T17:39:18.193Z"
   },
   {
    "duration": 16,
    "start_time": "2022-04-12T17:39:18.211Z"
   },
   {
    "duration": 7,
    "start_time": "2022-04-12T17:39:18.230Z"
   },
   {
    "duration": 9,
    "start_time": "2022-04-12T17:39:18.239Z"
   },
   {
    "duration": 55,
    "start_time": "2022-04-12T17:39:18.250Z"
   },
   {
    "duration": 14,
    "start_time": "2022-04-12T17:39:18.309Z"
   },
   {
    "duration": 9,
    "start_time": "2022-04-12T17:39:18.325Z"
   },
   {
    "duration": 7,
    "start_time": "2022-04-12T17:39:18.336Z"
   },
   {
    "duration": 7,
    "start_time": "2022-04-12T17:39:18.346Z"
   },
   {
    "duration": 60,
    "start_time": "2022-04-12T17:39:18.355Z"
   },
   {
    "duration": 9,
    "start_time": "2022-04-12T17:39:18.418Z"
   },
   {
    "duration": 15,
    "start_time": "2022-04-12T17:39:18.429Z"
   },
   {
    "duration": 11,
    "start_time": "2022-04-12T17:39:18.446Z"
   },
   {
    "duration": 21,
    "start_time": "2022-04-12T17:39:18.496Z"
   },
   {
    "duration": 16,
    "start_time": "2022-04-12T17:39:18.520Z"
   },
   {
    "duration": 8,
    "start_time": "2022-04-12T17:39:18.538Z"
   },
   {
    "duration": 55,
    "start_time": "2022-04-12T17:39:18.549Z"
   },
   {
    "duration": 223,
    "start_time": "2022-04-12T17:39:18.610Z"
   },
   {
    "duration": 9,
    "start_time": "2022-04-12T17:39:18.835Z"
   },
   {
    "duration": 9,
    "start_time": "2022-04-12T17:39:18.847Z"
   },
   {
    "duration": 6,
    "start_time": "2022-04-12T17:39:18.858Z"
   },
   {
    "duration": 37,
    "start_time": "2022-04-12T17:39:18.866Z"
   },
   {
    "duration": 22,
    "start_time": "2022-04-12T17:39:18.905Z"
   },
   {
    "duration": 60,
    "start_time": "2022-04-12T17:39:18.934Z"
   },
   {
    "duration": 36,
    "start_time": "2022-04-12T17:39:18.996Z"
   },
   {
    "duration": 5,
    "start_time": "2022-04-12T17:39:19.034Z"
   },
   {
    "duration": 8,
    "start_time": "2022-04-12T17:39:19.042Z"
   },
   {
    "duration": 1412,
    "start_time": "2022-04-12T17:39:19.053Z"
   },
   {
    "duration": 47,
    "start_time": "2022-04-12T17:39:20.467Z"
   },
   {
    "duration": 624,
    "start_time": "2022-04-12T17:39:20.517Z"
   },
   {
    "duration": 571,
    "start_time": "2022-04-12T17:39:21.143Z"
   },
   {
    "duration": 258,
    "start_time": "2022-04-12T17:39:21.716Z"
   },
   {
    "duration": 255,
    "start_time": "2022-04-12T17:39:21.976Z"
   },
   {
    "duration": 18,
    "start_time": "2022-04-12T17:39:22.234Z"
   },
   {
    "duration": 232,
    "start_time": "2022-04-12T17:39:22.254Z"
   },
   {
    "duration": 401,
    "start_time": "2022-04-12T17:39:22.492Z"
   },
   {
    "duration": 20,
    "start_time": "2022-04-12T17:39:22.896Z"
   },
   {
    "duration": 208,
    "start_time": "2022-04-12T17:39:22.918Z"
   },
   {
    "duration": 18,
    "start_time": "2022-04-12T17:39:23.129Z"
   },
   {
    "duration": 404,
    "start_time": "2022-04-12T17:39:23.149Z"
   },
   {
    "duration": 262,
    "start_time": "2022-04-12T17:39:23.555Z"
   },
   {
    "duration": 182,
    "start_time": "2022-04-12T17:39:23.819Z"
   },
   {
    "duration": 237,
    "start_time": "2022-04-12T17:39:24.004Z"
   },
   {
    "duration": 249,
    "start_time": "2022-04-12T17:39:24.244Z"
   },
   {
    "duration": 223,
    "start_time": "2022-04-12T17:39:24.496Z"
   },
   {
    "duration": 238,
    "start_time": "2022-04-12T17:39:24.721Z"
   },
   {
    "duration": 37,
    "start_time": "2022-04-12T17:39:24.961Z"
   },
   {
    "duration": 14,
    "start_time": "2022-04-12T17:39:25.001Z"
   },
   {
    "duration": 38,
    "start_time": "2022-04-12T17:39:25.017Z"
   },
   {
    "duration": 44,
    "start_time": "2022-04-12T17:39:25.057Z"
   },
   {
    "duration": 366,
    "start_time": "2022-04-12T17:39:25.104Z"
   },
   {
    "duration": 23,
    "start_time": "2022-04-12T17:39:25.472Z"
   },
   {
    "duration": 39,
    "start_time": "2022-04-12T17:39:25.501Z"
   },
   {
    "duration": 55,
    "start_time": "2022-04-12T17:39:25.542Z"
   },
   {
    "duration": 620,
    "start_time": "2022-04-12T17:39:25.599Z"
   },
   {
    "duration": 10,
    "start_time": "2022-04-12T17:39:26.222Z"
   },
   {
    "duration": 31,
    "start_time": "2022-04-12T17:39:26.234Z"
   },
   {
    "duration": 57,
    "start_time": "2022-04-12T17:39:26.267Z"
   },
   {
    "duration": 450,
    "start_time": "2022-04-12T17:39:26.326Z"
   },
   {
    "duration": 429,
    "start_time": "2022-04-12T17:39:26.778Z"
   },
   {
    "duration": 251,
    "start_time": "2022-04-12T17:39:27.211Z"
   },
   {
    "duration": 467,
    "start_time": "2022-04-12T17:39:27.464Z"
   },
   {
    "duration": 720,
    "start_time": "2022-04-12T17:39:27.934Z"
   },
   {
    "duration": 185,
    "start_time": "2022-04-12T17:39:28.657Z"
   },
   {
    "duration": 19,
    "start_time": "2022-04-12T17:39:28.845Z"
   },
   {
    "duration": 201,
    "start_time": "2022-04-12T17:39:28.867Z"
   },
   {
    "duration": 36,
    "start_time": "2022-04-12T17:39:29.071Z"
   },
   {
    "duration": 1228,
    "start_time": "2022-04-12T17:44:18.439Z"
   },
   {
    "duration": 190,
    "start_time": "2022-04-12T17:44:19.671Z"
   },
   {
    "duration": 40,
    "start_time": "2022-04-12T17:44:19.863Z"
   },
   {
    "duration": 157,
    "start_time": "2022-04-12T17:44:19.907Z"
   },
   {
    "duration": 28,
    "start_time": "2022-04-12T17:44:20.067Z"
   },
   {
    "duration": 12,
    "start_time": "2022-04-12T17:44:20.098Z"
   },
   {
    "duration": 8,
    "start_time": "2022-04-12T17:44:20.114Z"
   },
   {
    "duration": 10,
    "start_time": "2022-04-12T17:44:20.125Z"
   },
   {
    "duration": 12,
    "start_time": "2022-04-12T17:44:20.138Z"
   },
   {
    "duration": 16,
    "start_time": "2022-04-12T17:44:20.155Z"
   },
   {
    "duration": 21,
    "start_time": "2022-04-12T17:44:20.174Z"
   },
   {
    "duration": 12,
    "start_time": "2022-04-12T17:44:20.198Z"
   },
   {
    "duration": 9,
    "start_time": "2022-04-12T17:44:20.213Z"
   },
   {
    "duration": 23,
    "start_time": "2022-04-12T17:44:20.225Z"
   },
   {
    "duration": 11,
    "start_time": "2022-04-12T17:44:20.250Z"
   },
   {
    "duration": 34,
    "start_time": "2022-04-12T17:44:20.263Z"
   },
   {
    "duration": 19,
    "start_time": "2022-04-12T17:44:20.299Z"
   },
   {
    "duration": 23,
    "start_time": "2022-04-12T17:44:20.321Z"
   },
   {
    "duration": 18,
    "start_time": "2022-04-12T17:44:20.346Z"
   },
   {
    "duration": 25,
    "start_time": "2022-04-12T17:44:20.367Z"
   },
   {
    "duration": 26,
    "start_time": "2022-04-12T17:44:20.395Z"
   },
   {
    "duration": 225,
    "start_time": "2022-04-12T17:44:20.424Z"
   },
   {
    "duration": 11,
    "start_time": "2022-04-12T17:44:20.652Z"
   },
   {
    "duration": 17,
    "start_time": "2022-04-12T17:44:20.666Z"
   },
   {
    "duration": 12,
    "start_time": "2022-04-12T17:44:20.686Z"
   },
   {
    "duration": 22,
    "start_time": "2022-04-12T17:44:20.700Z"
   },
   {
    "duration": 17,
    "start_time": "2022-04-12T17:44:20.724Z"
   },
   {
    "duration": 46,
    "start_time": "2022-04-12T17:44:20.749Z"
   },
   {
    "duration": 31,
    "start_time": "2022-04-12T17:44:20.797Z"
   },
   {
    "duration": 6,
    "start_time": "2022-04-12T17:44:20.830Z"
   },
   {
    "duration": 7,
    "start_time": "2022-04-12T17:44:20.894Z"
   },
   {
    "duration": 2533,
    "start_time": "2022-04-12T17:44:20.904Z"
   },
   {
    "duration": 83,
    "start_time": "2022-04-12T17:44:23.440Z"
   },
   {
    "duration": 675,
    "start_time": "2022-04-12T17:44:23.525Z"
   },
   {
    "duration": 464,
    "start_time": "2022-04-12T17:44:24.202Z"
   },
   {
    "duration": 256,
    "start_time": "2022-04-12T17:44:24.669Z"
   },
   {
    "duration": 456,
    "start_time": "2022-04-12T17:44:24.927Z"
   },
   {
    "duration": 26,
    "start_time": "2022-04-12T17:44:25.394Z"
   },
   {
    "duration": 294,
    "start_time": "2022-04-12T17:44:25.423Z"
   },
   {
    "duration": 434,
    "start_time": "2022-04-12T17:44:25.721Z"
   },
   {
    "duration": 35,
    "start_time": "2022-04-12T17:44:26.158Z"
   },
   {
    "duration": 206,
    "start_time": "2022-04-12T17:44:26.196Z"
   },
   {
    "duration": 22,
    "start_time": "2022-04-12T17:44:26.405Z"
   },
   {
    "duration": 420,
    "start_time": "2022-04-12T17:44:26.431Z"
   },
   {
    "duration": 349,
    "start_time": "2022-04-12T17:44:26.854Z"
   },
   {
    "duration": 183,
    "start_time": "2022-04-12T17:44:27.206Z"
   },
   {
    "duration": 240,
    "start_time": "2022-04-12T17:44:27.393Z"
   },
   {
    "duration": 237,
    "start_time": "2022-04-12T17:44:27.635Z"
   },
   {
    "duration": 236,
    "start_time": "2022-04-12T17:44:27.874Z"
   },
   {
    "duration": 250,
    "start_time": "2022-04-12T17:44:28.113Z"
   },
   {
    "duration": 40,
    "start_time": "2022-04-12T17:44:28.366Z"
   },
   {
    "duration": 15,
    "start_time": "2022-04-12T17:44:28.409Z"
   },
   {
    "duration": 67,
    "start_time": "2022-04-12T17:44:28.426Z"
   },
   {
    "duration": 12,
    "start_time": "2022-04-12T17:44:28.495Z"
   },
   {
    "duration": 369,
    "start_time": "2022-04-12T17:44:28.509Z"
   },
   {
    "duration": 16,
    "start_time": "2022-04-12T17:44:28.893Z"
   },
   {
    "duration": 34,
    "start_time": "2022-04-12T17:44:28.912Z"
   },
   {
    "duration": 65,
    "start_time": "2022-04-12T17:44:28.949Z"
   },
   {
    "duration": 792,
    "start_time": "2022-04-12T17:44:29.016Z"
   },
   {
    "duration": 14,
    "start_time": "2022-04-12T17:44:29.811Z"
   },
   {
    "duration": 39,
    "start_time": "2022-04-12T17:44:29.828Z"
   },
   {
    "duration": 41,
    "start_time": "2022-04-12T17:44:29.893Z"
   },
   {
    "duration": 462,
    "start_time": "2022-04-12T17:44:29.937Z"
   },
   {
    "duration": 478,
    "start_time": "2022-04-12T17:44:30.401Z"
   },
   {
    "duration": 256,
    "start_time": "2022-04-12T17:44:30.882Z"
   },
   {
    "duration": 298,
    "start_time": "2022-04-12T17:44:31.141Z"
   },
   {
    "duration": 616,
    "start_time": "2022-04-12T17:44:31.441Z"
   },
   {
    "duration": 240,
    "start_time": "2022-04-12T17:44:32.059Z"
   },
   {
    "duration": 18,
    "start_time": "2022-04-12T17:44:32.301Z"
   },
   {
    "duration": 187,
    "start_time": "2022-04-12T17:44:32.322Z"
   },
   {
    "duration": 19,
    "start_time": "2022-04-12T17:44:32.512Z"
   }
  ],
  "kernelspec": {
   "display_name": "Python 3 (ipykernel)",
   "language": "python",
   "name": "python3"
  },
  "language_info": {
   "codemirror_mode": {
    "name": "ipython",
    "version": 3
   },
   "file_extension": ".py",
   "mimetype": "text/x-python",
   "name": "python",
   "nbconvert_exporter": "python",
   "pygments_lexer": "ipython3",
   "version": "3.9.7"
  },
  "toc": {
   "base_numbering": 1,
   "nav_menu": {},
   "number_sections": true,
   "sideBar": true,
   "skip_h1_title": true,
   "title_cell": "Содержание",
   "title_sidebar": "Contents",
   "toc_cell": true,
   "toc_position": {
    "height": "calc(100% - 180px)",
    "left": "10px",
    "top": "150px",
    "width": "165px"
   },
   "toc_section_display": true,
   "toc_window_display": true
  }
 },
 "nbformat": 4,
 "nbformat_minor": 4
}
